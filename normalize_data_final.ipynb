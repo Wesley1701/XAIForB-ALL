{
 "cells": [
  {
   "metadata": {
    "ExecuteTime": {
     "end_time": "2025-06-12T12:07:40.648601Z",
     "start_time": "2025-06-12T12:07:40.646855Z"
    }
   },
   "cell_type": "code",
   "source": [
    "# Jupyter Notebook: Final Data Normalization with PyDESeq2\n",
    "\n",
    "# ## 1. Introduction and Setup\n",
    "# This notebook takes the correctly merged raw count data and its corresponding\n",
    "# simple metadata to perform Variance Stabilizing Transformation (VST).\n",
    "# The input files should have perfectly matching sample IDs.\n",
    "\n",
    "import pandas as pd\n",
    "import numpy as np\n",
    "from pydeseq2.dds import DeseqDataSet\n",
    "from pydeseq2.ds import DeseqStats\n",
    "import os"
   ],
   "id": "3c94fb5586af5c8d",
   "outputs": [],
   "execution_count": 13
  },
  {
   "metadata": {
    "ExecuteTime": {
     "end_time": "2025-06-12T12:03:16.713851Z",
     "start_time": "2025-06-12T12:03:16.711097Z"
    }
   },
   "cell_type": "code",
   "source": [
    "# ## 2. Configuration and File Paths\n",
    "# --- UPDATE THESE PATHS ---\n",
    "\n",
    "# Input file for your CORRECTLY MERGED RAW gene counts.\n",
    "# This is the output from your 'corrected_data_merging_notebook'.\n",
    "RAW_COUNTS_FILE = 'metadata/merged dataset/merged_dataset.csv'\n",
    "\n",
    "# Input file for your SIMPLE METADATA.\n",
    "# This is the output from your 'simple_metadata_creation_notebook'.\n",
    "METADATA_FILE = 'metadata/simple_metadata_for_pydeseq2.csv'\n",
    "\n",
    "# --- Output File ---\n",
    "# Path to save the final VST transformed data\n",
    "VST_TRANSFORMED_FILE = 'data/final_vst_transformed_data.csv'\n",
    "\n",
    "# --- Design Configuration ---\n",
    "DESIGN_FORMULA = '~condition'\n",
    "\n",
    "# Create data directory if it doesn't exist\n",
    "os.makedirs('data', exist_ok=True)\n"
   ],
   "id": "858e958ced084323",
   "outputs": [],
   "execution_count": 5
  },
  {
   "metadata": {
    "ExecuteTime": {
     "end_time": "2025-06-12T12:07:40.627812Z",
     "start_time": "2025-06-12T12:07:36.823513Z"
    }
   },
   "cell_type": "code",
   "source": [
    "# ## 3. Load Datasets\n",
    "print(f\"--- Loading Final Datasets ---\")\n",
    "# ### 3.1 Load Combined Raw Count Data\n",
    "print(f\"Loading combined raw count data from: {RAW_COUNTS_FILE}\")\n",
    "raw_counts_df = pd.DataFrame()\n",
    "if os.path.exists(RAW_COUNTS_FILE):\n",
    "    raw_counts_df = pd.read_csv(RAW_COUNTS_FILE, index_col=0, low_memory=False) # First column is SAMPID\n",
    "    print(f\"✓ Raw counts data loaded. Shape: {raw_counts_df.shape}\")\n",
    "else:\n",
    "    print(f\"❌ ERROR: Combined raw counts file not found at {RAW_COUNTS_FILE}.\")\n",
    "\n",
    "# ### 3.2 Load Combined Metadata\n",
    "print(f\"\\nLoading combined metadata from: {METADATA_FILE}\")\n",
    "metadata_df = pd.DataFrame()\n",
    "if os.path.exists(METADATA_FILE):\n",
    "    metadata_df = pd.read_csv(METADATA_FILE, index_col=0, low_memory=False) # First column is SAMPID\n",
    "    print(f\"✓ Metadata loaded. Shape: {metadata_df.shape}\")\n",
    "else:\n",
    "    print(f\"❌ ERROR: Combined metadata file not found at {METADATA_FILE}.\")\n"
   ],
   "id": "bce0b2d1522cc659",
   "outputs": [
    {
     "name": "stdout",
     "output_type": "stream",
     "text": [
      "--- Loading Final Datasets ---\n",
      "Loading combined raw count data from: metadata/merged dataset/merged_dataset.csv\n",
      "✓ Raw counts data loaded. Shape: (1895, 58086)\n",
      "\n",
      "Loading combined metadata from: data/simple_metadata_for_pydeseq2.csv\n",
      "✓ Metadata loaded. Shape: (1895, 1)\n"
     ]
    }
   ],
   "execution_count": 12
  },
  {
   "metadata": {
    "ExecuteTime": {
     "end_time": "2025-06-12T12:07:36.806464Z",
     "start_time": "2025-06-12T12:07:36.651991Z"
    }
   },
   "cell_type": "code",
   "source": [
    "# ## 4. Prepare and Verify Data for PyDESeq2\n",
    "if not raw_counts_df.empty and not metadata_df.empty:\n",
    "    print(\"\\n--- Verifying and Aligning Data ---\")\n",
    "\n",
    "    # Align samples between count data and metadata\n",
    "    common_samples = raw_counts_df.index.intersection(metadata_df.index)\n",
    "\n",
    "    print(f\"Found {len(common_samples)} common samples between counts and metadata.\")\n",
    "\n",
    "    if len(common_samples) < len(raw_counts_df) or len(common_samples) < len(metadata_df):\n",
    "        print(f\"WARNING: Not all samples were common. Filtering to keep only the {len(common_samples)} matching samples.\")\n",
    "    else:\n",
    "        print(\"✓ All samples in counts and metadata match.\")\n",
    "\n",
    "    # Filter to keep only the common samples and ensure same order\n",
    "    raw_counts_df = raw_counts_df.loc[common_samples]\n",
    "    metadata_df = metadata_df.loc[common_samples]\n",
    "\n",
    "    print(f\"Final aligned counts data shape: {raw_counts_df.shape}\")\n",
    "    print(f\"Final aligned metadata shape: {metadata_df.shape}\")\n",
    "\n",
    "    # Verify the condition column\n",
    "    condition_col_name = DESIGN_FORMULA.strip('~')\n",
    "    if condition_col_name not in metadata_df.columns:\n",
    "        print(f\"❌ ERROR: The design column '{condition_col_name}' is NOT in your metadata.\")\n",
    "        metadata_df = pd.DataFrame() # Make empty to stop execution\n",
    "    else:\n",
    "        print(f\"\\nCondition column ('{condition_col_name}') looks good. Value counts:\")\n",
    "        print(metadata_df[condition_col_name].value_counts())\n",
    "\n",
    "else:\n",
    "    print(\"\\nSkipping PyDESeq2 processing due to missing data or metadata.\")\n"
   ],
   "id": "5cad2facb3ccd897",
   "outputs": [
    {
     "name": "stdout",
     "output_type": "stream",
     "text": [
      "\n",
      "--- Verifying and Aligning Data ---\n",
      "Found 1895 common samples between counts and metadata.\n",
      "✓ All samples in counts and metadata match.\n",
      "Final aligned counts data shape: (1895, 58086)\n",
      "Final aligned metadata shape: (1895, 1)\n",
      "\n",
      "Condition column ('condition') looks good. Value counts:\n",
      "condition\n",
      "healthy      1000\n",
      "unhealthy     895\n",
      "Name: count, dtype: int64\n"
     ]
    }
   ],
   "execution_count": 11
  }
 ],
 "metadata": {
  "kernelspec": {
   "display_name": "Python 3",
   "language": "python",
   "name": "python3"
  },
  "language_info": {
   "codemirror_mode": {
    "name": "ipython",
    "version": 2
   },
   "file_extension": ".py",
   "mimetype": "text/x-python",
   "name": "python",
   "nbconvert_exporter": "python",
   "pygments_lexer": "ipython2",
   "version": "2.7.6"
  }
 },
 "nbformat": 4,
 "nbformat_minor": 5
}
