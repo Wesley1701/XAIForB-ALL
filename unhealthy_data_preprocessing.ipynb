{
 "cells": [
  {
   "cell_type": "code",
   "execution_count": null,
   "id": "0",
   "metadata": {},
   "outputs": [],
   "source": [
    "import pandas as pd\n",
    "import os"
   ]
  },
  {
   "cell_type": "code",
   "execution_count": null,
   "id": "1",
   "metadata": {},
   "outputs": [],
   "source": [
    "df = pd.read_csv('data/unhealthy_data_aligned.csv')\n",
    "df.head(5)\n",
    "# df.info()\n",
    "# object_columns = df.select_dtypes(include=['object']).columns.tolist()\n",
    "# print(\"Object columns:\", object_columns)\n",
    "\n",
    "# numeric_cols = df.select_dtypes(include=['int64']).columns\n",
    "# print(\"Min value:\", df[numeric_cols].min().min())\n",
    "# print(\"Max value:\", df[numeric_cols].max().max())\n",
    "\n",
    "# df[numeric_cols] = df[numeric_cols].astype('uint32')\n",
    "    \n",
    "# df.info()"
   ]
  },
  {
   "cell_type": "markdown",
   "id": "2",
   "metadata": {},
   "source": [
    "## Handle null values"
   ]
  },
  {
   "cell_type": "code",
   "execution_count": null,
   "id": "3",
   "metadata": {},
   "outputs": [],
   "source": [
    "df.isnull().sum()"
   ]
  },
  {
   "cell_type": "code",
   "execution_count": null,
   "id": "4",
   "metadata": {},
   "outputs": [],
   "source": [
    "df.dropna(inplace=True)\n",
    "df"
   ]
  },
  {
   "cell_type": "markdown",
   "id": "5",
   "metadata": {},
   "source": [
    "## Removing duplicate rows"
   ]
  },
  {
   "cell_type": "code",
   "execution_count": null,
   "id": "6",
   "metadata": {},
   "outputs": [],
   "source": [
    "dropped = df.drop_duplicates()\n",
    "dropped"
   ]
  },
  {
   "cell_type": "markdown",
   "id": "7",
   "metadata": {},
   "source": [
    "# Alternate code for initial preprocessing\n",
    "\n",
    "This uses a memory efficient way for healthy dataset.\n",
    "\n",
    "Also checks for duplicate columns\n"
   ]
  },
  {
   "cell_type": "code",
   "execution_count": null,
   "id": "8",
   "metadata": {},
   "outputs": [],
   "source": [
    "input_csv_path = 'data/healthy_data.csv'\n",
    "output_csv_path = 'data/healthy_data_processed.csv'\n",
    "chunk_size = 8000 # chunks are rows\n",
    "processed_columns = None\n",
    "is_first_chunk = True\n",
    "\n",
    "# Check if the input file exists\n",
    "if not os.path.exists(input_csv_path):\n",
    "    print(f\"Error: Input file not found at {input_csv_path}\")\n",
    "else:\n",
    "    print(f\"Starting memory-efficient processing for {input_csv_path}\")\n",
    "    \n",
    "    # Remove output file if it exists to start fresh\n",
    "    if os.path.exists(output_csv_path):\n",
    "        os.remove(output_csv_path)\n",
    "\n",
    "    for chunk_df in pd.read_csv(input_csv_path, chunksize=chunk_size):\n",
    "        print(f\"Processing chunk with original shape: {chunk_df.shape}\")\n",
    "\n",
    "        # Handle duplicate columns (determine from the first chunk, apply to all)\n",
    "        if is_first_chunk:\n",
    "            original_cols = chunk_df.columns.tolist()\n",
    "            temp_processed_columns = []\n",
    "            seen_columns = set()\n",
    "            for col_name in original_cols:\n",
    "                if col_name not in seen_columns:\n",
    "                    temp_processed_columns.append(col_name)\n",
    "                    seen_columns.add(col_name)\n",
    "                else:\n",
    "                    print(f\"  Duplicate column found and will be removed: {col_name}\")\n",
    "            processed_columns = temp_processed_columns\n",
    "        \n",
    "        # Select only the unique columns\n",
    "        chunk_df = chunk_df[processed_columns]\n",
    "\n",
    "        # Drop rows with any null values\n",
    "        rows_before_dropna = len(chunk_df)\n",
    "        chunk_df.dropna(inplace=True)\n",
    "\n",
    "        # Drop duplicate rows (within the current chunk)\n",
    "        rows_before_drop_duplicates = len(chunk_df)\n",
    "        chunk_df.drop_duplicates(inplace=True)\n",
    "\n",
    "        # Write processed chunk to a new CSV file\n",
    "        if is_first_chunk:\n",
    "            chunk_df.to_csv(output_csv_path, index=False, mode='w', header=True)\n",
    "            is_first_chunk = False\n",
    "            print(f\"  Written first processed chunk to {output_csv_path}\")\n",
    "        else:\n",
    "            chunk_df.to_csv(output_csv_path, index=False, mode='a', header=False)\n",
    "        \n",
    "        print(f\"  Finished processing chunk. Current shape: {chunk_df.shape}\")\n",
    "\n",
    "    print(f\"\\nFinished processing. Processed data saved to {output_csv_path}\")"
   ]
  }
 ],
 "metadata": {
  "kernelspec": {
   "display_name": "Python 3",
   "language": "python",
   "name": "python3"
  },
  "language_info": {
   "codemirror_mode": {
    "name": "ipython",
    "version": 3
   },
   "file_extension": ".py",
   "mimetype": "text/x-python",
   "name": "python",
   "nbconvert_exporter": "python",
   "pygments_lexer": "ipython3",
   "version": "3.12.10"
  }
 },
 "nbformat": 4,
 "nbformat_minor": 5
}
