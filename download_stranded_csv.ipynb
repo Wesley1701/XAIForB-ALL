{
 "cells": [
  {
   "cell_type": "markdown",
   "metadata": {},
   "source": [
    "# Explainable AI for B-ALL Subtype Classification Using RNA-Seq Data"
   ]
  },
  {
   "cell_type": "code",
   "execution_count": null,
   "metadata": {},
   "outputs": [],
   "source": [
    "import pandas as pd\n",
    "import seaborn as sns\n",
    "import matplotlib.pyplot as plt\n",
    "from pathlib import Path\n",
    "\n",
    "# Set base directory\n",
    "base_dir = Path.cwd() / 'GDC'"
   ]
  },
  {
   "cell_type": "markdown",
   "metadata": {},
   "source": [
    "## Get all data"
   ]
  },
  {
   "cell_type": "markdown",
   "metadata": {},
   "source": [
    "### Generate the first rows"
   ]
  },
  {
   "cell_type": "code",
   "execution_count": null,
   "metadata": {},
   "outputs": [],
   "source": [
    "tsv_file_path = base_dir / '7e8776a3-a56c-4ebc-a32b-d8cb7b7cea14.rna_seq.augmented_star_gene_counts.tsv'\n",
    "\n",
    "df = pd.read_csv(tsv_file_path, sep='\\t', header=1, )\n",
    "\n",
    "# Select the needed rows\n",
    "df_firstrows = df.loc[4:, ['gene_id', 'gene_name', 'gene_type']]\n",
    "\n",
    "# Flip the table\n",
    "df_firstrows = df_firstrows.T\n",
    "\n",
    "df_firstrows.columns = df_firstrows.iloc[0]  # Set the first row as the header\n",
    "df_firstrows = df_firstrows[1:]  # Remove the first row now that it's the header\n",
    "df_firstrows"
   ]
  },
  {
   "cell_type": "markdown",
   "metadata": {},
   "source": [
    "### Populate all the rows"
   ]
  },
  {
   "cell_type": "code",
   "execution_count": null,
   "metadata": {},
   "outputs": [],
   "source": [
    "# Get all .tsv files recursively\n",
    "tsv_files = list(base_dir.rglob('*.tsv'))\n",
    "\n",
    "# List to hold individual dataframes\n",
    "df_list = []\n",
    "\n",
    "for file in tsv_files:\n",
    "    df = pd.read_csv(file, sep='\\t', header=1)\n",
    "    \n",
    "    # Select the needed rows\n",
    "    df = df.loc[4:, ['gene_id', 'stranded_second']]\n",
    "    \n",
    "    # Flip the table\n",
    "    df = df.T\n",
    "    df.columns = df.iloc[0]  # Set the first row as the header\n",
    "    df = df[1:]  # Remove the first row now that it's the header\n",
    "\n",
    "    # Add an identifier for the file (e.g., file stem)\n",
    "    df['sample_id'] = file.stem.split('.')[0]\n",
    "    df_list.append(df)\n",
    "\n",
    "# Combine all into one DataFrame\n",
    "combined_df = pd.concat(df_list, ignore_index=True)\n",
    "\n",
    "# Optionally set sample_id as index\n",
    "combined_df.set_index('sample_id', inplace=True)\n",
    "\n",
    "combined_df\n"
   ]
  },
  {
   "cell_type": "markdown",
   "metadata": {},
   "source": [
    "### Create full table"
   ]
  },
  {
   "cell_type": "code",
   "execution_count": null,
   "metadata": {},
   "outputs": [],
   "source": [
    "final_df = pd.concat([df_firstrows, combined_df], ignore_index=False)\n",
    "final_df.head(5)"
   ]
  },
  {
   "cell_type": "code",
   "execution_count": null,
   "metadata": {},
   "outputs": [],
   "source": [
    "final_df.to_csv('rna_seq_stranded_second.csv')"
   ]
  },
  {
   "cell_type": "code",
   "execution_count": null,
   "metadata": {},
   "outputs": [],
   "source": []
  }
 ],
 "metadata": {
  "kernelspec": {
   "display_name": "Python 3",
   "language": "python",
   "name": "python3"
  },
  "language_info": {
   "codemirror_mode": {
    "name": "ipython",
    "version": 3
   },
   "file_extension": ".py",
   "mimetype": "text/x-python",
   "name": "python",
   "nbconvert_exporter": "python",
   "pygments_lexer": "ipython3",
   "version": "3.12.10"
  }
 },
 "nbformat": 4,
 "nbformat_minor": 2
}
