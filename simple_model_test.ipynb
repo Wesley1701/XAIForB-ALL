{
 "cells": [
  {
   "cell_type": "code",
   "execution_count": null,
   "id": "0",
   "metadata": {},
   "outputs": [],
   "source": [
    "import numpy as np\n",
    "import pandas as pd\n",
    "import optuna\n",
    "from optuna.samplers import TPESampler\n",
    "from optuna.pruners import MedianPruner\n",
    "import pickle\n",
    "import joblib\n",
    "from sklearn.model_selection import StratifiedKFold, cross_val_score, cross_validate\n",
    "from sklearn.feature_selection import SelectKBest, f_classif, mutual_info_classif, VarianceThreshold\n",
    "from sklearn.ensemble import RandomForestClassifier\n",
    "from sklearn.preprocessing import StandardScaler\n",
    "from sklearn.pipeline import Pipeline\n",
    "from sklearn.metrics import roc_auc_score, accuracy_score, f1_score\n",
    "import xgboost as xgb\n",
    "from xgboost import XGBClassifier\n",
    "import lightgbm as lgb\n",
    "from lightgbm import LGBMClassifier\n",
    "import warnings\n",
    "warnings.filterwarnings('ignore')"
   ]
  },
  {
   "cell_type": "code",
   "execution_count": null,
   "id": "1",
   "metadata": {},
   "outputs": [],
   "source": [
    "# Load your VST-transformed data\n",
    "# Assume vst_data is a DataFrame with samples as rows, genes as columns\n",
    "# and labels is a Series with binary classification labels (healthy/unhealthy)\n",
    "\n",
    "# Replace with your actual data loading\n",
    "vst_data = pd.read_csv('data/normalised dataset/final_vst_normalised_data.csv', index_col=0)  # samples x genes\n",
    "labels = pd.read_csv('data/metadata/simple_metadata_for_pydeseq2.csv', index_col=0)['condition']  # condition column\n",
    "\n",
    "# Convert string labels to binary (healthy=0, unhealthy=1)\n",
    "label_mapping = {'healthy': 0, 'unhealthy': 1}\n",
    "labels = labels.map(label_mapping)\n",
    "\n",
    "print(f\"Data shape: {vst_data.shape}\")\n",
    "print(f\"Labels distribution after encoding: {labels.value_counts()}\")\n",
    "print(f\"Features (genes): {vst_data.shape[1]}\")\n",
    "print(f\"Samples: {vst_data.shape[0]}\")\n",
    "\n",
    "# Basic data validation\n",
    "assert vst_data.shape[0] == len(labels), \"Mismatch between samples and labels\"\n",
    "assert set(labels.unique()) == {0, 1}, \"Labels should be binary (0, 1) after encoding\"\n",
    "assert not labels.isnull().any(), \"Labels contain missing values\""
   ]
  },
  {
   "cell_type": "code",
   "execution_count": null,
   "id": "2",
   "metadata": {},
   "outputs": [],
   "source": [
    "if 'condition' in vst_data.columns:\n",
    "    print(\"WARNING: Found a 'condition' column in the VST data. This is unexpected and will be dropped before optimization.\")\n",
    "    vst_data.drop(columns=['condition'], inplace=True)\n",
    "    print(f\"Shape of VST data after dropping 'condition' column: {vst_data.shape}\")"
   ]
  },
  {
   "cell_type": "code",
   "execution_count": null,
   "id": "3",
   "metadata": {},
   "outputs": [],
   "source": [
    "from sklearn.model_selection import train_test_split\n",
    "from sklearn.metrics import accuracy_score\n",
    "import shap\n",
    "\n",
    "bst = XGBClassifier(\n",
    "            n_estimators=250,\n",
    "            max_depth=3,\n",
    "            learning_rate=0.1, log=True,\n",
    "            subsample=0.8,\n",
    "            colsample_bytree=0.8,\n",
    "            reg_alpha=4,\n",
    "            reg_lambda=4,\n",
    "            scale_pos_weight=1,\n",
    "            random_state=42,\n",
    "            n_jobs=-1,\n",
    "            eval_metric='logloss',\n",
    "            base_score=0.5,\n",
    "        )\n",
    "\n",
    "X_train, X_test, y_train, y_test = train_test_split(vst_data[['ENSG00000000003', 'ENSG00000001629']], labels[labels], test_size=.2, random_state=42)\n",
    "\n",
    "bst.fit(X_train, y_train)\n",
    "\n",
    "preds = bst.predict(X_test)\n",
    "\n",
    "print(accuracy_score(y_test, preds))\n",
    "\n",
    "explainer = shap.Explainer(bst)\n",
    "shap_values = explainer.shap_values(X_test)\n",
    "shap.summary_plot(shap_values, X_test)"
   ]
  }
 ],
 "metadata": {
  "kernelspec": {
   "display_name": "Python 3",
   "language": "python",
   "name": "python3"
  },
  "language_info": {
   "codemirror_mode": {
    "name": "ipython",
    "version": 3
   },
   "file_extension": ".py",
   "mimetype": "text/x-python",
   "name": "python",
   "nbconvert_exporter": "python",
   "pygments_lexer": "ipython3",
   "version": "3.12.10"
  }
 },
 "nbformat": 4,
 "nbformat_minor": 5
}
