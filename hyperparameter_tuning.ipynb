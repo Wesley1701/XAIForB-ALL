{
 "cells": [
  {
   "metadata": {},
   "cell_type": "code",
   "outputs": [],
   "execution_count": null,
   "source": [
    "# Optuna Hyperparameter Optimization for RNA-seq Binary Classification\n",
    "\n",
    "## Cell 1: Import Libraries and Setup"
   ],
   "id": "a6dcf1fbff49e5ad"
  },
  {
   "metadata": {
    "ExecuteTime": {
     "end_time": "2025-06-14T20:33:24.612372Z",
     "start_time": "2025-06-14T20:33:23.470688Z"
    }
   },
   "cell_type": "code",
   "source": [
    "import numpy as np\n",
    "import pandas as pd\n",
    "import optuna\n",
    "from optuna.samplers import TPESampler\n",
    "from optuna.pruners import MedianPruner\n",
    "import pickle\n",
    "import joblib\n",
    "from sklearn.model_selection import StratifiedKFold, cross_val_score, cross_validate\n",
    "from sklearn.feature_selection import SelectKBest, f_classif, mutual_info_classif, VarianceThreshold\n",
    "from sklearn.ensemble import RandomForestClassifier\n",
    "from sklearn.preprocessing import StandardScaler\n",
    "from sklearn.pipeline import Pipeline\n",
    "from sklearn.metrics import roc_auc_score, accuracy_score, f1_score\n",
    "import xgboost as xgb\n",
    "from xgboost import XGBClassifier\n",
    "import lightgbm as lgb\n",
    "from lightgbm import LGBMClassifier\n",
    "import warnings\n",
    "warnings.filterwarnings('ignore')\n",
    "\n",
    "# Set random seed for reproducibility\n",
    "RANDOM_STATE = 42\n",
    "np.random.seed(RANDOM_STATE)\n",
    "\n",
    "print(\"Libraries imported successfully!\")"
   ],
   "id": "ca977a29eb98ee22",
   "outputs": [
    {
     "name": "stdout",
     "output_type": "stream",
     "text": [
      "Libraries imported successfully!\n"
     ]
    }
   ],
   "execution_count": 1
  },
  {
   "metadata": {},
   "cell_type": "code",
   "outputs": [],
   "execution_count": null,
   "source": [
    "\n",
    "## Cell 2: Load and Prepare Data"
   ],
   "id": "af61bef5a326a96b"
  },
  {
   "metadata": {
    "ExecuteTime": {
     "end_time": "2025-06-14T20:33:48.566372Z",
     "start_time": "2025-06-14T20:33:26.413171Z"
    }
   },
   "cell_type": "code",
   "source": [
    "# Load your VST-transformed data\n",
    "# Assume vst_data is a DataFrame with samples as rows, genes as columns\n",
    "# and labels is a Series with binary classification labels (healthy/unhealthy)\n",
    "\n",
    "# Replace with your actual data loading\n",
    "vst_data = pd.read_csv('data/final_vst_normalised_data.csv', index_col=0)  # samples x genes\n",
    "labels = pd.read_csv('data/simple_metadata_for_pydeseq2.csv', index_col=0)['condition']  # condition column\n",
    "\n",
    "# Convert string labels to binary (healthy=0, unhealthy=1)\n",
    "label_mapping = {'healthy': 0, 'unhealthy': 1}\n",
    "labels = labels.map(label_mapping)\n",
    "\n",
    "print(f\"Data shape: {vst_data.shape}\")\n",
    "print(f\"Labels distribution after encoding: {labels.value_counts()}\")\n",
    "print(f\"Features (genes): {vst_data.shape[1]}\")\n",
    "print(f\"Samples: {vst_data.shape[0]}\")\n",
    "\n",
    "# Basic data validation\n",
    "assert vst_data.shape[0] == len(labels), \"Mismatch between samples and labels\"\n",
    "assert set(labels.unique()) == {0, 1}, \"Labels should be binary (0, 1) after encoding\"\n",
    "assert not labels.isnull().any(), \"Labels contain missing values\""
   ],
   "id": "3148b4761b11a6dc",
   "outputs": [
    {
     "name": "stdout",
     "output_type": "stream",
     "text": [
      "Data shape: (1895, 58086)\n",
      "Labels distribution after encoding: condition\n",
      "0    1000\n",
      "1     895\n",
      "Name: count, dtype: int64\n",
      "Features (genes): 58086\n",
      "Samples: 1895\n"
     ]
    }
   ],
   "execution_count": 2
  },
  {
   "metadata": {},
   "cell_type": "code",
   "outputs": [],
   "execution_count": null,
   "source": "## Drop condition column if it exists in vst_data",
   "id": "92a9f3a31064ad4e"
  },
  {
   "metadata": {
    "ExecuteTime": {
     "end_time": "2025-06-14T20:35:26.465071Z",
     "start_time": "2025-06-14T20:35:26.380603Z"
    }
   },
   "cell_type": "code",
   "source": [
    "if 'condition' in vst_data.columns:\n",
    "    print(\"WARNING: Found a 'condition' column in the VST data. This is unexpected and will be dropped before optimization.\")\n",
    "    vst_data.drop(columns=['condition'], inplace=True)\n",
    "    print(f\"Shape of VST data after dropping 'condition' column: {vst_data.shape}\")"
   ],
   "id": "907bf3605659f888",
   "outputs": [
    {
     "name": "stdout",
     "output_type": "stream",
     "text": [
      "WARNING: Found a 'condition' column in the VST data. This is unexpected and will be dropped before optimization.\n",
      "Shape of VST data after dropping 'condition' column: (1895, 58085)\n"
     ]
    }
   ],
   "execution_count": 7
  },
  {
   "metadata": {},
   "cell_type": "code",
   "outputs": [],
   "execution_count": null,
   "source": "## Cell 3: Define Objective Function",
   "id": "b43f199ff0e0bf8c"
  },
  {
   "metadata": {
    "ExecuteTime": {
     "end_time": "2025-06-14T20:34:18.883834Z",
     "start_time": "2025-06-14T20:34:18.875293Z"
    }
   },
   "cell_type": "code",
   "source": [
    "def objective(trial):\n",
    "    \"\"\"\n",
    "    Objective function for Optuna optimization.\n",
    "    This function will be called for each trial to evaluate hyperparameter combinations.\n",
    "    \"\"\"\n",
    "\n",
    "    # 1. Feature Selection Hyperparameters\n",
    "    variance_threshold = trial.suggest_float('variance_threshold', 0.0, 1.0)\n",
    "    n_features = trial.suggest_int('n_features', 500, min(8000, vst_data.shape[1]))\n",
    "\n",
    "    # 1.5. Feature selection method\n",
    "    feature_selector = trial.suggest_categorical('feature_selector', ['f_classif', 'mutual_info_classif'])\n",
    "\n",
    "    # 2. Model Selection\n",
    "    classifier_name = trial.suggest_categorical('classifier',\n",
    "                                              ['xgboost', 'lightgbm', 'random_forest'])\n",
    "\n",
    "    # 3. Preprocessing\n",
    "    use_scaling = trial.suggest_categorical('use_scaling', [True, False])\n",
    "\n",
    "    # 4. Class imbalance handling\n",
    "    class_weight = trial.suggest_categorical('class_weight', ['balanced', None])\n",
    "\n",
    "    # 5. Model-specific hyperparameters\n",
    "    if classifier_name == 'xgboost':\n",
    "        n_estimators = trial.suggest_int('n_estimators', 100, 500)\n",
    "        max_depth = trial.suggest_int('max_depth', 3, 10)\n",
    "        learning_rate = trial.suggest_float('learning_rate', 0.01, 0.3, log=True)\n",
    "        subsample = trial.suggest_float('subsample', 0.6, 1.0)\n",
    "        colsample_bytree = trial.suggest_float('colsample_bytree', 0.6, 1.0)\n",
    "        reg_alpha = trial.suggest_float('reg_alpha', 1e-8, 10.0, log=True)\n",
    "        reg_lambda = trial.suggest_float('reg_lambda', 1e-8, 10.0, log=True)\n",
    "\n",
    "        # Handle class imbalance for XGBoost\n",
    "        if class_weight == 'balanced':\n",
    "            scale_pos_weight = len(labels[labels == 0]) / len(labels[labels == 1])\n",
    "        else:\n",
    "            scale_pos_weight = 1\n",
    "\n",
    "        classifier = XGBClassifier(\n",
    "            n_estimators=n_estimators,\n",
    "            max_depth=max_depth,\n",
    "            learning_rate=learning_rate,\n",
    "            subsample=subsample,\n",
    "            colsample_bytree=colsample_bytree,\n",
    "            reg_alpha=reg_alpha,\n",
    "            reg_lambda=reg_lambda,\n",
    "            scale_pos_weight=scale_pos_weight,\n",
    "            random_state=RANDOM_STATE,\n",
    "            n_jobs=-1,\n",
    "            eval_metric='logloss'\n",
    "        )\n",
    "\n",
    "    elif classifier_name == 'lightgbm':\n",
    "        n_estimators = trial.suggest_int('n_estimators', 100, 500)\n",
    "        max_depth = trial.suggest_int('max_depth', 3, 10)\n",
    "        learning_rate = trial.suggest_float('learning_rate', 0.01, 0.3, log=True)\n",
    "        subsample = trial.suggest_float('subsample', 0.6, 1.0)\n",
    "        colsample_bytree = trial.suggest_float('colsample_bytree', 0.6, 1.0)\n",
    "        reg_alpha = trial.suggest_float('reg_alpha', 1e-8, 10.0, log=True)\n",
    "        reg_lambda = trial.suggest_float('reg_lambda', 1e-8, 10.0, log=True)\n",
    "        num_leaves = trial.suggest_int('num_leaves', 10, 100)\n",
    "\n",
    "        # Handle class imbalance for LightGBM\n",
    "        if class_weight == 'balanced':\n",
    "            class_weight_dict = 'balanced'\n",
    "        else:\n",
    "            class_weight_dict = None\n",
    "\n",
    "        classifier = LGBMClassifier(\n",
    "            n_estimators=n_estimators,\n",
    "            max_depth=max_depth,\n",
    "            learning_rate=learning_rate,\n",
    "            subsample=subsample,\n",
    "            colsample_bytree=colsample_bytree,\n",
    "            reg_alpha=reg_alpha,\n",
    "            reg_lambda=reg_lambda,\n",
    "            num_leaves=num_leaves,\n",
    "            class_weight=class_weight_dict,\n",
    "            random_state=RANDOM_STATE,\n",
    "            n_jobs=-1,\n",
    "            verbosity=-1\n",
    "        )\n",
    "\n",
    "    elif classifier_name == 'random_forest':\n",
    "        n_estimators = trial.suggest_int('n_estimators', 100, 500)\n",
    "        max_depth = trial.suggest_int('max_depth', 5, 20)\n",
    "        min_samples_split = trial.suggest_int('min_samples_split', 2, 20)\n",
    "        min_samples_leaf = trial.suggest_int('min_samples_leaf', 1, 10)\n",
    "        max_features = trial.suggest_categorical('max_features', ['sqrt', 'log2', None])\n",
    "\n",
    "        classifier = RandomForestClassifier(\n",
    "            n_estimators=n_estimators,\n",
    "            max_depth=max_depth,\n",
    "            min_samples_split=min_samples_split,\n",
    "            min_samples_leaf=min_samples_leaf,\n",
    "            max_features=max_features,\n",
    "            class_weight=class_weight,\n",
    "            random_state=RANDOM_STATE,\n",
    "            n_jobs=-1\n",
    "        )\n",
    "\n",
    "    # 6. Build pipeline\n",
    "    pipeline_steps = []\n",
    "\n",
    "    # Add variance threshold filter\n",
    "    pipeline_steps.append(('variance_filter', VarianceThreshold(threshold=variance_threshold)))\n",
    "\n",
    "    # Add feature selection\n",
    "    if feature_selector == 'f_classif':\n",
    "        selector = SelectKBest(f_classif, k=n_features)\n",
    "    else:\n",
    "        selector = SelectKBest(mutual_info_classif, k=n_features)\n",
    "    pipeline_steps.append(('feature_selection', selector))\n",
    "\n",
    "    # Add scaling if selected\n",
    "    if use_scaling:\n",
    "        pipeline_steps.append(('scaler', StandardScaler()))\n",
    "\n",
    "    # Add classifier\n",
    "    pipeline_steps.append(('classifier', classifier))\n",
    "\n",
    "    # Create pipeline\n",
    "    pipeline = Pipeline(pipeline_steps)\n",
    "\n",
    "    # 7. Cross-validation with multiple metrics (reduced for memory)\n",
    "    cv = StratifiedKFold(n_splits=3, shuffle=True, random_state=RANDOM_STATE)\n",
    "\n",
    "    try:\n",
    "        # Get comprehensive metrics\n",
    "        scoring = ['roc_auc', 'accuracy', 'precision', 'recall', 'f1']\n",
    "        cv_results = cross_validate(pipeline, vst_data, labels,\n",
    "                                   cv=cv, scoring=scoring, n_jobs=-1)\n",
    "\n",
    "        # Store additional metrics as user attributes\n",
    "        trial.set_user_attr('accuracy', cv_results['test_accuracy'].mean())\n",
    "        trial.set_user_attr('precision', cv_results['test_precision'].mean())\n",
    "        trial.set_user_attr('recall', cv_results['test_recall'].mean())\n",
    "        trial.set_user_attr('f1', cv_results['test_f1'].mean())\n",
    "\n",
    "        # Return mean AUC score (primary metric)\n",
    "        return cv_results['test_roc_auc'].mean()\n",
    "\n",
    "    except Exception as e:\n",
    "        # Return a poor score if the configuration fails\n",
    "        print(f\"Trial failed with error: {e}\")\n",
    "        return 0.0\n",
    "\n",
    "print(\"Objective function defined!\")"
   ],
   "id": "fd56889e1158050e",
   "outputs": [
    {
     "name": "stdout",
     "output_type": "stream",
     "text": [
      "Objective function defined!\n"
     ]
    }
   ],
   "execution_count": 4
  },
  {
   "metadata": {},
   "cell_type": "code",
   "outputs": [],
   "execution_count": null,
   "source": "## Cell 4: Configure and Run Optuna Study",
   "id": "8df4b30830ddc2ba"
  },
  {
   "metadata": {
    "ExecuteTime": {
     "end_time": "2025-06-14T20:39:40.418112Z",
     "start_time": "2025-06-14T20:39:40.361079Z"
    }
   },
   "cell_type": "code",
   "source": [
    "# Configure Optuna study\n",
    "study_name = 'rna_seq_binary_classification'\n",
    "storage_name = f'sqlite:///{study_name}.db'\n",
    "\n",
    "# Create study\n",
    "study = optuna.create_study(\n",
    "    study_name=study_name,\n",
    "    storage=storage_name,\n",
    "    direction='maximize',  # We want to maximize AUC\n",
    "    sampler=TPESampler(seed=RANDOM_STATE),\n",
    "    pruner=MedianPruner(n_startup_trials=5, n_warmup_steps=10),\n",
    "    load_if_exists=True  # Continue from existing study if it exists\n",
    ")\n",
    "\n",
    "print(f\"Study created: {study_name}\")\n",
    "print(f\"Storage: {storage_name}\")"
   ],
   "id": "29b3a1cedc20058f",
   "outputs": [
    {
     "name": "stderr",
     "output_type": "stream",
     "text": [
      "[I 2025-06-14 22:39:40,415] A new study created in RDB with name: rna_seq_binary_classification\n"
     ]
    },
    {
     "name": "stdout",
     "output_type": "stream",
     "text": [
      "Study created: rna_seq_binary_classification\n",
      "Storage: sqlite:///rna_seq_binary_classification.db\n"
     ]
    }
   ],
   "execution_count": 11
  },
  {
   "metadata": {},
   "cell_type": "code",
   "outputs": [],
   "execution_count": null,
   "source": "## Cell 5: Execute Optimization",
   "id": "3e0ae0aada0d209b"
  },
  {
   "metadata": {
    "ExecuteTime": {
     "end_time": "2025-06-14T20:51:47.753022Z",
     "start_time": "2025-06-14T20:39:46.185044Z"
    }
   },
   "cell_type": "code",
   "source": [
    "# Run optimization\n",
    "N_TRIALS = 30  # Adjust based on your computational resources and time\n",
    "\n",
    "print(f\"Starting optimization with {N_TRIALS} trials...\")\n",
    "print(\"This may take some time depending on your dataset size and number of trials.\")\n",
    "\n",
    "# Optimize\n",
    "study.optimize(objective, n_trials=N_TRIALS, show_progress_bar=True)\n",
    "\n",
    "print(\"Optimization completed!\")\n",
    "print(f\"Number of finished trials: {len(study.trials)}\")\n",
    "print(f\"Best trial number: {study.best_trial.number}\")\n",
    "print(f\"Best AUC score: {study.best_value:.4f}\")"
   ],
   "id": "23a3ddfbe5e04a16",
   "outputs": [
    {
     "name": "stdout",
     "output_type": "stream",
     "text": [
      "Starting optimization with 30 trials...\n",
      "This may take some time depending on your dataset size and number of trials.\n"
     ]
    },
    {
     "data": {
      "text/plain": [
       "  0%|          | 0/30 [00:00<?, ?it/s]"
      ],
      "application/vnd.jupyter.widget-view+json": {
       "version_major": 2,
       "version_minor": 0,
       "model_id": "be3228c87fb5448aa318407861fab435"
      }
     },
     "metadata": {},
     "output_type": "display_data"
    },
    {
     "name": "stdout",
     "output_type": "stream",
     "text": [
      "[I 2025-06-14 22:40:07,682] Trial 0 finished with value: 1.0 and parameters: {'variance_threshold': 0.3745401188473625, 'n_features': 7631, 'feature_selector': 'f_classif', 'classifier': 'xgboost', 'use_scaling': True, 'class_weight': 'balanced', 'n_estimators': 488, 'max_depth': 9, 'learning_rate': 0.020589728197687916, 'subsample': 0.6727299868828402, 'colsample_bytree': 0.6733618039413735, 'reg_alpha': 5.472429642032189e-06, 'reg_lambda': 0.00052821153945323}. Best is trial 0 with value: 1.0.\n",
      "[I 2025-06-14 22:40:10,347] Trial 1 finished with value: 1.0 and parameters: {'variance_threshold': 0.43194501864211576, 'n_features': 2684, 'feature_selector': 'f_classif', 'classifier': 'random_forest', 'use_scaling': True, 'class_weight': None, 'n_estimators': 118, 'max_depth': 14, 'min_samples_split': 5, 'min_samples_leaf': 1, 'max_features': 'log2'}. Best is trial 0 with value: 1.0.\n"
     ]
    },
    {
     "name": "stderr",
     "output_type": "stream",
     "text": [
      "/Users/boystroo/PycharmProjects/XAIForB-ALL-good/.venv1/lib/python3.10/site-packages/sklearn/utils/validation.py:2739: UserWarning: X does not have valid feature names, but LGBMClassifier was fitted with feature names\n",
      "  warnings.warn(\n",
      "/Users/boystroo/PycharmProjects/XAIForB-ALL-good/.venv1/lib/python3.10/site-packages/sklearn/utils/validation.py:2739: UserWarning: X does not have valid feature names, but LGBMClassifier was fitted with feature names\n",
      "  warnings.warn(\n",
      "/Users/boystroo/PycharmProjects/XAIForB-ALL-good/.venv1/lib/python3.10/site-packages/sklearn/utils/validation.py:2739: UserWarning: X does not have valid feature names, but LGBMClassifier was fitted with feature names\n",
      "  warnings.warn(\n",
      "/Users/boystroo/PycharmProjects/XAIForB-ALL-good/.venv1/lib/python3.10/site-packages/sklearn/utils/validation.py:2739: UserWarning: X does not have valid feature names, but LGBMClassifier was fitted with feature names\n",
      "  warnings.warn(\n",
      "/Users/boystroo/PycharmProjects/XAIForB-ALL-good/.venv1/lib/python3.10/site-packages/sklearn/utils/validation.py:2739: UserWarning: X does not have valid feature names, but LGBMClassifier was fitted with feature names\n",
      "  warnings.warn(\n",
      "/Users/boystroo/PycharmProjects/XAIForB-ALL-good/.venv1/lib/python3.10/site-packages/sklearn/utils/validation.py:2739: UserWarning: X does not have valid feature names, but LGBMClassifier was fitted with feature names\n",
      "  warnings.warn(\n"
     ]
    },
    {
     "name": "stdout",
     "output_type": "stream",
     "text": [
      "[I 2025-06-14 22:40:14,340] Trial 2 finished with value: 1.0 and parameters: {'variance_threshold': 0.3046137691733707, 'n_features': 1232, 'feature_selector': 'f_classif', 'classifier': 'lightgbm', 'use_scaling': True, 'class_weight': 'balanced', 'n_estimators': 308, 'max_depth': 7, 'learning_rate': 0.01875220945578641, 'subsample': 0.9878338511058234, 'colsample_bytree': 0.9100531293444458, 'reg_alpha': 2.8542399074977594, 'reg_lambda': 1.1309571585271492, 'num_leaves': 64}. Best is trial 0 with value: 1.0.\n"
     ]
    },
    {
     "name": "stderr",
     "output_type": "stream",
     "text": [
      "/Users/boystroo/PycharmProjects/XAIForB-ALL-good/.venv1/lib/python3.10/site-packages/sklearn/utils/validation.py:2739: UserWarning: X does not have valid feature names, but LGBMClassifier was fitted with feature names\n",
      "  warnings.warn(\n",
      "/Users/boystroo/PycharmProjects/XAIForB-ALL-good/.venv1/lib/python3.10/site-packages/sklearn/utils/validation.py:2739: UserWarning: X does not have valid feature names, but LGBMClassifier was fitted with feature names\n",
      "  warnings.warn(\n",
      "/Users/boystroo/PycharmProjects/XAIForB-ALL-good/.venv1/lib/python3.10/site-packages/sklearn/utils/validation.py:2739: UserWarning: X does not have valid feature names, but LGBMClassifier was fitted with feature names\n",
      "  warnings.warn(\n",
      "/Users/boystroo/PycharmProjects/XAIForB-ALL-good/.venv1/lib/python3.10/site-packages/sklearn/utils/validation.py:2739: UserWarning: X does not have valid feature names, but LGBMClassifier was fitted with feature names\n",
      "  warnings.warn(\n",
      "/Users/boystroo/PycharmProjects/XAIForB-ALL-good/.venv1/lib/python3.10/site-packages/sklearn/utils/validation.py:2739: UserWarning: X does not have valid feature names, but LGBMClassifier was fitted with feature names\n",
      "  warnings.warn(\n",
      "/Users/boystroo/PycharmProjects/XAIForB-ALL-good/.venv1/lib/python3.10/site-packages/sklearn/utils/validation.py:2739: UserWarning: X does not have valid feature names, but LGBMClassifier was fitted with feature names\n",
      "  warnings.warn(\n"
     ]
    },
    {
     "name": "stdout",
     "output_type": "stream",
     "text": [
      "[I 2025-06-14 22:40:17,432] Trial 3 finished with value: 1.0 and parameters: {'variance_threshold': 0.9218742350231168, 'n_features': 1163, 'feature_selector': 'f_classif', 'classifier': 'lightgbm', 'use_scaling': True, 'class_weight': None, 'n_estimators': 156, 'max_depth': 9, 'learning_rate': 0.012886065671894011, 'subsample': 0.9947547746402069, 'colsample_bytree': 0.908897907718663, 'reg_alpha': 6.143857495033091e-07, 'reg_lambda': 1.1212412169964432e-08, 'num_leaves': 84}. Best is trial 0 with value: 1.0.\n",
      "[I 2025-06-14 22:40:39,955] Trial 4 finished with value: 1.0 and parameters: {'variance_threshold': 0.7068573438476171, 'n_features': 5968, 'feature_selector': 'f_classif', 'classifier': 'random_forest', 'use_scaling': True, 'class_weight': None, 'n_estimators': 230, 'max_depth': 16, 'min_samples_split': 14, 'min_samples_leaf': 9, 'max_features': None}. Best is trial 0 with value: 1.0.\n",
      "[I 2025-06-14 22:40:57,262] Trial 5 finished with value: 1.0 and parameters: {'variance_threshold': 0.7607850486168974, 'n_features': 4710, 'feature_selector': 'f_classif', 'classifier': 'xgboost', 'use_scaling': True, 'class_weight': 'balanced', 'n_estimators': 303, 'max_depth': 10, 'learning_rate': 0.02334720250903524, 'subsample': 0.7641531692142519, 'colsample_bytree': 0.9022204554172195, 'reg_alpha': 1.1459970229341322e-06, 'reg_lambda': 4.929685216887945e-08}. Best is trial 0 with value: 1.0.\n"
     ]
    },
    {
     "name": "stderr",
     "output_type": "stream",
     "text": [
      "/Users/boystroo/PycharmProjects/XAIForB-ALL-good/.venv1/lib/python3.10/site-packages/sklearn/utils/validation.py:2739: UserWarning: X does not have valid feature names, but LGBMClassifier was fitted with feature names\n",
      "  warnings.warn(\n",
      "/Users/boystroo/PycharmProjects/XAIForB-ALL-good/.venv1/lib/python3.10/site-packages/sklearn/utils/validation.py:2739: UserWarning: X does not have valid feature names, but LGBMClassifier was fitted with feature names\n",
      "  warnings.warn(\n",
      "/Users/boystroo/PycharmProjects/XAIForB-ALL-good/.venv1/lib/python3.10/site-packages/sklearn/utils/validation.py:2739: UserWarning: X does not have valid feature names, but LGBMClassifier was fitted with feature names\n",
      "  warnings.warn(\n",
      "/Users/boystroo/PycharmProjects/XAIForB-ALL-good/.venv1/lib/python3.10/site-packages/sklearn/utils/validation.py:2739: UserWarning: X does not have valid feature names, but LGBMClassifier was fitted with feature names\n",
      "  warnings.warn(\n",
      "/Users/boystroo/PycharmProjects/XAIForB-ALL-good/.venv1/lib/python3.10/site-packages/sklearn/utils/validation.py:2739: UserWarning: X does not have valid feature names, but LGBMClassifier was fitted with feature names\n",
      "  warnings.warn(\n",
      "/Users/boystroo/PycharmProjects/XAIForB-ALL-good/.venv1/lib/python3.10/site-packages/sklearn/utils/validation.py:2739: UserWarning: X does not have valid feature names, but LGBMClassifier was fitted with feature names\n",
      "  warnings.warn(\n"
     ]
    },
    {
     "name": "stdout",
     "output_type": "stream",
     "text": [
      "[I 2025-06-14 22:41:02,369] Trial 6 finished with value: 0.9999933043411304 and parameters: {'variance_threshold': 0.289751452913768, 'n_features': 1709, 'feature_selector': 'f_classif', 'classifier': 'lightgbm', 'use_scaling': False, 'class_weight': None, 'n_estimators': 459, 'max_depth': 5, 'learning_rate': 0.014539853705640319, 'subsample': 0.6911740650167767, 'colsample_bytree': 0.7708431154505025, 'reg_alpha': 0.2302146162075984, 'reg_lambda': 0.5579242641506352, 'num_leaves': 10}. Best is trial 0 with value: 1.0.\n"
     ]
    },
    {
     "name": "stderr",
     "output_type": "stream",
     "text": [
      "/Users/boystroo/PycharmProjects/XAIForB-ALL-good/.venv1/lib/python3.10/site-packages/sklearn/utils/validation.py:2739: UserWarning: X does not have valid feature names, but LGBMClassifier was fitted with feature names\n",
      "  warnings.warn(\n",
      "/Users/boystroo/PycharmProjects/XAIForB-ALL-good/.venv1/lib/python3.10/site-packages/sklearn/utils/validation.py:2739: UserWarning: X does not have valid feature names, but LGBMClassifier was fitted with feature names\n",
      "  warnings.warn(\n",
      "/Users/boystroo/PycharmProjects/XAIForB-ALL-good/.venv1/lib/python3.10/site-packages/sklearn/utils/validation.py:2739: UserWarning: X does not have valid feature names, but LGBMClassifier was fitted with feature names\n",
      "  warnings.warn(\n",
      "/Users/boystroo/PycharmProjects/XAIForB-ALL-good/.venv1/lib/python3.10/site-packages/sklearn/utils/validation.py:2739: UserWarning: X does not have valid feature names, but LGBMClassifier was fitted with feature names\n",
      "  warnings.warn(\n",
      "/Users/boystroo/PycharmProjects/XAIForB-ALL-good/.venv1/lib/python3.10/site-packages/sklearn/utils/validation.py:2739: UserWarning: X does not have valid feature names, but LGBMClassifier was fitted with feature names\n",
      "  warnings.warn(\n",
      "/Users/boystroo/PycharmProjects/XAIForB-ALL-good/.venv1/lib/python3.10/site-packages/sklearn/utils/validation.py:2739: UserWarning: X does not have valid feature names, but LGBMClassifier was fitted with feature names\n",
      "  warnings.warn(\n"
     ]
    },
    {
     "name": "stdout",
     "output_type": "stream",
     "text": [
      "[I 2025-06-14 22:41:07,214] Trial 7 finished with value: 0.9999933043411304 and parameters: {'variance_threshold': 0.5107473025775657, 'n_features': 3630, 'feature_selector': 'f_classif', 'classifier': 'lightgbm', 'use_scaling': False, 'class_weight': None, 'n_estimators': 485, 'max_depth': 5, 'learning_rate': 0.05426206745606973, 'subsample': 0.7203513239267079, 'colsample_bytree': 0.713936197750987, 'reg_alpha': 2.147744058054667e-08, 'reg_lambda': 0.0030625205094643145, 'num_leaves': 55}. Best is trial 0 with value: 1.0.\n",
      "[I 2025-06-14 22:41:26,898] Trial 8 finished with value: 1.0 and parameters: {'variance_threshold': 0.05147875124998935, 'n_features': 2590, 'feature_selector': 'f_classif', 'classifier': 'random_forest', 'use_scaling': False, 'class_weight': 'balanced', 'n_estimators': 392, 'max_depth': 10, 'min_samples_split': 14, 'min_samples_leaf': 7, 'max_features': None}. Best is trial 0 with value: 1.0.\n",
      "[I 2025-06-14 22:43:03,511] Trial 9 finished with value: 1.0 and parameters: {'variance_threshold': 0.32078006497173583, 'n_features': 1899, 'feature_selector': 'mutual_info_classif', 'classifier': 'xgboost', 'use_scaling': False, 'class_weight': None, 'n_estimators': 255, 'max_depth': 10, 'learning_rate': 0.015963757045104086, 'subsample': 0.7364265404201034, 'colsample_bytree': 0.6453894084962356, 'reg_alpha': 2.1001125223432857, 'reg_lambda': 0.7871439837551522}. Best is trial 0 with value: 1.0.\n",
      "[I 2025-06-14 22:45:01,074] Trial 10 finished with value: 1.0 and parameters: {'variance_threshold': 0.04229000926719517, 'n_features': 7497, 'feature_selector': 'mutual_info_classif', 'classifier': 'xgboost', 'use_scaling': True, 'class_weight': 'balanced', 'n_estimators': 392, 'max_depth': 3, 'learning_rate': 0.25048257256503326, 'subsample': 0.604924467825975, 'colsample_bytree': 0.6113913164559887, 'reg_alpha': 0.0010634634713376783, 'reg_lambda': 1.3373705585508927e-05}. Best is trial 0 with value: 1.0.\n",
      "[I 2025-06-14 22:46:27,696] Trial 11 finished with value: 1.0 and parameters: {'variance_threshold': 0.48384332486914544, 'n_features': 7956, 'feature_selector': 'mutual_info_classif', 'classifier': 'random_forest', 'use_scaling': True, 'class_weight': 'balanced', 'n_estimators': 102, 'max_depth': 15, 'min_samples_split': 2, 'min_samples_leaf': 1, 'max_features': 'log2'}. Best is trial 0 with value: 1.0.\n",
      "[I 2025-06-14 22:46:30,901] Trial 12 finished with value: 1.0 and parameters: {'variance_threshold': 0.4907679252463754, 'n_features': 5095, 'feature_selector': 'f_classif', 'classifier': 'random_forest', 'use_scaling': True, 'class_weight': 'balanced', 'n_estimators': 179, 'max_depth': 19, 'min_samples_split': 3, 'min_samples_leaf': 1, 'max_features': 'log2'}. Best is trial 0 with value: 1.0.\n",
      "[I 2025-06-14 22:46:37,597] Trial 13 finished with value: 1.0 and parameters: {'variance_threshold': 0.22397372590468512, 'n_features': 2982, 'feature_selector': 'f_classif', 'classifier': 'xgboost', 'use_scaling': True, 'class_weight': None, 'n_estimators': 371, 'max_depth': 7, 'learning_rate': 0.06003316561420486, 'subsample': 0.8819708330406043, 'colsample_bytree': 0.7120488935681913, 'reg_alpha': 0.0002863107330832563, 'reg_lambda': 0.00029587429660644856}. Best is trial 0 with value: 1.0.\n",
      "[I 2025-06-14 22:47:57,894] Trial 14 finished with value: 1.0 and parameters: {'variance_threshold': 0.6310056170515541, 'n_features': 6358, 'feature_selector': 'mutual_info_classif', 'classifier': 'random_forest', 'use_scaling': True, 'class_weight': None, 'n_estimators': 101, 'max_depth': 13, 'min_samples_split': 7, 'min_samples_leaf': 4, 'max_features': 'sqrt'}. Best is trial 0 with value: 1.0.\n",
      "[I 2025-06-14 22:48:07,155] Trial 15 finished with value: 1.0 and parameters: {'variance_threshold': 0.4038412400105965, 'n_features': 3909, 'feature_selector': 'f_classif', 'classifier': 'xgboost', 'use_scaling': True, 'class_weight': 'balanced', 'n_estimators': 350, 'max_depth': 3, 'learning_rate': 0.04207149629751802, 'subsample': 0.6174889236749695, 'colsample_bytree': 0.8027105027486668, 'reg_alpha': 5.132581446458542e-05, 'reg_lambda': 4.092973860331868e-06}. Best is trial 0 with value: 1.0.\n",
      "[I 2025-06-14 22:48:19,116] Trial 16 finished with value: 1.0 and parameters: {'variance_threshold': 0.14074590220215133, 'n_features': 6469, 'feature_selector': 'f_classif', 'classifier': 'xgboost', 'use_scaling': True, 'class_weight': 'balanced', 'n_estimators': 428, 'max_depth': 8, 'learning_rate': 0.1506566279276795, 'subsample': 0.8472395447958161, 'colsample_bytree': 0.9886805100641736, 'reg_alpha': 0.011484718160115795, 'reg_lambda': 0.006376205126388821}. Best is trial 0 with value: 1.0.\n",
      "[I 2025-06-14 22:48:21,375] Trial 17 finished with value: 1.0 and parameters: {'variance_threshold': 0.5970123886998142, 'n_features': 2910, 'feature_selector': 'f_classif', 'classifier': 'random_forest', 'use_scaling': True, 'class_weight': None, 'n_estimators': 240, 'max_depth': 13, 'min_samples_split': 19, 'min_samples_leaf': 4, 'max_features': 'log2'}. Best is trial 0 with value: 1.0.\n",
      "[I 2025-06-14 22:49:32,645] Trial 18 finished with value: 1.0 and parameters: {'variance_threshold': 0.866080559204792, 'n_features': 587, 'feature_selector': 'mutual_info_classif', 'classifier': 'xgboost', 'use_scaling': False, 'class_weight': 'balanced', 'n_estimators': 185, 'max_depth': 5, 'learning_rate': 0.03154035645951864, 'subsample': 0.6595548993629581, 'colsample_bytree': 0.6840634500756977, 'reg_alpha': 4.716132133462152e-06, 'reg_lambda': 1.7023120906162165e-06}. Best is trial 0 with value: 1.0.\n",
      "[I 2025-06-14 22:49:36,107] Trial 19 finished with value: 1.0 and parameters: {'variance_threshold': 0.3921977726095091, 'n_features': 5411, 'feature_selector': 'f_classif', 'classifier': 'random_forest', 'use_scaling': True, 'class_weight': None, 'n_estimators': 499, 'max_depth': 16, 'min_samples_split': 8, 'min_samples_leaf': 3, 'max_features': 'sqrt'}. Best is trial 0 with value: 1.0.\n",
      "[I 2025-06-14 22:49:38,860] Trial 20 finished with value: 1.0 and parameters: {'variance_threshold': 0.15768138893167988, 'n_features': 7101, 'feature_selector': 'f_classif', 'classifier': 'random_forest', 'use_scaling': True, 'class_weight': 'balanced', 'n_estimators': 324, 'max_depth': 20, 'min_samples_split': 8, 'min_samples_leaf': 7, 'max_features': 'log2'}. Best is trial 0 with value: 1.0.\n"
     ]
    },
    {
     "name": "stderr",
     "output_type": "stream",
     "text": [
      "/Users/boystroo/PycharmProjects/XAIForB-ALL-good/.venv1/lib/python3.10/site-packages/sklearn/utils/validation.py:2739: UserWarning: X does not have valid feature names, but LGBMClassifier was fitted with feature names\n",
      "  warnings.warn(\n",
      "/Users/boystroo/PycharmProjects/XAIForB-ALL-good/.venv1/lib/python3.10/site-packages/sklearn/utils/validation.py:2739: UserWarning: X does not have valid feature names, but LGBMClassifier was fitted with feature names\n",
      "  warnings.warn(\n",
      "/Users/boystroo/PycharmProjects/XAIForB-ALL-good/.venv1/lib/python3.10/site-packages/sklearn/utils/validation.py:2739: UserWarning: X does not have valid feature names, but LGBMClassifier was fitted with feature names\n",
      "  warnings.warn(\n",
      "/Users/boystroo/PycharmProjects/XAIForB-ALL-good/.venv1/lib/python3.10/site-packages/sklearn/utils/validation.py:2739: UserWarning: X does not have valid feature names, but LGBMClassifier was fitted with feature names\n",
      "  warnings.warn(\n",
      "/Users/boystroo/PycharmProjects/XAIForB-ALL-good/.venv1/lib/python3.10/site-packages/sklearn/utils/validation.py:2739: UserWarning: X does not have valid feature names, but LGBMClassifier was fitted with feature names\n",
      "  warnings.warn(\n",
      "/Users/boystroo/PycharmProjects/XAIForB-ALL-good/.venv1/lib/python3.10/site-packages/sklearn/utils/validation.py:2739: UserWarning: X does not have valid feature names, but LGBMClassifier was fitted with feature names\n",
      "  warnings.warn(\n"
     ]
    },
    {
     "name": "stdout",
     "output_type": "stream",
     "text": [
      "[I 2025-06-14 22:49:43,018] Trial 21 finished with value: 1.0 and parameters: {'variance_threshold': 0.3647669177947605, 'n_features': 2074, 'feature_selector': 'f_classif', 'classifier': 'lightgbm', 'use_scaling': True, 'class_weight': 'balanced', 'n_estimators': 294, 'max_depth': 6, 'learning_rate': 0.023195623005266248, 'subsample': 0.998288042698449, 'colsample_bytree': 0.8661559325962194, 'reg_alpha': 0.047300839911389135, 'reg_lambda': 7.66055179018752, 'num_leaves': 61}. Best is trial 0 with value: 1.0.\n"
     ]
    },
    {
     "name": "stderr",
     "output_type": "stream",
     "text": [
      "/Users/boystroo/PycharmProjects/XAIForB-ALL-good/.venv1/lib/python3.10/site-packages/sklearn/utils/validation.py:2739: UserWarning: X does not have valid feature names, but LGBMClassifier was fitted with feature names\n",
      "  warnings.warn(\n",
      "/Users/boystroo/PycharmProjects/XAIForB-ALL-good/.venv1/lib/python3.10/site-packages/sklearn/utils/validation.py:2739: UserWarning: X does not have valid feature names, but LGBMClassifier was fitted with feature names\n",
      "  warnings.warn(\n",
      "/Users/boystroo/PycharmProjects/XAIForB-ALL-good/.venv1/lib/python3.10/site-packages/sklearn/utils/validation.py:2739: UserWarning: X does not have valid feature names, but LGBMClassifier was fitted with feature names\n",
      "  warnings.warn(\n",
      "/Users/boystroo/PycharmProjects/XAIForB-ALL-good/.venv1/lib/python3.10/site-packages/sklearn/utils/validation.py:2739: UserWarning: X does not have valid feature names, but LGBMClassifier was fitted with feature names\n",
      "  warnings.warn(\n",
      "/Users/boystroo/PycharmProjects/XAIForB-ALL-good/.venv1/lib/python3.10/site-packages/sklearn/utils/validation.py:2739: UserWarning: X does not have valid feature names, but LGBMClassifier was fitted with feature names\n",
      "  warnings.warn(\n",
      "/Users/boystroo/PycharmProjects/XAIForB-ALL-good/.venv1/lib/python3.10/site-packages/sklearn/utils/validation.py:2739: UserWarning: X does not have valid feature names, but LGBMClassifier was fitted with feature names\n",
      "  warnings.warn(\n"
     ]
    },
    {
     "name": "stdout",
     "output_type": "stream",
     "text": [
      "[I 2025-06-14 22:49:46,138] Trial 22 finished with value: 1.0 and parameters: {'variance_threshold': 0.2473558935612773, 'n_features': 665, 'feature_selector': 'f_classif', 'classifier': 'lightgbm', 'use_scaling': True, 'class_weight': 'balanced', 'n_estimators': 436, 'max_depth': 7, 'learning_rate': 0.010534650950082523, 'subsample': 0.9182660471967535, 'colsample_bytree': 0.9887126273626139, 'reg_alpha': 3.285711757143394e-08, 'reg_lambda': 0.03566387164460292, 'num_leaves': 43}. Best is trial 0 with value: 1.0.\n"
     ]
    },
    {
     "name": "stderr",
     "output_type": "stream",
     "text": [
      "/Users/boystroo/PycharmProjects/XAIForB-ALL-good/.venv1/lib/python3.10/site-packages/sklearn/utils/validation.py:2739: UserWarning: X does not have valid feature names, but LGBMClassifier was fitted with feature names\n",
      "  warnings.warn(\n",
      "/Users/boystroo/PycharmProjects/XAIForB-ALL-good/.venv1/lib/python3.10/site-packages/sklearn/utils/validation.py:2739: UserWarning: X does not have valid feature names, but LGBMClassifier was fitted with feature names\n",
      "  warnings.warn(\n",
      "/Users/boystroo/PycharmProjects/XAIForB-ALL-good/.venv1/lib/python3.10/site-packages/sklearn/utils/validation.py:2739: UserWarning: X does not have valid feature names, but LGBMClassifier was fitted with feature names\n",
      "  warnings.warn(\n",
      "/Users/boystroo/PycharmProjects/XAIForB-ALL-good/.venv1/lib/python3.10/site-packages/sklearn/utils/validation.py:2739: UserWarning: X does not have valid feature names, but LGBMClassifier was fitted with feature names\n",
      "  warnings.warn(\n",
      "/Users/boystroo/PycharmProjects/XAIForB-ALL-good/.venv1/lib/python3.10/site-packages/sklearn/utils/validation.py:2739: UserWarning: X does not have valid feature names, but LGBMClassifier was fitted with feature names\n",
      "  warnings.warn(\n",
      "/Users/boystroo/PycharmProjects/XAIForB-ALL-good/.venv1/lib/python3.10/site-packages/sklearn/utils/validation.py:2739: UserWarning: X does not have valid feature names, but LGBMClassifier was fitted with feature names\n",
      "  warnings.warn(\n"
     ]
    },
    {
     "name": "stdout",
     "output_type": "stream",
     "text": [
      "[I 2025-06-14 22:49:50,497] Trial 23 finished with value: 1.0 and parameters: {'variance_threshold': 0.45303262472921635, 'n_features': 3651, 'feature_selector': 'f_classif', 'classifier': 'lightgbm', 'use_scaling': True, 'class_weight': 'balanced', 'n_estimators': 264, 'max_depth': 6, 'learning_rate': 0.09152161800945911, 'subsample': 0.8065906724989261, 'colsample_bytree': 0.7994804659539927, 'reg_alpha': 4.54309370276969, 'reg_lambda': 0.00010713477042900469, 'num_leaves': 98}. Best is trial 0 with value: 1.0.\n"
     ]
    },
    {
     "name": "stderr",
     "output_type": "stream",
     "text": [
      "/Users/boystroo/PycharmProjects/XAIForB-ALL-good/.venv1/lib/python3.10/site-packages/sklearn/utils/validation.py:2739: UserWarning: X does not have valid feature names, but LGBMClassifier was fitted with feature names\n",
      "  warnings.warn(\n",
      "/Users/boystroo/PycharmProjects/XAIForB-ALL-good/.venv1/lib/python3.10/site-packages/sklearn/utils/validation.py:2739: UserWarning: X does not have valid feature names, but LGBMClassifier was fitted with feature names\n",
      "  warnings.warn(\n",
      "/Users/boystroo/PycharmProjects/XAIForB-ALL-good/.venv1/lib/python3.10/site-packages/sklearn/utils/validation.py:2739: UserWarning: X does not have valid feature names, but LGBMClassifier was fitted with feature names\n",
      "  warnings.warn(\n",
      "/Users/boystroo/PycharmProjects/XAIForB-ALL-good/.venv1/lib/python3.10/site-packages/sklearn/utils/validation.py:2739: UserWarning: X does not have valid feature names, but LGBMClassifier was fitted with feature names\n",
      "  warnings.warn(\n",
      "/Users/boystroo/PycharmProjects/XAIForB-ALL-good/.venv1/lib/python3.10/site-packages/sklearn/utils/validation.py:2739: UserWarning: X does not have valid feature names, but LGBMClassifier was fitted with feature names\n",
      "  warnings.warn(\n",
      "/Users/boystroo/PycharmProjects/XAIForB-ALL-good/.venv1/lib/python3.10/site-packages/sklearn/utils/validation.py:2739: UserWarning: X does not have valid feature names, but LGBMClassifier was fitted with feature names\n",
      "  warnings.warn(\n"
     ]
    },
    {
     "name": "stdout",
     "output_type": "stream",
     "text": [
      "[I 2025-06-14 22:49:53,408] Trial 24 finished with value: 1.0 and parameters: {'variance_threshold': 0.5689554884391748, 'n_features': 1219, 'feature_selector': 'f_classif', 'classifier': 'lightgbm', 'use_scaling': True, 'class_weight': 'balanced', 'n_estimators': 143, 'max_depth': 8, 'learning_rate': 0.022705153552328928, 'subsample': 0.9249081653983519, 'colsample_bytree': 0.8595849191581005, 'reg_alpha': 1.591320623245741e-05, 'reg_lambda': 0.083433321802498, 'num_leaves': 21}. Best is trial 0 with value: 1.0.\n"
     ]
    },
    {
     "name": "stderr",
     "output_type": "stream",
     "text": [
      "/Users/boystroo/PycharmProjects/XAIForB-ALL-good/.venv1/lib/python3.10/site-packages/sklearn/utils/validation.py:2739: UserWarning: X does not have valid feature names, but LGBMClassifier was fitted with feature names\n",
      "  warnings.warn(\n",
      "/Users/boystroo/PycharmProjects/XAIForB-ALL-good/.venv1/lib/python3.10/site-packages/sklearn/utils/validation.py:2739: UserWarning: X does not have valid feature names, but LGBMClassifier was fitted with feature names\n",
      "  warnings.warn(\n",
      "/Users/boystroo/PycharmProjects/XAIForB-ALL-good/.venv1/lib/python3.10/site-packages/sklearn/utils/validation.py:2739: UserWarning: X does not have valid feature names, but LGBMClassifier was fitted with feature names\n",
      "  warnings.warn(\n",
      "/Users/boystroo/PycharmProjects/XAIForB-ALL-good/.venv1/lib/python3.10/site-packages/sklearn/utils/validation.py:2739: UserWarning: X does not have valid feature names, but LGBMClassifier was fitted with feature names\n",
      "  warnings.warn(\n",
      "/Users/boystroo/PycharmProjects/XAIForB-ALL-good/.venv1/lib/python3.10/site-packages/sklearn/utils/validation.py:2739: UserWarning: X does not have valid feature names, but LGBMClassifier was fitted with feature names\n",
      "  warnings.warn(\n",
      "/Users/boystroo/PycharmProjects/XAIForB-ALL-good/.venv1/lib/python3.10/site-packages/sklearn/utils/validation.py:2739: UserWarning: X does not have valid feature names, but LGBMClassifier was fitted with feature names\n",
      "  warnings.warn(\n"
     ]
    },
    {
     "name": "stdout",
     "output_type": "stream",
     "text": [
      "[I 2025-06-14 22:49:56,771] Trial 25 finished with value: 1.0 and parameters: {'variance_threshold': 0.19426711275796738, 'n_features': 2458, 'feature_selector': 'f_classif', 'classifier': 'lightgbm', 'use_scaling': True, 'class_weight': 'balanced', 'n_estimators': 218, 'max_depth': 4, 'learning_rate': 0.0367480457875785, 'subsample': 0.8060987139203102, 'colsample_bytree': 0.9490318926411205, 'reg_alpha': 0.001505465154104983, 'reg_lambda': 0.003243030204840277, 'num_leaves': 74}. Best is trial 0 with value: 1.0.\n",
      "[I 2025-06-14 22:51:36,277] Trial 26 finished with value: 1.0 and parameters: {'variance_threshold': 0.3240599697461399, 'n_features': 3360, 'feature_selector': 'mutual_info_classif', 'classifier': 'xgboost', 'use_scaling': False, 'class_weight': None, 'n_estimators': 340, 'max_depth': 8, 'learning_rate': 0.017724612648609816, 'subsample': 0.6535711551007728, 'colsample_bytree': 0.7686564000341465, 'reg_alpha': 3.201144217844586e-07, 'reg_lambda': 5.793975991728809}. Best is trial 0 with value: 1.0.\n"
     ]
    },
    {
     "name": "stderr",
     "output_type": "stream",
     "text": [
      "/Users/boystroo/PycharmProjects/XAIForB-ALL-good/.venv1/lib/python3.10/site-packages/sklearn/utils/validation.py:2739: UserWarning: X does not have valid feature names, but LGBMClassifier was fitted with feature names\n",
      "  warnings.warn(\n",
      "/Users/boystroo/PycharmProjects/XAIForB-ALL-good/.venv1/lib/python3.10/site-packages/sklearn/utils/validation.py:2739: UserWarning: X does not have valid feature names, but LGBMClassifier was fitted with feature names\n",
      "  warnings.warn(\n",
      "/Users/boystroo/PycharmProjects/XAIForB-ALL-good/.venv1/lib/python3.10/site-packages/sklearn/utils/validation.py:2739: UserWarning: X does not have valid feature names, but LGBMClassifier was fitted with feature names\n",
      "  warnings.warn(\n",
      "/Users/boystroo/PycharmProjects/XAIForB-ALL-good/.venv1/lib/python3.10/site-packages/sklearn/utils/validation.py:2739: UserWarning: X does not have valid feature names, but LGBMClassifier was fitted with feature names\n",
      "  warnings.warn(\n",
      "/Users/boystroo/PycharmProjects/XAIForB-ALL-good/.venv1/lib/python3.10/site-packages/sklearn/utils/validation.py:2739: UserWarning: X does not have valid feature names, but LGBMClassifier was fitted with feature names\n",
      "  warnings.warn(\n",
      "/Users/boystroo/PycharmProjects/XAIForB-ALL-good/.venv1/lib/python3.10/site-packages/sklearn/utils/validation.py:2739: UserWarning: X does not have valid feature names, but LGBMClassifier was fitted with feature names\n",
      "  warnings.warn(\n"
     ]
    },
    {
     "name": "stdout",
     "output_type": "stream",
     "text": [
      "[I 2025-06-14 22:51:40,704] Trial 27 finished with value: 1.0 and parameters: {'variance_threshold': 0.4243426828021651, 'n_features': 4601, 'feature_selector': 'f_classif', 'classifier': 'lightgbm', 'use_scaling': True, 'class_weight': 'balanced', 'n_estimators': 290, 'max_depth': 7, 'learning_rate': 0.08687092260359813, 'subsample': 0.9442602078027229, 'colsample_bytree': 0.8427504552916896, 'reg_alpha': 0.39773688078321034, 'reg_lambda': 2.6169664122696604e-07, 'num_leaves': 38}. Best is trial 0 with value: 1.0.\n",
      "[I 2025-06-14 22:51:44,765] Trial 28 finished with value: 1.0 and parameters: {'variance_threshold': 0.10775290993717757, 'n_features': 1233, 'feature_selector': 'f_classif', 'classifier': 'xgboost', 'use_scaling': True, 'class_weight': None, 'n_estimators': 208, 'max_depth': 6, 'learning_rate': 0.028159632431500187, 'subsample': 0.8603297537102066, 'colsample_bytree': 0.6065948274718582, 'reg_alpha': 9.712340981387267e-05, 'reg_lambda': 5.71248181506669e-05}. Best is trial 0 with value: 1.0.\n",
      "[I 2025-06-14 22:51:47,736] Trial 29 finished with value: 1.0 and parameters: {'variance_threshold': 0.2667153762169068, 'n_features': 1589, 'feature_selector': 'f_classif', 'classifier': 'random_forest', 'use_scaling': True, 'class_weight': None, 'n_estimators': 151, 'max_depth': 12, 'min_samples_split': 5, 'min_samples_leaf': 10, 'max_features': 'log2'}. Best is trial 0 with value: 1.0.\n",
      "Optimization completed!\n",
      "Number of finished trials: 30\n",
      "Best trial number: 0\n",
      "Best AUC score: 1.0000\n"
     ]
    }
   ],
   "execution_count": 12
  },
  {
   "metadata": {},
   "cell_type": "code",
   "outputs": [],
   "execution_count": null,
   "source": "## Cell 6: Analyze Results\n",
   "id": "88fdec0d20a204f6"
  },
  {
   "metadata": {},
   "cell_type": "code",
   "outputs": [],
   "execution_count": null,
   "source": [
    "# Get best parameters\n",
    "best_params = study.best_params\n",
    "print(\"Best hyperparameters:\")\n",
    "for key, value in best_params.items():\n",
    "    print(f\"  {key}: {value}\")\n",
    "\n",
    "# Get best trial details\n",
    "best_trial = study.best_trial\n",
    "print(f\"\\nBest trial:\")\n",
    "print(f\"  Value (AUC): {best_trial.value:.4f}\")\n",
    "print(f\"  Number: {best_trial.number}\")\n",
    "\n",
    "# Show optimization history\n",
    "trials_df = study.trials_dataframe()\n",
    "print(f\"\\nTrials summary:\")\n",
    "print(f\"  Total trials: {len(trials_df)}\")\n",
    "print(f\"  Completed trials: {len(trials_df[trials_df['state'] == 'COMPLETE'])}\")\n",
    "print(f\"  Failed trials: {len(trials_df[trials_df['state'] == 'FAIL'])}\")\n",
    "\n",
    "# Basic statistics\n",
    "if len(trials_df[trials_df['state'] == 'COMPLETE']) > 0:\n",
    "    completed_values = trials_df[trials_df['state'] == 'COMPLETE']['value']\n",
    "    print(f\"  Mean AUC: {completed_values.mean():.4f}\")\n",
    "    print(f\"  Std AUC: {completed_values.std():.4f}\")\n",
    "    print(f\"  Min AUC: {completed_values.min():.4f}\")\n",
    "    print(f\"  Max AUC: {completed_values.max():.4f}\")"
   ],
   "id": "fbbc93357f0ed4c9"
  },
  {
   "metadata": {},
   "cell_type": "code",
   "outputs": [],
   "execution_count": null,
   "source": "## Cell 7: Save Optimization Results",
   "id": "b0386934c373a23a"
  },
  {
   "metadata": {},
   "cell_type": "code",
   "outputs": [],
   "execution_count": null,
   "source": [
    "# Save the complete study for later analysis\n",
    "study_file = f'{study_name}_complete_study.pkl'\n",
    "with open(study_file, 'wb') as f:\n",
    "    pickle.dump(study, f)\n",
    "\n",
    "# Save best parameters separately for easy loading\n",
    "best_params_file = f'{study_name}_best_params.pkl'\n",
    "with open(best_params_file, 'wb') as f:\n",
    "    pickle.dump(best_params, f)\n",
    "\n",
    "# Save as JSON for human readability\n",
    "import json\n",
    "best_params_json = f'{study_name}_best_params.json'\n",
    "with open(best_params_json, 'w') as f:\n",
    "    json.dump(best_params, f, indent=2)\n",
    "\n",
    "# Save trials dataframe\n",
    "trials_csv = f'{study_name}_trials.csv'\n",
    "trials_df.to_csv(trials_csv, index=False)\n",
    "\n",
    "print(\"Files saved:\")\n",
    "print(f\"  Complete study: {study_file}\")\n",
    "print(f\"  Best parameters (pickle): {best_params_file}\")\n",
    "print(f\"  Best parameters (JSON): {best_params_json}\")\n",
    "print(f\"  All trials: {trials_csv}\")"
   ],
   "id": "c3ed0cdcb90cedf0"
  },
  {
   "metadata": {},
   "cell_type": "code",
   "outputs": [],
   "execution_count": null,
   "source": "## Cell 8: Create Optimized Pipeline for Export",
   "id": "36d62f6bac368c6b"
  },
  {
   "metadata": {},
   "cell_type": "code",
   "outputs": [],
   "execution_count": null,
   "source": [
    "# Reconstruct the best pipeline for training in another notebook\n",
    "def create_optimized_pipeline(best_params):\n",
    "    \"\"\"\n",
    "    Create the optimized pipeline based on best parameters.\n",
    "    This function can be imported and used in the training notebook.\n",
    "    \"\"\"\n",
    "\n",
    "    # Extract parameters\n",
    "    variance_threshold = best_params['variance_threshold']\n",
    "    n_features = best_params['n_features']\n",
    "    feature_selector = best_params['feature_selector']\n",
    "    classifier_name = best_params['classifier']\n",
    "    use_scaling = best_params['use_scaling']\n",
    "    class_weight = best_params['class_weight']\n",
    "\n",
    "    # Build pipeline steps\n",
    "    pipeline_steps = []\n",
    "\n",
    "    # Add variance threshold filter\n",
    "    pipeline_steps.append(('variance_filter', VarianceThreshold(threshold=variance_threshold)))\n",
    "\n",
    "    # Add feature selection\n",
    "    if feature_selector == 'f_classif':\n",
    "        selector = SelectKBest(f_classif, k=n_features)\n",
    "    else:\n",
    "        selector = SelectKBest(mutual_info_classif, k=n_features)\n",
    "    pipeline_steps.append(('feature_selection', selector))\n",
    "\n",
    "    # Add scaling if selected\n",
    "    if use_scaling:\n",
    "        pipeline_steps.append(('scaler', StandardScaler()))\n",
    "\n",
    "    # Create classifier based on best parameters\n",
    "    if classifier_name == 'xgboost':\n",
    "        # Handle class imbalance for XGBoost\n",
    "        if class_weight == 'balanced':\n",
    "            scale_pos_weight = len(labels[labels == 0]) / len(labels[labels == 1])\n",
    "        else:\n",
    "            scale_pos_weight = 1\n",
    "\n",
    "        classifier = XGBClassifier(\n",
    "            n_estimators=best_params['n_estimators'],\n",
    "            max_depth=best_params['max_depth'],\n",
    "            learning_rate=best_params['learning_rate'],\n",
    "            subsample=best_params['subsample'],\n",
    "            colsample_bytree=best_params['colsample_bytree'],\n",
    "            reg_alpha=best_params['reg_alpha'],\n",
    "            reg_lambda=best_params['reg_lambda'],\n",
    "            scale_pos_weight=scale_pos_weight,\n",
    "            random_state=RANDOM_STATE,\n",
    "            n_jobs=-1,\n",
    "            eval_metric='logloss'\n",
    "        )\n",
    "    elif classifier_name == 'lightgbm':\n",
    "        # Handle class imbalance for LightGBM\n",
    "        if class_weight == 'balanced':\n",
    "            class_weight_dict = 'balanced'\n",
    "        else:\n",
    "            class_weight_dict = None\n",
    "\n",
    "        classifier = LGBMClassifier(\n",
    "            n_estimators=best_params['n_estimators'],\n",
    "            max_depth=best_params['max_depth'],\n",
    "            learning_rate=best_params['learning_rate'],\n",
    "            subsample=best_params['subsample'],\n",
    "            colsample_bytree=best_params['colsample_bytree'],\n",
    "            reg_alpha=best_params['reg_alpha'],\n",
    "            reg_lambda=best_params['reg_lambda'],\n",
    "            num_leaves=best_params['num_leaves'],\n",
    "            class_weight=class_weight_dict,\n",
    "            random_state=RANDOM_STATE,\n",
    "            n_jobs=-1,\n",
    "            verbosity=-1\n",
    "        )\n",
    "    elif classifier_name == 'random_forest':\n",
    "        classifier = RandomForestClassifier(\n",
    "            n_estimators=best_params['n_estimators'],\n",
    "            max_depth=best_params['max_depth'],\n",
    "            min_samples_split=best_params['min_samples_split'],\n",
    "            min_samples_leaf=best_params['min_samples_leaf'],\n",
    "            max_features=best_params['max_features'],\n",
    "            class_weight=class_weight,\n",
    "            random_state=RANDOM_STATE,\n",
    "            n_jobs=-1\n",
    "        )\n",
    "\n",
    "    # Add classifier to pipeline\n",
    "    pipeline_steps.append(('classifier', classifier))\n",
    "\n",
    "    # Create and return pipeline\n",
    "    return Pipeline(pipeline_steps)\n",
    "\n",
    "# Create and save the optimized pipeline\n",
    "optimized_pipeline = create_optimized_pipeline(best_params)\n",
    "\n",
    "# Save the pipeline\n",
    "pipeline_file = f'{study_name}_optimized_pipeline.pkl'\n",
    "joblib.dump(optimized_pipeline, pipeline_file)\n",
    "\n",
    "print(f\"Optimized pipeline saved: {pipeline_file}\")\n",
    "print(f\"Pipeline steps: {[step[0] for step in optimized_pipeline.steps]}\")"
   ],
   "id": "ace4d9c61c58944d"
  },
  {
   "metadata": {},
   "cell_type": "code",
   "outputs": [],
   "execution_count": null,
   "source": "## Cell 9: Validation and Summary",
   "id": "d9b99821d5e9ace"
  },
  {
   "metadata": {},
   "cell_type": "code",
   "outputs": [],
   "execution_count": null,
   "source": [
    "# Quick validation of the optimized pipeline\n",
    "print(\"Validating optimized pipeline...\")\n",
    "\n",
    "# Perform one final cross-validation with best parameters\n",
    "cv = StratifiedKFold(n_splits=5, shuffle=True, random_state=RANDOM_STATE)\n",
    "final_scores = cross_val_score(optimized_pipeline, vst_data, labels,\n",
    "                              cv=cv, scoring='roc_auc', n_jobs=-1)\n",
    "\n",
    "print(f\"Final validation scores (AUC): {final_scores}\")\n",
    "print(f\"Mean AUC: {final_scores.mean():.4f} ± {final_scores.std():.4f}\")\n",
    "\n",
    "# Create summary dictionary\n",
    "optimization_summary = {\n",
    "    'study_name': study_name,\n",
    "    'n_trials': len(study.trials),\n",
    "    'best_score': study.best_value,\n",
    "    'best_params': best_params,\n",
    "    'final_validation_mean': final_scores.mean(),\n",
    "    'final_validation_std': final_scores.std(),\n",
    "    'data_shape': vst_data.shape,\n",
    "    'random_state': RANDOM_STATE\n",
    "}\n",
    "\n",
    "# Save summary\n",
    "summary_file = f'{study_name}_summary.pkl'\n",
    "with open(summary_file, 'wb') as f:\n",
    "    pickle.dump(optimization_summary, f)\n",
    "\n",
    "print(f\"\\nOptimization Summary:\")\n",
    "print(f\"  Study: {optimization_summary['study_name']}\")\n",
    "print(f\"  Trials completed: {optimization_summary['n_trials']}\")\n",
    "print(f\"  Best AUC: {optimization_summary['best_score']:.4f}\")\n",
    "print(f\"  Final validation: {optimization_summary['final_validation_mean']:.4f} ± {optimization_summary['final_validation_std']:.4f}\")\n",
    "print(f\"  Data shape: {optimization_summary['data_shape']}\")\n",
    "\n",
    "print(f\"\\nSummary saved: {summary_file}\")"
   ],
   "id": "23c67338ede0020c"
  },
  {
   "metadata": {},
   "cell_type": "code",
   "outputs": [],
   "execution_count": null,
   "source": "## Cell 10: Files for Next Notebook",
   "id": "b73f600542fb58c2"
  },
  {
   "metadata": {},
   "cell_type": "code",
   "outputs": [],
   "execution_count": null,
   "source": [
    "# List all files created for the training notebook\n",
    "created_files = [\n",
    "    f'{study_name}_best_params.pkl',\n",
    "    f'{study_name}_best_params.json',\n",
    "    f'{study_name}_optimized_pipeline.pkl',\n",
    "    f'{study_name}_summary.pkl',\n",
    "    f'{study_name}_complete_study.pkl',\n",
    "    f'{study_name}_trials.csv'\n",
    "]\n",
    "\n",
    "print(\"Files created for training notebook:\")\n",
    "for file in created_files:\n",
    "    print(f\"  ✓ {file}\")\n",
    "\n",
    "print(f\"\\nTo use in training notebook:\")\n",
    "print(f\"1. Load best parameters: pickle.load(open('{best_params_file}', 'rb'))\")\n",
    "print(f\"2. Load optimized pipeline: joblib.load('{pipeline_file}')\")\n",
    "print(f\"3. Load summary: pickle.load(open('{summary_file}', 'rb'))\")\n",
    "\n",
    "print(f\"\\nReady for training phase!\")\n"
   ],
   "id": "e2ee587d3c10eb7"
  },
  {
   "metadata": {
    "ExecuteTime": {
     "end_time": "2025-06-14T20:51:49.350868Z",
     "start_time": "2025-06-14T20:51:47.771939Z"
    }
   },
   "cell_type": "code",
   "source": [
    "# Add this to a new cell to diagnose:\n",
    "print(\"Data diagnostics:\")\n",
    "print(f\"Healthy samples: {(labels == 0).sum()}\")\n",
    "print(f\"Unhealthy samples: {(labels == 1).sum()}\")\n",
    "print(f\"Unique sample sources in data\")\n",
    "\n",
    "# Check for perfect separation\n",
    "from sklearn.decomposition import PCA\n",
    "pca = PCA(n_components=2)\n",
    "pca_data = pca.fit_transform(vst_data)\n",
    "\n",
    "import matplotlib.pyplot as plt\n",
    "plt.figure(figsize=(10, 6))\n",
    "plt.scatter(pca_data[labels==0, 0], pca_data[labels==0, 1], alpha=0.7, label='Healthy')\n",
    "plt.scatter(pca_data[labels==1, 0], pca_data[labels==1, 1], alpha=0.7, label='Unhealthy')\n",
    "plt.legend()\n",
    "plt.title(\"PCA: Healthy vs Unhealthy\")\n",
    "plt.show()"
   ],
   "id": "7f0c929a05c268db",
   "outputs": [
    {
     "name": "stdout",
     "output_type": "stream",
     "text": [
      "Data diagnostics:\n",
      "Healthy samples: 1000\n",
      "Unhealthy samples: 895\n",
      "Unique sample sources in data\n"
     ]
    },
    {
     "data": {
      "text/plain": [
       "<Figure size 1000x600 with 1 Axes>"
      ],
      "image/png": "[encoded data removed]"
     },
     "metadata": {},
     "output_type": "display_data"
    }
   ],
   "execution_count": 13
  },
  {
   "metadata": {
    "ExecuteTime": {
     "end_time": "2025-06-14T20:52:19.811289Z",
     "start_time": "2025-06-14T20:52:18.221020Z"
    }
   },
   "cell_type": "code",
   "source": [
    "# Test with a simple train/test split to see if perfect scores persist\n",
    "from sklearn.model_selection import train_test_split\n",
    "from sklearn.ensemble import RandomForestClassifier\n",
    "from sklearn.metrics import roc_auc_score\n",
    "\n",
    "X_train, X_test, y_train, y_test = train_test_split(\n",
    "    vst_data, labels, test_size=0.3, stratify=labels, random_state=42\n",
    ")\n",
    "\n",
    "# Simple Random Forest test\n",
    "rf = RandomForestClassifier(n_estimators=100, random_state=42)\n",
    "rf.fit(X_train, y_train)\n",
    "y_pred_proba = rf.predict_proba(X_test)[:, 1]\n",
    "test_auc = roc_auc_score(y_test, y_pred_proba)\n",
    "print(f\"Manual test AUC: {test_auc}\")"
   ],
   "id": "5ae8597a5b864396",
   "outputs": [
    {
     "name": "stdout",
     "output_type": "stream",
     "text": [
      "Manual test AUC: 1.0\n"
     ]
    }
   ],
   "execution_count": 14
  },
  {
   "metadata": {},
   "cell_type": "markdown",
   "source": [
    "## Notes for Training Notebook\n",
    "\n",
    "When you move to the training notebook, you can load the optimized configuration with:\n",
    "\n",
    "```python\n",
    "import pickle\n",
    "import joblib\n",
    "\n",
    "# Load best parameters\n",
    "best_params = pickle.load(open('rna_seq_binary_classification_best_params.pkl', 'rb'))\n",
    "\n",
    "# Load pre-configured optimized pipeline\n",
    "optimized_pipeline = joblib.load('rna_seq_binary_classification_optimized_pipeline.pkl')\n",
    "\n",
    "# Load optimization summary\n",
    "summary = pickle.load(open('rna_seq_binary_classification_summary.pkl', 'rb'))\n",
    "\n",
    "# Now you can fit the pipeline and apply SHAP analysis\n",
    "optimized_pipeline.fit(X_train, y_train)\n",
    "predictions = optimized_pipeline.predict(X_test)\n",
    "```\n",
    "\n",
    "The pipeline is ready to use and contains all the optimized preprocessing steps and model configuration."
   ],
   "id": "440b442cdd603b3"
  }
 ],
 "metadata": {
  "kernelspec": {
   "display_name": "Python 3",
   "language": "python",
   "name": "python3"
  },
  "language_info": {
   "codemirror_mode": {
    "name": "ipython",
    "version": 2
   },
   "file_extension": ".py",
   "mimetype": "text/x-python",
   "name": "python",
   "nbconvert_exporter": "python",
   "pygments_lexer": "ipython2",
   "version": "2.7.6"
  }
 },
 "nbformat": 4,
 "nbformat_minor": 5
}
