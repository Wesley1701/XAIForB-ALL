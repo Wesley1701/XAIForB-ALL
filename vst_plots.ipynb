{
 "cells": [
  {
   "cell_type": "code",
   "execution_count": null,
   "id": "0",
   "metadata": {},
   "outputs": [],
   "source": [
    "%pip install pyarrow"
   ]
  },
  {
   "cell_type": "code",
   "execution_count": null,
   "id": "1",
   "metadata": {},
   "outputs": [],
   "source": [
    "import pandas as pd\n",
    "from sklearn.decomposition import PCA\n",
    "import matplotlib.pyplot as plt\n",
    "import seaborn as sns\n",
    "\n",
    "vst_transformed_counts_df = None\n",
    "merged_metadata = None\n",
    "\n",
    "# --- Load VST transformed counts data ---\n",
    "try:\n",
    "    vst_transformed_counts_df = pd.read_parquet(\"data/vst_transformed_counts.pq\")\n",
    "    merged_metadata = pd.read_parquet(\"data/merged_metadata.pq\")\n",
    "    print(\"VST transformed counts loaded successfully.\")\n",
    "except FileNotFoundError:\n",
    "    print(\"Error: VST transformed counts or metadata file not found. Please check the file paths.\")\n",
    "\n",
    "# --- Transpose the VST data for PCA ---\n",
    "data_for_pca = vst_transformed_counts_df.T\n",
    "print(f\"Shape of data for PCA (samples x genes): {data_for_pca.shape}\")\n",
    "\n",
    "\n",
    "# --- Perform PCA ---\n",
    "# Initialize PCA. You typically start with 2 components for a 2D plot.\n",
    "pca = PCA(n_components=2)\n",
    "\n",
    "# Fit PCA to your data and transform it\n",
    "principal_components = pca.fit_transform(data_for_pca)\n",
    "\n",
    "# Create a DataFrame for the principal components for easier plotting\n",
    "pca_df = pd.DataFrame(data=principal_components,\n",
    "                      columns=['PC1', 'PC2'],\n",
    "                      index=data_for_pca.index) # Use sample names as index\n",
    "\n",
    "pca_df_with_metadata = pca_df.merge(merged_metadata, left_index=True, right_index=True)\n",
    "\n",
    "# --- Plot the PCA results ---\n",
    "plt.figure(figsize=(10, 8))\n",
    "sns.scatterplot(\n",
    "    x='PC1',\n",
    "    y='PC2',\n",
    "    hue='condition', # Color points by your experimental condition\n",
    "    data=pca_df_with_metadata,\n",
    "    s=100, # Size of the points\n",
    "    alpha=0.8 # Transparency of the points\n",
    ")\n",
    "\n",
    "# Add explained variance to the axis labels\n",
    "explained_variance_ratio = pca.explained_variance_ratio_\n",
    "plt.xlabel(f'Principal Component 1 ({explained_variance_ratio[0]*100:.2f}%)')\n",
    "plt.ylabel(f'Principal Component 2 ({explained_variance_ratio[1]*100:.2f}%)')\n",
    "plt.title('PCA Plot of VST Transformed Counts')\n",
    "plt.grid(True)\n",
    "plt.legend(title='Condition')\n",
    "plt.tight_layout()\n",
    "plt.show()"
   ]
  },
  {
   "cell_type": "code",
   "execution_count": null,
   "id": "2",
   "metadata": {},
   "outputs": [],
   "source": []
  }
 ],
 "metadata": {
  "kernelspec": {
   "display_name": "Python 3",
   "language": "python",
   "name": "python3"
  },
  "language_info": {
   "codemirror_mode": {
    "name": "ipython",
    "version": 3
   },
   "file_extension": ".py",
   "mimetype": "text/x-python",
   "name": "python",
   "nbconvert_exporter": "python",
   "pygments_lexer": "ipython3",
   "version": "3.12.10"
  }
 },
 "nbformat": 4,
 "nbformat_minor": 5
}
