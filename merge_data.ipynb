{
 "cells": [
  {
   "cell_type": "code",
   "execution_count": null,
   "id": "e426be92",
   "metadata": {},
   "outputs": [],
   "source": [
    "import pandas as pd\n",
    "import mygene"
   ]
  }
 ],
 "metadata": {
  "language_info": {
   "name": "python"
  }
 },
 "nbformat": 4,
 "nbformat_minor": 5
}
