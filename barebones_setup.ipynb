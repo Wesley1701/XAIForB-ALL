{
 "cells": [
  {
   "metadata": {},
   "cell_type": "markdown",
   "source": "# Classify B-ALL",
   "id": "b847fa0b521b92c0"
  },
  {
   "metadata": {},
   "cell_type": "markdown",
   "source": [
    "- After every kernel restart rerun \"Core\"\n",
    "- It's best to restart after you run a training process"
   ],
   "id": "bb6039a463ca4eec"
  },
  {
   "metadata": {},
   "cell_type": "markdown",
   "source": "## Core (Always run)",
   "id": "a52f9fcdd4a1aeed"
  },
  {
   "metadata": {},
   "cell_type": "markdown",
   "source": "Imports",
   "id": "4c5318d8458a5448"
  },
  {
   "metadata": {
    "ExecuteTime": {
     "end_time": "2025-06-21T22:02:56.182443Z",
     "start_time": "2025-06-21T22:02:56.179796Z"
    }
   },
   "cell_type": "code",
   "source": [
    "# import cudf\n",
    "# import cuml\n",
    "import pandas as pd\n",
    "import numpy as np\n",
    "\n",
    "import seaborn as sns\n",
    "import matplotlib.pyplot as plt\n",
    "\n",
    "import time\n",
    "import random\n",
    "\n",
    "import shap\n",
    "\n",
    "from sklearn.preprocessing import StandardScaler\n",
    "from sklearn.decomposition import PCA\n",
    "from sklearn.feature_selection import SelectKBest, f_classif, VarianceThreshold\n",
    "from sklearn.linear_model import LogisticRegression\n",
    "from sklearn.model_selection import train_test_split, StratifiedKFold\n",
    "from sklearn.metrics import roc_auc_score, precision_recall_curve, auc\n",
    "from sklearn.utils import shuffle, resample\n",
    "from xgboost import XGBClassifier, DMatrix\n",
    "from imblearn.over_sampling import SMOTE\n",
    "from imblearn.under_sampling import RandomUnderSampler"
   ],
   "id": "bb6a416041e4c853",
   "outputs": [],
   "execution_count": 142
  },
  {
   "metadata": {},
   "cell_type": "markdown",
   "source": "Global Variables",
   "id": "589963eb48fefccf"
  },
  {
   "metadata": {},
   "cell_type": "code",
   "outputs": [],
   "execution_count": null,
   "source": [
    "start_time = time.time()\n",
    "\n",
    "path_to_data = \"data/\""
   ],
   "id": "f7df899908b644a5"
  },
  {
   "metadata": {},
   "cell_type": "markdown",
   "source": "### Preprocess",
   "id": "c85073df7f625c98"
  },
  {
   "metadata": {},
   "cell_type": "markdown",
   "source": "Load Datasets",
   "id": "fc70c903cfce192b"
  },
  {
   "metadata": {
    "ExecuteTime": {
     "end_time": "2025-06-21T21:19:07.290534Z",
     "start_time": "2025-06-21T21:19:06.185298Z"
    }
   },
   "cell_type": "code",
   "source": [
    "df_healthy = pd.read_csv(\"data/merged_unstranded_healthy_data.csv\", index_col='gene_id') # Sample names is column\n",
    "df_aml = pd.read_csv(\"data/merged_unstranded_unhealthy_data.csv\", index_col='gene_id') # Sample names is column"
   ],
   "id": "22513baa1a8e7592",
   "outputs": [],
   "execution_count": 4
  },
  {
   "metadata": {
    "ExecuteTime": {
     "end_time": "2025-06-21T21:19:09.577424Z",
     "start_time": "2025-06-21T21:19:09.569539Z"
    }
   },
   "cell_type": "code",
   "source": "df_aml.head()",
   "id": "4e22a25287006c8c",
   "outputs": [
    {
     "data": {
      "text/plain": [
       "                gene_name       gene_type  \\\n",
       "gene_id                                     \n",
       "ENSG00000000003    TSPAN6  protein_coding   \n",
       "ENSG00000000005      TNMD  protein_coding   \n",
       "ENSG00000000419      DPM1  protein_coding   \n",
       "ENSG00000000457     SCYL3  protein_coding   \n",
       "ENSG00000000460  C1orf112  protein_coding   \n",
       "\n",
       "                 a9e276bb-593a-4723-b9b9-629618a0c657  \\\n",
       "gene_id                                                 \n",
       "ENSG00000000003                                0.5112   \n",
       "ENSG00000000005                                0.0000   \n",
       "ENSG00000000419                               40.7959   \n",
       "ENSG00000000457                                4.8853   \n",
       "ENSG00000000460                                2.7968   \n",
       "\n",
       "                 15c888bd-e07c-4505-a65e-5619702f36f5  \\\n",
       "gene_id                                                 \n",
       "ENSG00000000003                                0.1393   \n",
       "ENSG00000000005                                0.0389   \n",
       "ENSG00000000419                               36.9689   \n",
       "ENSG00000000457                                3.3040   \n",
       "ENSG00000000460                                3.0878   \n",
       "\n",
       "                 6f7ee2c2-8ee0-40f9-8ef3-0d389aa22a54  \\\n",
       "gene_id                                                 \n",
       "ENSG00000000003                                0.3135   \n",
       "ENSG00000000005                                0.0000   \n",
       "ENSG00000000419                               33.8329   \n",
       "ENSG00000000457                                2.2476   \n",
       "ENSG00000000460                                5.3636   \n",
       "\n",
       "                 7c1f22be-3f25-4ac5-afe8-309341e3eeef  \\\n",
       "gene_id                                                 \n",
       "ENSG00000000003                                0.3545   \n",
       "ENSG00000000005                                0.0000   \n",
       "ENSG00000000419                               46.2597   \n",
       "ENSG00000000457                                3.0761   \n",
       "ENSG00000000460                                3.7860   \n",
       "\n",
       "                 b8a5bb08-82db-48bd-9a4e-f3f5e6da4ba1  \\\n",
       "gene_id                                                 \n",
       "ENSG00000000003                                0.3375   \n",
       "ENSG00000000005                                0.0000   \n",
       "ENSG00000000419                               29.8088   \n",
       "ENSG00000000457                                2.2452   \n",
       "ENSG00000000460                                4.3597   \n",
       "\n",
       "                 11d0511e-bf46-4a01-8280-aeef2d500047  \\\n",
       "gene_id                                                 \n",
       "ENSG00000000003                                0.9980   \n",
       "ENSG00000000005                                0.0000   \n",
       "ENSG00000000419                               46.9932   \n",
       "ENSG00000000457                                6.3353   \n",
       "ENSG00000000460                               12.2108   \n",
       "\n",
       "                 cf1e67b9-5b7a-4db8-b0ad-3748c94802d0  \\\n",
       "gene_id                                                 \n",
       "ENSG00000000003                                0.1178   \n",
       "ENSG00000000005                                0.0000   \n",
       "ENSG00000000419                               26.4041   \n",
       "ENSG00000000457                                3.4748   \n",
       "ENSG00000000460                                6.0044   \n",
       "\n",
       "                 90543510-306c-4183-942e-7567517ed18c  ...  \\\n",
       "gene_id                                                ...   \n",
       "ENSG00000000003                                0.0647  ...   \n",
       "ENSG00000000005                                0.0000  ...   \n",
       "ENSG00000000419                               25.2849  ...   \n",
       "ENSG00000000457                                4.4446  ...   \n",
       "ENSG00000000460                                0.8848  ...   \n",
       "\n",
       "                 795bd9a1-27fa-4985-9b5e-a0cc6dd05128  \\\n",
       "gene_id                                                 \n",
       "ENSG00000000003                                0.5427   \n",
       "ENSG00000000005                                0.0000   \n",
       "ENSG00000000419                               49.0795   \n",
       "ENSG00000000457                                4.8340   \n",
       "ENSG00000000460                                2.9396   \n",
       "\n",
       "                 8a9a769a-3c42-44a0-a593-28568dd28c55  \\\n",
       "gene_id                                                 \n",
       "ENSG00000000003                                0.3932   \n",
       "ENSG00000000005                                0.0929   \n",
       "ENSG00000000419                               30.9708   \n",
       "ENSG00000000457                                2.5810   \n",
       "ENSG00000000460                                5.7676   \n",
       "\n",
       "                 3d3d26ee-5254-4cf0-b432-3cda8943bd01  \\\n",
       "gene_id                                                 \n",
       "ENSG00000000003                                0.4878   \n",
       "ENSG00000000005                                0.0000   \n",
       "ENSG00000000419                               22.3828   \n",
       "ENSG00000000457                                3.3498   \n",
       "ENSG00000000460                                3.2964   \n",
       "\n",
       "                 57c32bde-c1a4-445e-862e-87273b773f8e  \\\n",
       "gene_id                                                 \n",
       "ENSG00000000003                                0.1025   \n",
       "ENSG00000000005                                0.0000   \n",
       "ENSG00000000419                               32.4526   \n",
       "ENSG00000000457                                5.3194   \n",
       "ENSG00000000460                                5.3151   \n",
       "\n",
       "                 82517caf-7049-4524-911d-e497dcbd9e3d  \\\n",
       "gene_id                                                 \n",
       "ENSG00000000003                                0.4277   \n",
       "ENSG00000000005                                0.0000   \n",
       "ENSG00000000419                               53.3264   \n",
       "ENSG00000000457                                6.1770   \n",
       "ENSG00000000460                                2.7978   \n",
       "\n",
       "                 4b7e2f66-53ee-4578-8b42-5c89c456dfb1  \\\n",
       "gene_id                                                 \n",
       "ENSG00000000003                                0.1683   \n",
       "ENSG00000000005                                0.0000   \n",
       "ENSG00000000419                               47.3646   \n",
       "ENSG00000000457                                4.1737   \n",
       "ENSG00000000460                                3.9167   \n",
       "\n",
       "                 905b5922-dfd0-4e49-babb-a7150b2b2d15  \\\n",
       "gene_id                                                 \n",
       "ENSG00000000003                                0.6575   \n",
       "ENSG00000000005                                0.1225   \n",
       "ENSG00000000419                               61.9196   \n",
       "ENSG00000000457                                4.3328   \n",
       "ENSG00000000460                                4.0720   \n",
       "\n",
       "                 54b3ce4b-fd3d-48ec-a745-c74b660daf4b  \\\n",
       "gene_id                                                 \n",
       "ENSG00000000003                                0.2247   \n",
       "ENSG00000000005                                0.0000   \n",
       "ENSG00000000419                               48.8084   \n",
       "ENSG00000000457                                3.2281   \n",
       "ENSG00000000460                                2.2194   \n",
       "\n",
       "                 8e5a3caf-28eb-4ea7-ba86-1927734b4e24  \\\n",
       "gene_id                                                 \n",
       "ENSG00000000003                                0.1304   \n",
       "ENSG00000000005                                0.0890   \n",
       "ENSG00000000419                               31.3054   \n",
       "ENSG00000000457                                2.4823   \n",
       "ENSG00000000460                                4.2268   \n",
       "\n",
       "                 22c31fec-434a-497c-b9d8-dcbe5b656b67  \n",
       "gene_id                                                \n",
       "ENSG00000000003                                0.2045  \n",
       "ENSG00000000005                                0.0000  \n",
       "ENSG00000000419                               30.0885  \n",
       "ENSG00000000457                                3.3988  \n",
       "ENSG00000000460                                3.0527  \n",
       "\n",
       "[5 rows x 356 columns]"
      ],
      "text/html": [
       "<div>\n",
       "<style scoped>\n",
       "    .dataframe tbody tr th:only-of-type {\n",
       "        vertical-align: middle;\n",
       "    }\n",
       "\n",
       "    .dataframe tbody tr th {\n",
       "        vertical-align: top;\n",
       "    }\n",
       "\n",
       "    .dataframe thead th {\n",
       "        text-align: right;\n",
       "    }\n",
       "</style>\n",
       "<table border=\"1\" class=\"dataframe\">\n",
       "  <thead>\n",
       "    <tr style=\"text-align: right;\">\n",
       "      <th></th>\n",
       "      <th>gene_name</th>\n",
       "      <th>gene_type</th>\n",
       "      <th>a9e276bb-593a-4723-b9b9-629618a0c657</th>\n",
       "      <th>15c888bd-e07c-4505-a65e-5619702f36f5</th>\n",
       "      <th>6f7ee2c2-8ee0-40f9-8ef3-0d389aa22a54</th>\n",
       "      <th>7c1f22be-3f25-4ac5-afe8-309341e3eeef</th>\n",
       "      <th>b8a5bb08-82db-48bd-9a4e-f3f5e6da4ba1</th>\n",
       "      <th>11d0511e-bf46-4a01-8280-aeef2d500047</th>\n",
       "      <th>cf1e67b9-5b7a-4db8-b0ad-3748c94802d0</th>\n",
       "      <th>90543510-306c-4183-942e-7567517ed18c</th>\n",
       "      <th>...</th>\n",
       "      <th>795bd9a1-27fa-4985-9b5e-a0cc6dd05128</th>\n",
       "      <th>8a9a769a-3c42-44a0-a593-28568dd28c55</th>\n",
       "      <th>3d3d26ee-5254-4cf0-b432-3cda8943bd01</th>\n",
       "      <th>57c32bde-c1a4-445e-862e-87273b773f8e</th>\n",
       "      <th>82517caf-7049-4524-911d-e497dcbd9e3d</th>\n",
       "      <th>4b7e2f66-53ee-4578-8b42-5c89c456dfb1</th>\n",
       "      <th>905b5922-dfd0-4e49-babb-a7150b2b2d15</th>\n",
       "      <th>54b3ce4b-fd3d-48ec-a745-c74b660daf4b</th>\n",
       "      <th>8e5a3caf-28eb-4ea7-ba86-1927734b4e24</th>\n",
       "      <th>22c31fec-434a-497c-b9d8-dcbe5b656b67</th>\n",
       "    </tr>\n",
       "    <tr>\n",
       "      <th>gene_id</th>\n",
       "      <th></th>\n",
       "      <th></th>\n",
       "      <th></th>\n",
       "      <th></th>\n",
       "      <th></th>\n",
       "      <th></th>\n",
       "      <th></th>\n",
       "      <th></th>\n",
       "      <th></th>\n",
       "      <th></th>\n",
       "      <th></th>\n",
       "      <th></th>\n",
       "      <th></th>\n",
       "      <th></th>\n",
       "      <th></th>\n",
       "      <th></th>\n",
       "      <th></th>\n",
       "      <th></th>\n",
       "      <th></th>\n",
       "      <th></th>\n",
       "      <th></th>\n",
       "    </tr>\n",
       "  </thead>\n",
       "  <tbody>\n",
       "    <tr>\n",
       "      <th>ENSG00000000003</th>\n",
       "      <td>TSPAN6</td>\n",
       "      <td>protein_coding</td>\n",
       "      <td>0.5112</td>\n",
       "      <td>0.1393</td>\n",
       "      <td>0.3135</td>\n",
       "      <td>0.3545</td>\n",
       "      <td>0.3375</td>\n",
       "      <td>0.9980</td>\n",
       "      <td>0.1178</td>\n",
       "      <td>0.0647</td>\n",
       "      <td>...</td>\n",
       "      <td>0.5427</td>\n",
       "      <td>0.3932</td>\n",
       "      <td>0.4878</td>\n",
       "      <td>0.1025</td>\n",
       "      <td>0.4277</td>\n",
       "      <td>0.1683</td>\n",
       "      <td>0.6575</td>\n",
       "      <td>0.2247</td>\n",
       "      <td>0.1304</td>\n",
       "      <td>0.2045</td>\n",
       "    </tr>\n",
       "    <tr>\n",
       "      <th>ENSG00000000005</th>\n",
       "      <td>TNMD</td>\n",
       "      <td>protein_coding</td>\n",
       "      <td>0.0000</td>\n",
       "      <td>0.0389</td>\n",
       "      <td>0.0000</td>\n",
       "      <td>0.0000</td>\n",
       "      <td>0.0000</td>\n",
       "      <td>0.0000</td>\n",
       "      <td>0.0000</td>\n",
       "      <td>0.0000</td>\n",
       "      <td>...</td>\n",
       "      <td>0.0000</td>\n",
       "      <td>0.0929</td>\n",
       "      <td>0.0000</td>\n",
       "      <td>0.0000</td>\n",
       "      <td>0.0000</td>\n",
       "      <td>0.0000</td>\n",
       "      <td>0.1225</td>\n",
       "      <td>0.0000</td>\n",
       "      <td>0.0890</td>\n",
       "      <td>0.0000</td>\n",
       "    </tr>\n",
       "    <tr>\n",
       "      <th>ENSG00000000419</th>\n",
       "      <td>DPM1</td>\n",
       "      <td>protein_coding</td>\n",
       "      <td>40.7959</td>\n",
       "      <td>36.9689</td>\n",
       "      <td>33.8329</td>\n",
       "      <td>46.2597</td>\n",
       "      <td>29.8088</td>\n",
       "      <td>46.9932</td>\n",
       "      <td>26.4041</td>\n",
       "      <td>25.2849</td>\n",
       "      <td>...</td>\n",
       "      <td>49.0795</td>\n",
       "      <td>30.9708</td>\n",
       "      <td>22.3828</td>\n",
       "      <td>32.4526</td>\n",
       "      <td>53.3264</td>\n",
       "      <td>47.3646</td>\n",
       "      <td>61.9196</td>\n",
       "      <td>48.8084</td>\n",
       "      <td>31.3054</td>\n",
       "      <td>30.0885</td>\n",
       "    </tr>\n",
       "    <tr>\n",
       "      <th>ENSG00000000457</th>\n",
       "      <td>SCYL3</td>\n",
       "      <td>protein_coding</td>\n",
       "      <td>4.8853</td>\n",
       "      <td>3.3040</td>\n",
       "      <td>2.2476</td>\n",
       "      <td>3.0761</td>\n",
       "      <td>2.2452</td>\n",
       "      <td>6.3353</td>\n",
       "      <td>3.4748</td>\n",
       "      <td>4.4446</td>\n",
       "      <td>...</td>\n",
       "      <td>4.8340</td>\n",
       "      <td>2.5810</td>\n",
       "      <td>3.3498</td>\n",
       "      <td>5.3194</td>\n",
       "      <td>6.1770</td>\n",
       "      <td>4.1737</td>\n",
       "      <td>4.3328</td>\n",
       "      <td>3.2281</td>\n",
       "      <td>2.4823</td>\n",
       "      <td>3.3988</td>\n",
       "    </tr>\n",
       "    <tr>\n",
       "      <th>ENSG00000000460</th>\n",
       "      <td>C1orf112</td>\n",
       "      <td>protein_coding</td>\n",
       "      <td>2.7968</td>\n",
       "      <td>3.0878</td>\n",
       "      <td>5.3636</td>\n",
       "      <td>3.7860</td>\n",
       "      <td>4.3597</td>\n",
       "      <td>12.2108</td>\n",
       "      <td>6.0044</td>\n",
       "      <td>0.8848</td>\n",
       "      <td>...</td>\n",
       "      <td>2.9396</td>\n",
       "      <td>5.7676</td>\n",
       "      <td>3.2964</td>\n",
       "      <td>5.3151</td>\n",
       "      <td>2.7978</td>\n",
       "      <td>3.9167</td>\n",
       "      <td>4.0720</td>\n",
       "      <td>2.2194</td>\n",
       "      <td>4.2268</td>\n",
       "      <td>3.0527</td>\n",
       "    </tr>\n",
       "  </tbody>\n",
       "</table>\n",
       "<p>5 rows × 356 columns</p>\n",
       "</div>"
      ]
     },
     "execution_count": 5,
     "metadata": {},
     "output_type": "execute_result"
    }
   ],
   "execution_count": 5
  },
  {
   "metadata": {},
   "cell_type": "markdown",
   "source": "#### Merging",
   "id": "451a65fd5638fc33"
  },
  {
   "metadata": {
    "ExecuteTime": {
     "end_time": "2025-06-21T22:03:26.826061Z",
     "start_time": "2025-06-21T22:03:26.714074Z"
    }
   },
   "cell_type": "code",
   "source": [
    "# df_b_all = cudf.read_parquet(f\"{path_to_data}B_ALL.pq\") # Sample names is column\n",
    "# df_b_all_healthy = cudf.read_parquet(f\"{path_to_data}B_ALL_healthy.pq\") # Sample names is column\n",
    "# df_mixed_all = cudf.read_parquet(f\"{path_to_data}ALL.pq\") # Sample names is column\n",
    "# df_aml_all = cudf.read_parquet(f\"{path_to_data}AML.pq\") # Sample names is column\n",
    "\n",
    "b_all_length = len(df_healthy.columns.drop(['gene_name', 'gene_type']))  # Exclude non-numeric columns\n",
    "b_all_healthy_length = len(df_aml.columns.drop(['gene_name', 'gene_type']))  # Exclude non-numeric columns\n",
    "# mixed_all_length = len(df_mixed_all.columns.drop(['gene_name', 'gene_type']))  # Exclude non-numeric columns\n",
    "# aml_all_length = len(df_aml_all.columns.drop(['gene_name', 'gene_type']))  # Exclude non-numeric columns\n",
    "# total_length = b_all_length + mixed_all_length + aml_all_length\n",
    "# total_length = b_all_length + mixed_all_length\n",
    "total_length = b_all_length + b_all_healthy_length\n",
    "\n",
    "print(\"B-ALL length:\", len(df_healthy))\n",
    "print(\"B-ALL Healthy length:\", len(df_aml))\n",
    "\n",
    "df_b_all_filtered = df_healthy #[df_healthy['gene_type'] == 'protein_coding']  # Filter for protein-coding genes\n",
    "df_b_all_healthy_filtered = df_aml #[df_aml['gene_type'] == 'protein_coding']  # Filter for protein-coding genes\n",
    "\n",
    "print(\"Filtered B-ALL length:\", len(df_b_all_filtered))\n",
    "print(\"Filtered B-ALL Healthy length:\", len(df_b_all_healthy_filtered))\n",
    "\n",
    "df_b_all_filtered = df_b_all_filtered.drop(['gene_name', 'gene_type'], axis=1)  # Drop non-numeric columns\n",
    "df_b_all_healthy_filtered = df_b_all_healthy_filtered.drop(['gene_name', 'gene_type'], axis=1)  # Drop non-numeric columns\n",
    "\n",
    "df_b_all_filtered = df_b_all_filtered.fillna(0).select_dtypes(include='number').T\n",
    "df_b_all_healthy_filtered = df_b_all_healthy_filtered.fillna(0).select_dtypes(include='number').T\n",
    "\n",
    "# df_b_all_filtered.head()\n",
    "\n",
    "combined_df = pd.concat([df_b_all_filtered, df_b_all_healthy_filtered], axis=0)\n",
    "\n",
    "# combined_df.tail()\n",
    "\n",
    "combined_df['condition'] = [1] * len(df_b_all_healthy_filtered) + [0] * len(df_b_all_filtered)\n",
    "\n",
    "# combined_df.head()\n",
    "\n",
    "if (len(df_b_all_filtered) + len(df_b_all_healthy_filtered)) != combined_df.shape[0]:\n",
    "    print(f\"Expected number of rows: {len(df_b_all_filtered) + len(df_b_all_healthy_filtered)}, Actual number of rows: {combined_df.shape[0]}\")\n",
    "    raise ValueError(\"The number of rows in the combined DataFrame does not match the sum of B-ALL and B-ALL Healthy lengths.\")\n",
    "\n",
    "# merged_df = df_b_all.merge(df_mixed_all, on='gene_id', how='inner')\n",
    "# merged_df = merged_df.merge(df_aml_all, on='gene_id', how='inner')\n",
    "\n",
    "# merged_df = merged_df[merged_df['gene_type'] == 'protein_coding']  # Filter for protein-coding genes\n",
    "\n",
    "# gene_names = merged_df['gene_name_x']\n",
    "\n",
    "# merged_df_transposed = merged_df.fillna(0)  # Fill NaN values with 0\n",
    "# merged_df_transposed = merged_df.select_dtypes(include='number').T\n",
    "\n",
    "# if total_length != merged_df_transposed.shape[0]:\n",
    "#     print(f\"Expected number of rows: {total_length}, Actual number of rows: {merged_df_transposed.shape[0]}\")\n",
    "#     raise ValueError(\"The number of rows in the merged DataFrame does not match the sum of B-ALL and mixed ALL lengths.\")"
   ],
   "id": "bcb53642a4a74426",
   "outputs": [
    {
     "name": "stdout",
     "output_type": "stream",
     "text": [
      "B-ALL length: 60660\n",
      "B-ALL Healthy length: 60660\n",
      "Filtered B-ALL length: 60660\n",
      "Filtered B-ALL Healthy length: 60660\n"
     ]
    }
   ],
   "execution_count": 144
  },
  {
   "metadata": {
    "ExecuteTime": {
     "end_time": "2025-06-21T22:05:05.301548Z",
     "start_time": "2025-06-21T22:04:42.045845Z"
    }
   },
   "cell_type": "code",
   "source": [
    "# Rename column gene_id to sample_id\n",
    "# combined_df = combined_df.rename_axis('gene_id').reset_index()\n",
    "\n",
    "\n",
    "# combined_df = combined_df['gene_id'].rename('sample_id', inplace=True)\n",
    "\n",
    "combined_df\n",
    "\n",
    "combined_df.to_csv(\"data/merged_unstranded_combined_data.csv\")"
   ],
   "id": "66d2cc2e559ae426",
   "outputs": [],
   "execution_count": 146
  },
  {
   "metadata": {
    "ExecuteTime": {
     "end_time": "2025-06-21T21:19:56.009562Z",
     "start_time": "2025-06-21T21:19:56.007465Z"
    }
   },
   "cell_type": "code",
   "source": [
    "# combined_df = combined_df.to_pandas()  # Convert to pandas DataFrame for further processing\n",
    "\n",
    "print(f\"Amount of features in the merged DataFrame: {combined_df.shape[1]}\")"
   ],
   "id": "49c33d5a175ee0f0",
   "outputs": [
    {
     "name": "stdout",
     "output_type": "stream",
     "text": [
      "Amount of features in the merged DataFrame: 19963\n"
     ]
    }
   ],
   "execution_count": 9
  },
  {
   "metadata": {},
   "cell_type": "code",
   "outputs": [],
   "execution_count": null,
   "source": [
    "# merged_df_transposed = merged_df_transposed.to_pandas()\n",
    "\n",
    "# gene_names = gene_names.to_pandas().reset_index(drop=True)\n",
    "\n",
    "# print(f\"Amount of features in the merged DataFrame: {merged_df_transposed.shape[1]}\")"
   ],
   "id": "9f05c9202a8d81f8"
  },
  {
   "metadata": {},
   "cell_type": "markdown",
   "source": "## XGBoost (Single Test Split)",
   "id": "dcc73a27e1dad7b6"
  },
  {
   "metadata": {},
   "cell_type": "markdown",
   "source": "PU Labeling",
   "id": "d4bb998bf3222599"
  },
  {
   "metadata": {
    "ExecuteTime": {
     "end_time": "2025-06-21T21:56:08.964341Z",
     "start_time": "2025-06-21T21:56:08.952351Z"
    }
   },
   "cell_type": "code",
   "source": [
    "# y = pd.Series([1] * b_all_length + [0] * (mixed_all_length + aml_all_length), index=merged_df_transposed.index)\n",
    "\n",
    "# y = combined_df['condition']  # Use the 'condition' column as the target variable\n",
    "\n",
    "# y = pd.Series([1] * b_all_length + [0] * (mixed_all_length), index=merged_df_transposed.index)\n",
    "\n",
    "# Loadd metadata\n",
    "healthy_metadata = pd.read_csv(\"data/healthy_aml_metadata.csv\", index_col='uuid')\n",
    "unhealthy_metadata = pd.read_csv(\"data/unhealthy_aml_metadata.csv\", index_col='uuid')\n",
    "\n",
    "# Combine metadata\n",
    "metadata = pd.concat([healthy_metadata, unhealthy_metadata], axis=0)\n",
    "# Filter metadata to match the samples in combined_df\n",
    "# metadata = metadata[metadata.index.isin(combined_df.columns)]\n",
    "\n",
    "# Ensure the index is reset and matches the combined_df columns\n",
    "metadata = metadata.drop(columns='workflow_version')\n",
    "\n",
    "# sort metadata to match the order of combined_df columns\n",
    "metadata = metadata.reindex(combined_df.index)\n",
    "\n",
    "metadata.head()\n",
    "# Transform condition healthy to 0 and unhealthy to 1\n",
    "y = metadata['condition'].replace({'healthy': 0, 'unhealthy': 1})\n",
    "\n",
    "y = y.dropna()  # Drop NaN values from y\n",
    "\n",
    "# drops 1 from y. need to ensure combined_df drops the same sample\n",
    "combined_df = combined_df.loc[y.index]  # Align combined_df with y"
   ],
   "id": "d1eab3b94486b319",
   "outputs": [
    {
     "name": "stderr",
     "output_type": "stream",
     "text": [
      "/var/folders/6s/mwqhy3lx4sz4vx_y7pvbvsdw0000gn/T/ipykernel_8323/369386104.py:24: FutureWarning: Downcasting behavior in `replace` is deprecated and will be removed in a future version. To retain the old behavior, explicitly call `result.infer_objects(copy=False)`. To opt-in to the future behavior, set `pd.set_option('future.no_silent_downcasting', True)`\n",
      "  y = metadata['condition'].replace({'healthy': 0, 'unhealthy': 1})\n"
     ]
    }
   ],
   "execution_count": 124
  },
  {
   "metadata": {
    "ExecuteTime": {
     "end_time": "2025-06-21T21:56:11.118955Z",
     "start_time": "2025-06-21T21:56:11.115925Z"
    }
   },
   "cell_type": "code",
   "source": "y",
   "id": "ce20755297cce1d6",
   "outputs": [
    {
     "data": {
      "text/plain": [
       "c69538be-27a1-4949-b04b-5386e4102386    0.0\n",
       "8a594674-acc2-40b1-bb50-80d103a9e50a    0.0\n",
       "db3fc680-b411-42af-8845-8dd1732815ea    0.0\n",
       "ee083116-281e-406c-bdd5-b425f5d2eab0    0.0\n",
       "61547668-0038-4e0e-978d-80bfc6307249    0.0\n",
       "                                       ... \n",
       "4b7e2f66-53ee-4578-8b42-5c89c456dfb1    1.0\n",
       "905b5922-dfd0-4e49-babb-a7150b2b2d15    1.0\n",
       "54b3ce4b-fd3d-48ec-a745-c74b660daf4b    1.0\n",
       "8e5a3caf-28eb-4ea7-ba86-1927734b4e24    1.0\n",
       "22c31fec-434a-497c-b9d8-dcbe5b656b67    1.0\n",
       "Name: condition, Length: 441, dtype: float64"
      ]
     },
     "execution_count": 125,
     "metadata": {},
     "output_type": "execute_result"
    }
   ],
   "execution_count": 125
  },
  {
   "metadata": {},
   "cell_type": "markdown",
   "source": "Sanity Check",
   "id": "8c6cd497dc790e43"
  },
  {
   "metadata": {
    "ExecuteTime": {
     "end_time": "2025-06-21T21:56:26.745393Z",
     "start_time": "2025-06-21T21:56:26.696427Z"
    }
   },
   "cell_type": "code",
   "source": [
    "merged_df_normalized = np.log2(combined_df + 1)  # Log2 transformation\n",
    "\n",
    "# merged_df_normalized = np.log2(merged_df_transposed + 1)  # Log2 transformation"
   ],
   "id": "8a5646660c365f44",
   "outputs": [],
   "execution_count": 127
  },
  {
   "metadata": {
    "ExecuteTime": {
     "end_time": "2025-06-21T21:51:32.355468Z",
     "start_time": "2025-06-21T21:51:32.344054Z"
    }
   },
   "cell_type": "code",
   "source": "merged_df_normalized",
   "id": "ee5e4289cce7a6f8",
   "outputs": [
    {
     "data": {
      "text/plain": [
       "gene_id                               ENSG00000000003  ENSG00000000005  \\\n",
       "c69538be-27a1-4949-b04b-5386e4102386         0.237074         0.000000   \n",
       "8a594674-acc2-40b1-bb50-80d103a9e50a         0.186374         0.000000   \n",
       "db3fc680-b411-42af-8845-8dd1732815ea         1.176897         0.086104   \n",
       "ee083116-281e-406c-bdd5-b425f5d2eab0         1.002667         0.099901   \n",
       "61547668-0038-4e0e-978d-80bfc6307249         1.042224         0.000000   \n",
       "...                                               ...              ...   \n",
       "4b7e2f66-53ee-4578-8b42-5c89c456dfb1         0.224411         0.000000   \n",
       "905b5922-dfd0-4e49-babb-a7150b2b2d15         0.729009         0.166715   \n",
       "54b3ce4b-fd3d-48ec-a745-c74b660daf4b         0.292428         0.000000   \n",
       "8e5a3caf-28eb-4ea7-ba86-1927734b4e24         0.176833         0.123004   \n",
       "22c31fec-434a-497c-b9d8-dcbe5b656b67         0.268434         0.000000   \n",
       "\n",
       "gene_id                               ENSG00000000419  ENSG00000000457  \\\n",
       "c69538be-27a1-4949-b04b-5386e4102386         5.363974         3.090396   \n",
       "8a594674-acc2-40b1-bb50-80d103a9e50a         5.335966         3.389195   \n",
       "db3fc680-b411-42af-8845-8dd1732815ea         5.640728         2.917527   \n",
       "ee083116-281e-406c-bdd5-b425f5d2eab0         5.901434         3.157399   \n",
       "61547668-0038-4e0e-978d-80bfc6307249         5.741276         2.998972   \n",
       "...                                               ...              ...   \n",
       "4b7e2f66-53ee-4578-8b42-5c89c456dfb1         5.595880         2.371196   \n",
       "905b5922-dfd0-4e49-babb-a7150b2b2d15         5.975438         2.414893   \n",
       "54b3ce4b-fd3d-48ec-a745-c74b660daf4b         5.638317         2.080009   \n",
       "8e5a3caf-28eb-4ea7-ba86-1927734b4e24         5.013703         1.800040   \n",
       "22c31fec-434a-497c-b9d8-dcbe5b656b67         4.958309         2.137110   \n",
       "\n",
       "gene_id                               ENSG00000000460  ENSG00000000938  \\\n",
       "c69538be-27a1-4949-b04b-5386e4102386         3.403036         8.519165   \n",
       "8a594674-acc2-40b1-bb50-80d103a9e50a         2.610251         8.614647   \n",
       "db3fc680-b411-42af-8845-8dd1732815ea         3.053042         8.335991   \n",
       "ee083116-281e-406c-bdd5-b425f5d2eab0         3.707083         7.481381   \n",
       "61547668-0038-4e0e-978d-80bfc6307249         3.229126         8.811886   \n",
       "...                                               ...              ...   \n",
       "4b7e2f66-53ee-4578-8b42-5c89c456dfb1         2.297690         7.984639   \n",
       "905b5922-dfd0-4e49-babb-a7150b2b2d15         2.342555         7.030463   \n",
       "54b3ce4b-fd3d-48ec-a745-c74b660daf4b         1.686792         8.506401   \n",
       "8e5a3caf-28eb-4ea7-ba86-1927734b4e24         2.385928         9.136666   \n",
       "22c31fec-434a-497c-b9d8-dcbe5b656b67         2.018883         9.010093   \n",
       "\n",
       "gene_id                               ENSG00000000971  ENSG00000001036  \\\n",
       "c69538be-27a1-4949-b04b-5386e4102386         1.031677         3.720541   \n",
       "8a594674-acc2-40b1-bb50-80d103a9e50a         1.204266         4.242313   \n",
       "db3fc680-b411-42af-8845-8dd1732815ea         1.655443         4.680516   \n",
       "ee083116-281e-406c-bdd5-b425f5d2eab0         1.749191         4.566773   \n",
       "61547668-0038-4e0e-978d-80bfc6307249         1.882643         4.372144   \n",
       "...                                               ...              ...   \n",
       "4b7e2f66-53ee-4578-8b42-5c89c456dfb1         0.665393         4.384485   \n",
       "905b5922-dfd0-4e49-babb-a7150b2b2d15         0.626299         5.014324   \n",
       "54b3ce4b-fd3d-48ec-a745-c74b660daf4b         0.298541         4.433694   \n",
       "8e5a3caf-28eb-4ea7-ba86-1927734b4e24         0.701150         4.503323   \n",
       "22c31fec-434a-497c-b9d8-dcbe5b656b67         0.272143         4.009007   \n",
       "\n",
       "gene_id                               ENSG00000001084  ENSG00000001167  ...  \\\n",
       "c69538be-27a1-4949-b04b-5386e4102386         4.629188         5.315327  ...   \n",
       "8a594674-acc2-40b1-bb50-80d103a9e50a         3.956205         4.918119  ...   \n",
       "db3fc680-b411-42af-8845-8dd1732815ea         4.577816         5.482674  ...   \n",
       "ee083116-281e-406c-bdd5-b425f5d2eab0         5.342882         5.845046  ...   \n",
       "61547668-0038-4e0e-978d-80bfc6307249         4.858150         5.850934  ...   \n",
       "...                                               ...              ...  ...   \n",
       "4b7e2f66-53ee-4578-8b42-5c89c456dfb1         5.075289         5.440411  ...   \n",
       "905b5922-dfd0-4e49-babb-a7150b2b2d15         5.764325         5.012470  ...   \n",
       "54b3ce4b-fd3d-48ec-a745-c74b660daf4b         3.526808         4.119813  ...   \n",
       "8e5a3caf-28eb-4ea7-ba86-1927734b4e24         3.861439         5.510680  ...   \n",
       "22c31fec-434a-497c-b9d8-dcbe5b656b67         4.032489         5.491712  ...   \n",
       "\n",
       "gene_id                               ENSG00000288654  ENSG00000288656  \\\n",
       "c69538be-27a1-4949-b04b-5386e4102386              0.0         0.042224   \n",
       "8a594674-acc2-40b1-bb50-80d103a9e50a              0.0         0.031254   \n",
       "db3fc680-b411-42af-8845-8dd1732815ea              0.0         0.188907   \n",
       "ee083116-281e-406c-bdd5-b425f5d2eab0              0.0         0.148869   \n",
       "61547668-0038-4e0e-978d-80bfc6307249              0.0         0.126180   \n",
       "...                                               ...              ...   \n",
       "4b7e2f66-53ee-4578-8b42-5c89c456dfb1              0.0         0.000000   \n",
       "905b5922-dfd0-4e49-babb-a7150b2b2d15              0.0         0.065434   \n",
       "54b3ce4b-fd3d-48ec-a745-c74b660daf4b              0.0         0.073546   \n",
       "8e5a3caf-28eb-4ea7-ba86-1927734b4e24              0.0         0.047818   \n",
       "22c31fec-434a-497c-b9d8-dcbe5b656b67              0.0         0.095047   \n",
       "\n",
       "gene_id                               ENSG00000288658  ENSG00000288660  \\\n",
       "c69538be-27a1-4949-b04b-5386e4102386         0.055196         2.220980   \n",
       "8a594674-acc2-40b1-bb50-80d103a9e50a         0.106616         1.742825   \n",
       "db3fc680-b411-42af-8845-8dd1732815ea         0.280006         0.806778   \n",
       "ee083116-281e-406c-bdd5-b425f5d2eab0         0.050606         1.013998   \n",
       "61547668-0038-4e0e-978d-80bfc6307249         0.000000         1.153157   \n",
       "...                                               ...              ...   \n",
       "4b7e2f66-53ee-4578-8b42-5c89c456dfb1         0.000000         1.570074   \n",
       "905b5922-dfd0-4e49-babb-a7150b2b2d15         0.314639         1.518334   \n",
       "54b3ce4b-fd3d-48ec-a745-c74b660daf4b         0.032665         2.156461   \n",
       "8e5a3caf-28eb-4ea7-ba86-1927734b4e24         0.235359         3.967473   \n",
       "22c31fec-434a-497c-b9d8-dcbe5b656b67         0.416840         3.298995   \n",
       "\n",
       "gene_id                               ENSG00000288661  ENSG00000288669  \\\n",
       "c69538be-27a1-4949-b04b-5386e4102386              0.0         0.041243   \n",
       "8a594674-acc2-40b1-bb50-80d103a9e50a              0.0         0.000000   \n",
       "db3fc680-b411-42af-8845-8dd1732815ea              0.0         0.032524   \n",
       "ee083116-281e-406c-bdd5-b425f5d2eab0              0.0         0.000000   \n",
       "61547668-0038-4e0e-978d-80bfc6307249              0.0         0.123401   \n",
       "...                                               ...              ...   \n",
       "4b7e2f66-53ee-4578-8b42-5c89c456dfb1              0.0         0.034075   \n",
       "905b5922-dfd0-4e49-babb-a7150b2b2d15              0.0         0.000000   \n",
       "54b3ce4b-fd3d-48ec-a745-c74b660daf4b              0.0         0.024320   \n",
       "8e5a3caf-28eb-4ea7-ba86-1927734b4e24              0.0         0.023610   \n",
       "22c31fec-434a-497c-b9d8-dcbe5b656b67              0.0         0.000000   \n",
       "\n",
       "gene_id                               ENSG00000288671  ENSG00000288674  \\\n",
       "c69538be-27a1-4949-b04b-5386e4102386              0.0         0.148348   \n",
       "8a594674-acc2-40b1-bb50-80d103a9e50a              0.0         0.094912   \n",
       "db3fc680-b411-42af-8845-8dd1732815ea              0.0         0.202888   \n",
       "ee083116-281e-406c-bdd5-b425f5d2eab0              0.0         0.121679   \n",
       "61547668-0038-4e0e-978d-80bfc6307249              0.0         0.151859   \n",
       "...                                               ...              ...   \n",
       "4b7e2f66-53ee-4578-8b42-5c89c456dfb1              0.0         0.237074   \n",
       "905b5922-dfd0-4e49-babb-a7150b2b2d15              0.0         0.293370   \n",
       "54b3ce4b-fd3d-48ec-a745-c74b660daf4b              0.0         0.154454   \n",
       "8e5a3caf-28eb-4ea7-ba86-1927734b4e24              0.0         0.416516   \n",
       "22c31fec-434a-497c-b9d8-dcbe5b656b67              0.0         0.303576   \n",
       "\n",
       "gene_id                               ENSG00000288675  condition  \n",
       "c69538be-27a1-4949-b04b-5386e4102386         1.290955        1.0  \n",
       "8a594674-acc2-40b1-bb50-80d103a9e50a         0.910886        1.0  \n",
       "db3fc680-b411-42af-8845-8dd1732815ea         0.767655        1.0  \n",
       "ee083116-281e-406c-bdd5-b425f5d2eab0         0.588996        1.0  \n",
       "61547668-0038-4e0e-978d-80bfc6307249         0.755828        1.0  \n",
       "...                                               ...        ...  \n",
       "4b7e2f66-53ee-4578-8b42-5c89c456dfb1         0.540523        0.0  \n",
       "905b5922-dfd0-4e49-babb-a7150b2b2d15         0.853517        0.0  \n",
       "54b3ce4b-fd3d-48ec-a745-c74b660daf4b         0.918234        0.0  \n",
       "8e5a3caf-28eb-4ea7-ba86-1927734b4e24         0.769010        0.0  \n",
       "22c31fec-434a-497c-b9d8-dcbe5b656b67         0.901340        0.0  \n",
       "\n",
       "[442 rows x 19963 columns]"
      ],
      "text/html": [
       "<div>\n",
       "<style scoped>\n",
       "    .dataframe tbody tr th:only-of-type {\n",
       "        vertical-align: middle;\n",
       "    }\n",
       "\n",
       "    .dataframe tbody tr th {\n",
       "        vertical-align: top;\n",
       "    }\n",
       "\n",
       "    .dataframe thead th {\n",
       "        text-align: right;\n",
       "    }\n",
       "</style>\n",
       "<table border=\"1\" class=\"dataframe\">\n",
       "  <thead>\n",
       "    <tr style=\"text-align: right;\">\n",
       "      <th>gene_id</th>\n",
       "      <th>ENSG00000000003</th>\n",
       "      <th>ENSG00000000005</th>\n",
       "      <th>ENSG00000000419</th>\n",
       "      <th>ENSG00000000457</th>\n",
       "      <th>ENSG00000000460</th>\n",
       "      <th>ENSG00000000938</th>\n",
       "      <th>ENSG00000000971</th>\n",
       "      <th>ENSG00000001036</th>\n",
       "      <th>ENSG00000001084</th>\n",
       "      <th>ENSG00000001167</th>\n",
       "      <th>...</th>\n",
       "      <th>ENSG00000288654</th>\n",
       "      <th>ENSG00000288656</th>\n",
       "      <th>ENSG00000288658</th>\n",
       "      <th>ENSG00000288660</th>\n",
       "      <th>ENSG00000288661</th>\n",
       "      <th>ENSG00000288669</th>\n",
       "      <th>ENSG00000288671</th>\n",
       "      <th>ENSG00000288674</th>\n",
       "      <th>ENSG00000288675</th>\n",
       "      <th>condition</th>\n",
       "    </tr>\n",
       "  </thead>\n",
       "  <tbody>\n",
       "    <tr>\n",
       "      <th>c69538be-27a1-4949-b04b-5386e4102386</th>\n",
       "      <td>0.237074</td>\n",
       "      <td>0.000000</td>\n",
       "      <td>5.363974</td>\n",
       "      <td>3.090396</td>\n",
       "      <td>3.403036</td>\n",
       "      <td>8.519165</td>\n",
       "      <td>1.031677</td>\n",
       "      <td>3.720541</td>\n",
       "      <td>4.629188</td>\n",
       "      <td>5.315327</td>\n",
       "      <td>...</td>\n",
       "      <td>0.0</td>\n",
       "      <td>0.042224</td>\n",
       "      <td>0.055196</td>\n",
       "      <td>2.220980</td>\n",
       "      <td>0.0</td>\n",
       "      <td>0.041243</td>\n",
       "      <td>0.0</td>\n",
       "      <td>0.148348</td>\n",
       "      <td>1.290955</td>\n",
       "      <td>1.0</td>\n",
       "    </tr>\n",
       "    <tr>\n",
       "      <th>8a594674-acc2-40b1-bb50-80d103a9e50a</th>\n",
       "      <td>0.186374</td>\n",
       "      <td>0.000000</td>\n",
       "      <td>5.335966</td>\n",
       "      <td>3.389195</td>\n",
       "      <td>2.610251</td>\n",
       "      <td>8.614647</td>\n",
       "      <td>1.204266</td>\n",
       "      <td>4.242313</td>\n",
       "      <td>3.956205</td>\n",
       "      <td>4.918119</td>\n",
       "      <td>...</td>\n",
       "      <td>0.0</td>\n",
       "      <td>0.031254</td>\n",
       "      <td>0.106616</td>\n",
       "      <td>1.742825</td>\n",
       "      <td>0.0</td>\n",
       "      <td>0.000000</td>\n",
       "      <td>0.0</td>\n",
       "      <td>0.094912</td>\n",
       "      <td>0.910886</td>\n",
       "      <td>1.0</td>\n",
       "    </tr>\n",
       "    <tr>\n",
       "      <th>db3fc680-b411-42af-8845-8dd1732815ea</th>\n",
       "      <td>1.176897</td>\n",
       "      <td>0.086104</td>\n",
       "      <td>5.640728</td>\n",
       "      <td>2.917527</td>\n",
       "      <td>3.053042</td>\n",
       "      <td>8.335991</td>\n",
       "      <td>1.655443</td>\n",
       "      <td>4.680516</td>\n",
       "      <td>4.577816</td>\n",
       "      <td>5.482674</td>\n",
       "      <td>...</td>\n",
       "      <td>0.0</td>\n",
       "      <td>0.188907</td>\n",
       "      <td>0.280006</td>\n",
       "      <td>0.806778</td>\n",
       "      <td>0.0</td>\n",
       "      <td>0.032524</td>\n",
       "      <td>0.0</td>\n",
       "      <td>0.202888</td>\n",
       "      <td>0.767655</td>\n",
       "      <td>1.0</td>\n",
       "    </tr>\n",
       "    <tr>\n",
       "      <th>ee083116-281e-406c-bdd5-b425f5d2eab0</th>\n",
       "      <td>1.002667</td>\n",
       "      <td>0.099901</td>\n",
       "      <td>5.901434</td>\n",
       "      <td>3.157399</td>\n",
       "      <td>3.707083</td>\n",
       "      <td>7.481381</td>\n",
       "      <td>1.749191</td>\n",
       "      <td>4.566773</td>\n",
       "      <td>5.342882</td>\n",
       "      <td>5.845046</td>\n",
       "      <td>...</td>\n",
       "      <td>0.0</td>\n",
       "      <td>0.148869</td>\n",
       "      <td>0.050606</td>\n",
       "      <td>1.013998</td>\n",
       "      <td>0.0</td>\n",
       "      <td>0.000000</td>\n",
       "      <td>0.0</td>\n",
       "      <td>0.121679</td>\n",
       "      <td>0.588996</td>\n",
       "      <td>1.0</td>\n",
       "    </tr>\n",
       "    <tr>\n",
       "      <th>61547668-0038-4e0e-978d-80bfc6307249</th>\n",
       "      <td>1.042224</td>\n",
       "      <td>0.000000</td>\n",
       "      <td>5.741276</td>\n",
       "      <td>2.998972</td>\n",
       "      <td>3.229126</td>\n",
       "      <td>8.811886</td>\n",
       "      <td>1.882643</td>\n",
       "      <td>4.372144</td>\n",
       "      <td>4.858150</td>\n",
       "      <td>5.850934</td>\n",
       "      <td>...</td>\n",
       "      <td>0.0</td>\n",
       "      <td>0.126180</td>\n",
       "      <td>0.000000</td>\n",
       "      <td>1.153157</td>\n",
       "      <td>0.0</td>\n",
       "      <td>0.123401</td>\n",
       "      <td>0.0</td>\n",
       "      <td>0.151859</td>\n",
       "      <td>0.755828</td>\n",
       "      <td>1.0</td>\n",
       "    </tr>\n",
       "    <tr>\n",
       "      <th>...</th>\n",
       "      <td>...</td>\n",
       "      <td>...</td>\n",
       "      <td>...</td>\n",
       "      <td>...</td>\n",
       "      <td>...</td>\n",
       "      <td>...</td>\n",
       "      <td>...</td>\n",
       "      <td>...</td>\n",
       "      <td>...</td>\n",
       "      <td>...</td>\n",
       "      <td>...</td>\n",
       "      <td>...</td>\n",
       "      <td>...</td>\n",
       "      <td>...</td>\n",
       "      <td>...</td>\n",
       "      <td>...</td>\n",
       "      <td>...</td>\n",
       "      <td>...</td>\n",
       "      <td>...</td>\n",
       "      <td>...</td>\n",
       "      <td>...</td>\n",
       "    </tr>\n",
       "    <tr>\n",
       "      <th>4b7e2f66-53ee-4578-8b42-5c89c456dfb1</th>\n",
       "      <td>0.224411</td>\n",
       "      <td>0.000000</td>\n",
       "      <td>5.595880</td>\n",
       "      <td>2.371196</td>\n",
       "      <td>2.297690</td>\n",
       "      <td>7.984639</td>\n",
       "      <td>0.665393</td>\n",
       "      <td>4.384485</td>\n",
       "      <td>5.075289</td>\n",
       "      <td>5.440411</td>\n",
       "      <td>...</td>\n",
       "      <td>0.0</td>\n",
       "      <td>0.000000</td>\n",
       "      <td>0.000000</td>\n",
       "      <td>1.570074</td>\n",
       "      <td>0.0</td>\n",
       "      <td>0.034075</td>\n",
       "      <td>0.0</td>\n",
       "      <td>0.237074</td>\n",
       "      <td>0.540523</td>\n",
       "      <td>0.0</td>\n",
       "    </tr>\n",
       "    <tr>\n",
       "      <th>905b5922-dfd0-4e49-babb-a7150b2b2d15</th>\n",
       "      <td>0.729009</td>\n",
       "      <td>0.166715</td>\n",
       "      <td>5.975438</td>\n",
       "      <td>2.414893</td>\n",
       "      <td>2.342555</td>\n",
       "      <td>7.030463</td>\n",
       "      <td>0.626299</td>\n",
       "      <td>5.014324</td>\n",
       "      <td>5.764325</td>\n",
       "      <td>5.012470</td>\n",
       "      <td>...</td>\n",
       "      <td>0.0</td>\n",
       "      <td>0.065434</td>\n",
       "      <td>0.314639</td>\n",
       "      <td>1.518334</td>\n",
       "      <td>0.0</td>\n",
       "      <td>0.000000</td>\n",
       "      <td>0.0</td>\n",
       "      <td>0.293370</td>\n",
       "      <td>0.853517</td>\n",
       "      <td>0.0</td>\n",
       "    </tr>\n",
       "    <tr>\n",
       "      <th>54b3ce4b-fd3d-48ec-a745-c74b660daf4b</th>\n",
       "      <td>0.292428</td>\n",
       "      <td>0.000000</td>\n",
       "      <td>5.638317</td>\n",
       "      <td>2.080009</td>\n",
       "      <td>1.686792</td>\n",
       "      <td>8.506401</td>\n",
       "      <td>0.298541</td>\n",
       "      <td>4.433694</td>\n",
       "      <td>3.526808</td>\n",
       "      <td>4.119813</td>\n",
       "      <td>...</td>\n",
       "      <td>0.0</td>\n",
       "      <td>0.073546</td>\n",
       "      <td>0.032665</td>\n",
       "      <td>2.156461</td>\n",
       "      <td>0.0</td>\n",
       "      <td>0.024320</td>\n",
       "      <td>0.0</td>\n",
       "      <td>0.154454</td>\n",
       "      <td>0.918234</td>\n",
       "      <td>0.0</td>\n",
       "    </tr>\n",
       "    <tr>\n",
       "      <th>8e5a3caf-28eb-4ea7-ba86-1927734b4e24</th>\n",
       "      <td>0.176833</td>\n",
       "      <td>0.123004</td>\n",
       "      <td>5.013703</td>\n",
       "      <td>1.800040</td>\n",
       "      <td>2.385928</td>\n",
       "      <td>9.136666</td>\n",
       "      <td>0.701150</td>\n",
       "      <td>4.503323</td>\n",
       "      <td>3.861439</td>\n",
       "      <td>5.510680</td>\n",
       "      <td>...</td>\n",
       "      <td>0.0</td>\n",
       "      <td>0.047818</td>\n",
       "      <td>0.235359</td>\n",
       "      <td>3.967473</td>\n",
       "      <td>0.0</td>\n",
       "      <td>0.023610</td>\n",
       "      <td>0.0</td>\n",
       "      <td>0.416516</td>\n",
       "      <td>0.769010</td>\n",
       "      <td>0.0</td>\n",
       "    </tr>\n",
       "    <tr>\n",
       "      <th>22c31fec-434a-497c-b9d8-dcbe5b656b67</th>\n",
       "      <td>0.268434</td>\n",
       "      <td>0.000000</td>\n",
       "      <td>4.958309</td>\n",
       "      <td>2.137110</td>\n",
       "      <td>2.018883</td>\n",
       "      <td>9.010093</td>\n",
       "      <td>0.272143</td>\n",
       "      <td>4.009007</td>\n",
       "      <td>4.032489</td>\n",
       "      <td>5.491712</td>\n",
       "      <td>...</td>\n",
       "      <td>0.0</td>\n",
       "      <td>0.095047</td>\n",
       "      <td>0.416840</td>\n",
       "      <td>3.298995</td>\n",
       "      <td>0.0</td>\n",
       "      <td>0.000000</td>\n",
       "      <td>0.0</td>\n",
       "      <td>0.303576</td>\n",
       "      <td>0.901340</td>\n",
       "      <td>0.0</td>\n",
       "    </tr>\n",
       "  </tbody>\n",
       "</table>\n",
       "<p>442 rows × 19963 columns</p>\n",
       "</div>"
      ]
     },
     "execution_count": 108,
     "metadata": {},
     "output_type": "execute_result"
    }
   ],
   "execution_count": 108
  },
  {
   "metadata": {
    "ExecuteTime": {
     "end_time": "2025-06-21T21:56:29.516037Z",
     "start_time": "2025-06-21T21:56:29.514275Z"
    }
   },
   "cell_type": "code",
   "source": [
    "assert merged_df_normalized.shape[0] == len(y), \"Mismatch: number of samples in X and labels in y\"\n",
    "assert merged_df_normalized.index.equals(y.index), \"Mismatch: index order between X and y\""
   ],
   "id": "c7497aac2ea2e3ed",
   "outputs": [],
   "execution_count": 128
  },
  {
   "metadata": {
    "ExecuteTime": {
     "end_time": "2025-06-21T21:53:05.108382Z",
     "start_time": "2025-06-21T21:53:05.106089Z"
    }
   },
   "cell_type": "code",
   "source": [
    "# unique values in y\n",
    "print(\"Unique values in y:\", y.unique())\n",
    "\n",
    "y = y.dropna()  # Drop NaN values from y"
   ],
   "id": "503d2c9a74156cb3",
   "outputs": [
    {
     "name": "stdout",
     "output_type": "stream",
     "text": [
      "Unique values in y: [ 0.  1. nan]\n"
     ]
    }
   ],
   "execution_count": 117
  },
  {
   "metadata": {
    "ExecuteTime": {
     "end_time": "2025-06-21T21:53:28.048418Z",
     "start_time": "2025-06-21T21:53:28.045605Z"
    }
   },
   "cell_type": "code",
   "source": "",
   "id": "4ff651877152265e",
   "outputs": [
    {
     "data": {
      "text/plain": [
       "c69538be-27a1-4949-b04b-5386e4102386    0.0\n",
       "8a594674-acc2-40b1-bb50-80d103a9e50a    0.0\n",
       "db3fc680-b411-42af-8845-8dd1732815ea    0.0\n",
       "ee083116-281e-406c-bdd5-b425f5d2eab0    0.0\n",
       "61547668-0038-4e0e-978d-80bfc6307249    0.0\n",
       "                                       ... \n",
       "4b7e2f66-53ee-4578-8b42-5c89c456dfb1    1.0\n",
       "905b5922-dfd0-4e49-babb-a7150b2b2d15    1.0\n",
       "54b3ce4b-fd3d-48ec-a745-c74b660daf4b    1.0\n",
       "8e5a3caf-28eb-4ea7-ba86-1927734b4e24    1.0\n",
       "22c31fec-434a-497c-b9d8-dcbe5b656b67    1.0\n",
       "Name: condition, Length: 441, dtype: float64"
      ]
     },
     "execution_count": 118,
     "metadata": {},
     "output_type": "execute_result"
    }
   ],
   "execution_count": 118
  },
  {
   "metadata": {},
   "cell_type": "markdown",
   "source": "Label shuffle",
   "id": "9697c4342ad46473"
  },
  {
   "metadata": {},
   "cell_type": "code",
   "outputs": [],
   "execution_count": null,
   "source": "# y = y.sample(frac=1, random_state=42).reset_index(drop=True)",
   "id": "a54e3a0cb16f1892"
  },
  {
   "metadata": {},
   "cell_type": "markdown",
   "source": "Log2 Normalizing",
   "id": "6dcaee1b75d586dd"
  },
  {
   "metadata": {
    "ExecuteTime": {
     "end_time": "2025-06-21T21:41:50.099645Z",
     "start_time": "2025-06-21T21:41:50.061718Z"
    }
   },
   "cell_type": "code",
   "source": [
    "# Check which samples are in your cleaned expression data\n",
    "print(\"Samples in expression data:\", merged_df_normalized.index[:5])\n",
    "print(\"Samples in target variable:\", y.index[:5])\n",
    "\n",
    "# Option 1: If y is indexed by sample IDs (recommended)\n",
    "# Keep only samples that exist in both datasets\n",
    "common_samples = merged_df_normalized.index.intersection(y.index)\n",
    "print(f\"Common samples: {len(common_samples)}\")\n",
    "\n",
    "merged_df_normalized_aligned = merged_df_normalized.loc[common_samples]\n",
    "y_aligned = y.loc[common_samples]\n",
    "\n",
    "# Option 2: If y is a simple series without proper indexing\n",
    "# Reset indices to match\n",
    "if not y.index.equals(merged_df_normalized.index):\n",
    "    print(\"Realigning indices...\")\n",
    "    # Assuming y should be indexed by sample IDs\n",
    "    y.index = merged_df_normalized.index\n",
    "\n",
    "# Remove NaN values from both simultaneously\n",
    "valid_mask = ~(y.isna() | merged_df_normalized.isna().any(axis=1))\n",
    "merged_df_normalized_clean = merged_df_normalized[valid_mask]\n",
    "y_clean = y[valid_mask]\n",
    "\n",
    "print(f\"After alignment: X shape {merged_df_normalized_clean.shape}, y length {len(y_clean)}\")\n",
    "print(f\"NaN in y: {y_clean.isna().sum()}\")\n",
    "\n",
    "# Continue with your preprocessing\n",
    "merged_df_normalized_clean = merged_df_normalized_clean.select_dtypes(include='number')\n",
    "merged_df_normalized_clean = merged_df_normalized_clean.fillna(0)"
   ],
   "id": "6898e4e35f21c6a1",
   "outputs": [
    {
     "name": "stdout",
     "output_type": "stream",
     "text": [
      "Samples in expression data: Index(['c69538be-27a1-4949-b04b-5386e4102386',\n",
      "       '8a594674-acc2-40b1-bb50-80d103a9e50a',\n",
      "       'db3fc680-b411-42af-8845-8dd1732815ea',\n",
      "       'ee083116-281e-406c-bdd5-b425f5d2eab0',\n",
      "       '61547668-0038-4e0e-978d-80bfc6307249'],\n",
      "      dtype='object')\n",
      "Samples in target variable: Index(['c69538be-27a1-4949-b04b-5386e4102386',\n",
      "       '8a594674-acc2-40b1-bb50-80d103a9e50a',\n",
      "       'db3fc680-b411-42af-8845-8dd1732815ea',\n",
      "       'ee083116-281e-406c-bdd5-b425f5d2eab0',\n",
      "       '61547668-0038-4e0e-978d-80bfc6307249'],\n",
      "      dtype='object')\n",
      "Common samples: 442\n",
      "After alignment: X shape (441, 19963), y length 441\n",
      "NaN in y: 0\n"
     ]
    }
   ],
   "execution_count": 75
  },
  {
   "metadata": {
    "ExecuteTime": {
     "end_time": "2025-06-21T21:35:41.444769Z",
     "start_time": "2025-06-21T21:35:41.428256Z"
    }
   },
   "cell_type": "code",
   "source": [
    "# Drop non-numeric columns\n",
    "merged_df_normalized = merged_df_normalized.select_dtypes(include='number')\n",
    "\n",
    "# Drop Nan values\n",
    "merged_df_normalized = merged_df_normalized.fillna(0)"
   ],
   "id": "83fe4696c49e9439",
   "outputs": [],
   "execution_count": 52
  },
  {
   "metadata": {
    "ExecuteTime": {
     "end_time": "2025-06-21T21:47:03.384132Z",
     "start_time": "2025-06-21T21:47:03.379830Z"
    }
   },
   "cell_type": "code",
   "source": "merged_df_normalized",
   "id": "7c4fa980b37ebe68",
   "outputs": [
    {
     "data": {
      "text/plain": [
       "Empty DataFrame\n",
       "Columns: [ENSG00000000003, ENSG00000000005, ENSG00000000419, ENSG00000000457, ENSG00000000460, ENSG00000000938, ENSG00000000971, ENSG00000001036, ENSG00000001084, ENSG00000001167, ENSG00000001460, ENSG00000001461, ENSG00000001497, ENSG00000001561, ENSG00000001617, ENSG00000001626, ENSG00000001629, ENSG00000001630, ENSG00000001631, ENSG00000002016, ENSG00000002330, ENSG00000002549, ENSG00000002586, ENSG00000002586, ENSG00000002587, ENSG00000002726, ENSG00000002745, ENSG00000002746, ENSG00000002822, ENSG00000002834, ENSG00000002919, ENSG00000002933, ENSG00000003056, ENSG00000003096, ENSG00000003137, ENSG00000003147, ENSG00000003249, ENSG00000003393, ENSG00000003400, ENSG00000003402, ENSG00000003436, ENSG00000003509, ENSG00000003756, ENSG00000003987, ENSG00000003989, ENSG00000004059, ENSG00000004139, ENSG00000004142, ENSG00000004399, ENSG00000004455, ENSG00000004468, ENSG00000004478, ENSG00000004487, ENSG00000004534, ENSG00000004660, ENSG00000004700, ENSG00000004766, ENSG00000004776, ENSG00000004777, ENSG00000004779, ENSG00000004799, ENSG00000004809, ENSG00000004838, ENSG00000004846, ENSG00000004848, ENSG00000004864, ENSG00000004866, ENSG00000004897, ENSG00000004939, ENSG00000004948, ENSG00000004961, ENSG00000004975, ENSG00000005001, ENSG00000005007, ENSG00000005020, ENSG00000005022, ENSG00000005059, ENSG00000005073, ENSG00000005075, ENSG00000005100, ENSG00000005102, ENSG00000005108, ENSG00000005156, ENSG00000005175, ENSG00000005187, ENSG00000005189, ENSG00000005194, ENSG00000005206, ENSG00000005238, ENSG00000005243, ENSG00000005249, ENSG00000005302, ENSG00000005339, ENSG00000005379, ENSG00000005381, ENSG00000005421, ENSG00000005436, ENSG00000005448, ENSG00000005469, ENSG00000005471, ...]\n",
       "Index: []\n",
       "\n",
       "[0 rows x 19963 columns]"
      ],
      "text/html": [
       "<div>\n",
       "<style scoped>\n",
       "    .dataframe tbody tr th:only-of-type {\n",
       "        vertical-align: middle;\n",
       "    }\n",
       "\n",
       "    .dataframe tbody tr th {\n",
       "        vertical-align: top;\n",
       "    }\n",
       "\n",
       "    .dataframe thead th {\n",
       "        text-align: right;\n",
       "    }\n",
       "</style>\n",
       "<table border=\"1\" class=\"dataframe\">\n",
       "  <thead>\n",
       "    <tr style=\"text-align: right;\">\n",
       "      <th>gene_id</th>\n",
       "      <th>ENSG00000000003</th>\n",
       "      <th>ENSG00000000005</th>\n",
       "      <th>ENSG00000000419</th>\n",
       "      <th>ENSG00000000457</th>\n",
       "      <th>ENSG00000000460</th>\n",
       "      <th>ENSG00000000938</th>\n",
       "      <th>ENSG00000000971</th>\n",
       "      <th>ENSG00000001036</th>\n",
       "      <th>ENSG00000001084</th>\n",
       "      <th>ENSG00000001167</th>\n",
       "      <th>...</th>\n",
       "      <th>ENSG00000288654</th>\n",
       "      <th>ENSG00000288656</th>\n",
       "      <th>ENSG00000288658</th>\n",
       "      <th>ENSG00000288660</th>\n",
       "      <th>ENSG00000288661</th>\n",
       "      <th>ENSG00000288669</th>\n",
       "      <th>ENSG00000288671</th>\n",
       "      <th>ENSG00000288674</th>\n",
       "      <th>ENSG00000288675</th>\n",
       "      <th>condition</th>\n",
       "    </tr>\n",
       "  </thead>\n",
       "  <tbody>\n",
       "  </tbody>\n",
       "</table>\n",
       "<p>0 rows × 19963 columns</p>\n",
       "</div>"
      ]
     },
     "execution_count": 93,
     "metadata": {},
     "output_type": "execute_result"
    }
   ],
   "execution_count": 93
  },
  {
   "metadata": {
    "ExecuteTime": {
     "end_time": "2025-06-21T21:46:55.952057Z",
     "start_time": "2025-06-21T21:46:55.948654Z"
    }
   },
   "cell_type": "code",
   "source": "y_aligned",
   "id": "38600301abd718ad",
   "outputs": [
    {
     "data": {
      "text/plain": [
       "c69538be-27a1-4949-b04b-5386e4102386    0.0\n",
       "8a594674-acc2-40b1-bb50-80d103a9e50a    0.0\n",
       "db3fc680-b411-42af-8845-8dd1732815ea    0.0\n",
       "ee083116-281e-406c-bdd5-b425f5d2eab0    0.0\n",
       "61547668-0038-4e0e-978d-80bfc6307249    0.0\n",
       "                                       ... \n",
       "4b7e2f66-53ee-4578-8b42-5c89c456dfb1    1.0\n",
       "905b5922-dfd0-4e49-babb-a7150b2b2d15    1.0\n",
       "54b3ce4b-fd3d-48ec-a745-c74b660daf4b    1.0\n",
       "8e5a3caf-28eb-4ea7-ba86-1927734b4e24    1.0\n",
       "22c31fec-434a-497c-b9d8-dcbe5b656b67    1.0\n",
       "Name: condition, Length: 442, dtype: float64"
      ]
     },
     "execution_count": 92,
     "metadata": {},
     "output_type": "execute_result"
    }
   ],
   "execution_count": 92
  },
  {
   "metadata": {
    "ExecuteTime": {
     "end_time": "2025-06-21T21:49:14.915199Z",
     "start_time": "2025-06-21T21:49:14.888773Z"
    }
   },
   "cell_type": "code",
   "source": [
    "# Remove NaN values from y and align with expression data\n",
    "print(f\"Before cleaning: y shape {len(y)}, NaN count: {y.isna().sum()}\")\n",
    "\n",
    "# Drop NaN values from y and corresponding rows from X\n",
    "valid_mask = ~y.isna()\n",
    "y_clean = y[valid_mask]\n",
    "merged_df_normalized_clean = merged_df_normalized[valid_mask]\n",
    "\n",
    "print(f\"After cleaning: y shape {len(y_clean)}, X shape {merged_df_normalized_clean.shape}\")\n",
    "print(f\"y unique values: {y_clean.unique()}\")\n",
    "print(f\"NaN in clean y: {y_clean.isna().sum()}\")\n",
    "\n",
    "# Convert to integer for cleaner labels\n",
    "y_clean = y_clean.astype(int)\n",
    "print(f\"Final y dtype: {y_clean.dtype}\")\n",
    "print(f\"Final y unique values: {y_clean.unique()}\")\n",
    "\n",
    "# Now do train_test_split\n",
    "x_train, x_test, y_train, y_test = train_test_split(\n",
    "    merged_df_normalized_clean, y_clean, test_size=0.2, random_state=42, stratify=y_clean\n",
    ")\n",
    "\n",
    "x_train = x_train.to_numpy()\n",
    "x_test = x_test.to_numpy()\n",
    "y_train = y_train.to_numpy()\n",
    "y_test = y_test.to_numpy()\n",
    "\n",
    "print(f\"Final shapes - X_train: {x_train.shape}, y_train: {y_train.shape}\")\n",
    "print(f\"Class distribution - train: {np.bincount(y_train)}, test: {np.bincount(y_test)}\")"
   ],
   "id": "2927171161d802fd",
   "outputs": [
    {
     "name": "stdout",
     "output_type": "stream",
     "text": [
      "Before cleaning: y shape 442, NaN count: 1\n",
      "After cleaning: y shape 441, X shape (0, 19963)\n",
      "y unique values: [0. 1.]\n",
      "NaN in clean y: 0\n",
      "Final y dtype: int64\n",
      "Final y unique values: [0 1]\n"
     ]
    },
    {
     "name": "stderr",
     "output_type": "stream",
     "text": [
      "/var/folders/6s/mwqhy3lx4sz4vx_y7pvbvsdw0000gn/T/ipykernel_8323/3737810476.py:7: UserWarning: Boolean Series key will be reindexed to match DataFrame index.\n",
      "  merged_df_normalized_clean = merged_df_normalized[valid_mask]\n"
     ]
    },
    {
     "ename": "ValueError",
     "evalue": "Found input variables with inconsistent numbers of samples: [0, 441]",
     "output_type": "error",
     "traceback": [
      "\u001B[0;31m---------------------------------------------------------------------------\u001B[0m",
      "\u001B[0;31mValueError\u001B[0m                                Traceback (most recent call last)",
      "Cell \u001B[0;32mIn[98], line 19\u001B[0m\n\u001B[1;32m     16\u001B[0m \u001B[38;5;28mprint\u001B[39m(\u001B[38;5;124mf\u001B[39m\u001B[38;5;124m\"\u001B[39m\u001B[38;5;124mFinal y unique values: \u001B[39m\u001B[38;5;132;01m{\u001B[39;00my_clean\u001B[38;5;241m.\u001B[39munique()\u001B[38;5;132;01m}\u001B[39;00m\u001B[38;5;124m\"\u001B[39m)\n\u001B[1;32m     18\u001B[0m \u001B[38;5;66;03m# Now do train_test_split\u001B[39;00m\n\u001B[0;32m---> 19\u001B[0m x_train, x_test, y_train, y_test \u001B[38;5;241m=\u001B[39m \u001B[43mtrain_test_split\u001B[49m\u001B[43m(\u001B[49m\n\u001B[1;32m     20\u001B[0m \u001B[43m    \u001B[49m\u001B[43mmerged_df_normalized_clean\u001B[49m\u001B[43m,\u001B[49m\u001B[43m \u001B[49m\u001B[43my_clean\u001B[49m\u001B[43m,\u001B[49m\u001B[43m \u001B[49m\u001B[43mtest_size\u001B[49m\u001B[38;5;241;43m=\u001B[39;49m\u001B[38;5;241;43m0.2\u001B[39;49m\u001B[43m,\u001B[49m\u001B[43m \u001B[49m\u001B[43mrandom_state\u001B[49m\u001B[38;5;241;43m=\u001B[39;49m\u001B[38;5;241;43m42\u001B[39;49m\u001B[43m,\u001B[49m\u001B[43m \u001B[49m\u001B[43mstratify\u001B[49m\u001B[38;5;241;43m=\u001B[39;49m\u001B[43my_clean\u001B[49m\n\u001B[1;32m     21\u001B[0m \u001B[43m)\u001B[49m\n\u001B[1;32m     23\u001B[0m x_train \u001B[38;5;241m=\u001B[39m x_train\u001B[38;5;241m.\u001B[39mto_numpy()\n\u001B[1;32m     24\u001B[0m x_test \u001B[38;5;241m=\u001B[39m x_test\u001B[38;5;241m.\u001B[39mto_numpy()\n",
      "File \u001B[0;32m~/PycharmProjects/XAIForB-ALL-good/.venv1/lib/python3.10/site-packages/sklearn/utils/_param_validation.py:213\u001B[0m, in \u001B[0;36mvalidate_params.<locals>.decorator.<locals>.wrapper\u001B[0;34m(*args, **kwargs)\u001B[0m\n\u001B[1;32m    207\u001B[0m \u001B[38;5;28;01mtry\u001B[39;00m:\n\u001B[1;32m    208\u001B[0m     \u001B[38;5;28;01mwith\u001B[39;00m config_context(\n\u001B[1;32m    209\u001B[0m         skip_parameter_validation\u001B[38;5;241m=\u001B[39m(\n\u001B[1;32m    210\u001B[0m             prefer_skip_nested_validation \u001B[38;5;129;01mor\u001B[39;00m global_skip_validation\n\u001B[1;32m    211\u001B[0m         )\n\u001B[1;32m    212\u001B[0m     ):\n\u001B[0;32m--> 213\u001B[0m         \u001B[38;5;28;01mreturn\u001B[39;00m \u001B[43mfunc\u001B[49m\u001B[43m(\u001B[49m\u001B[38;5;241;43m*\u001B[39;49m\u001B[43margs\u001B[49m\u001B[43m,\u001B[49m\u001B[43m \u001B[49m\u001B[38;5;241;43m*\u001B[39;49m\u001B[38;5;241;43m*\u001B[39;49m\u001B[43mkwargs\u001B[49m\u001B[43m)\u001B[49m\n\u001B[1;32m    214\u001B[0m \u001B[38;5;28;01mexcept\u001B[39;00m InvalidParameterError \u001B[38;5;28;01mas\u001B[39;00m e:\n\u001B[1;32m    215\u001B[0m     \u001B[38;5;66;03m# When the function is just a wrapper around an estimator, we allow\u001B[39;00m\n\u001B[1;32m    216\u001B[0m     \u001B[38;5;66;03m# the function to delegate validation to the estimator, but we replace\u001B[39;00m\n\u001B[1;32m    217\u001B[0m     \u001B[38;5;66;03m# the name of the estimator by the name of the function in the error\u001B[39;00m\n\u001B[1;32m    218\u001B[0m     \u001B[38;5;66;03m# message to avoid confusion.\u001B[39;00m\n\u001B[1;32m    219\u001B[0m     msg \u001B[38;5;241m=\u001B[39m re\u001B[38;5;241m.\u001B[39msub(\n\u001B[1;32m    220\u001B[0m         \u001B[38;5;124mr\u001B[39m\u001B[38;5;124m\"\u001B[39m\u001B[38;5;124mparameter of \u001B[39m\u001B[38;5;124m\\\u001B[39m\u001B[38;5;124mw+ must be\u001B[39m\u001B[38;5;124m\"\u001B[39m,\n\u001B[1;32m    221\u001B[0m         \u001B[38;5;124mf\u001B[39m\u001B[38;5;124m\"\u001B[39m\u001B[38;5;124mparameter of \u001B[39m\u001B[38;5;132;01m{\u001B[39;00mfunc\u001B[38;5;241m.\u001B[39m\u001B[38;5;18m__qualname__\u001B[39m\u001B[38;5;132;01m}\u001B[39;00m\u001B[38;5;124m must be\u001B[39m\u001B[38;5;124m\"\u001B[39m,\n\u001B[1;32m    222\u001B[0m         \u001B[38;5;28mstr\u001B[39m(e),\n\u001B[1;32m    223\u001B[0m     )\n",
      "File \u001B[0;32m~/PycharmProjects/XAIForB-ALL-good/.venv1/lib/python3.10/site-packages/sklearn/model_selection/_split.py:2782\u001B[0m, in \u001B[0;36mtrain_test_split\u001B[0;34m(test_size, train_size, random_state, shuffle, stratify, *arrays)\u001B[0m\n\u001B[1;32m   2779\u001B[0m \u001B[38;5;28;01mif\u001B[39;00m n_arrays \u001B[38;5;241m==\u001B[39m \u001B[38;5;241m0\u001B[39m:\n\u001B[1;32m   2780\u001B[0m     \u001B[38;5;28;01mraise\u001B[39;00m \u001B[38;5;167;01mValueError\u001B[39;00m(\u001B[38;5;124m\"\u001B[39m\u001B[38;5;124mAt least one array required as input\u001B[39m\u001B[38;5;124m\"\u001B[39m)\n\u001B[0;32m-> 2782\u001B[0m arrays \u001B[38;5;241m=\u001B[39m \u001B[43mindexable\u001B[49m\u001B[43m(\u001B[49m\u001B[38;5;241;43m*\u001B[39;49m\u001B[43marrays\u001B[49m\u001B[43m)\u001B[49m\n\u001B[1;32m   2784\u001B[0m n_samples \u001B[38;5;241m=\u001B[39m _num_samples(arrays[\u001B[38;5;241m0\u001B[39m])\n\u001B[1;32m   2785\u001B[0m n_train, n_test \u001B[38;5;241m=\u001B[39m _validate_shuffle_split(\n\u001B[1;32m   2786\u001B[0m     n_samples, test_size, train_size, default_test_size\u001B[38;5;241m=\u001B[39m\u001B[38;5;241m0.25\u001B[39m\n\u001B[1;32m   2787\u001B[0m )\n",
      "File \u001B[0;32m~/PycharmProjects/XAIForB-ALL-good/.venv1/lib/python3.10/site-packages/sklearn/utils/validation.py:514\u001B[0m, in \u001B[0;36mindexable\u001B[0;34m(*iterables)\u001B[0m\n\u001B[1;32m    484\u001B[0m \u001B[38;5;250m\u001B[39m\u001B[38;5;124;03m\"\"\"Make arrays indexable for cross-validation.\u001B[39;00m\n\u001B[1;32m    485\u001B[0m \n\u001B[1;32m    486\u001B[0m \u001B[38;5;124;03mChecks consistent length, passes through None, and ensures that everything\u001B[39;00m\n\u001B[0;32m   (...)\u001B[0m\n\u001B[1;32m    510\u001B[0m \u001B[38;5;124;03m[[1, 2, 3], array([2, 3, 4]), None, <...Sparse...dtype 'int64'...shape (3, 1)>]\u001B[39;00m\n\u001B[1;32m    511\u001B[0m \u001B[38;5;124;03m\"\"\"\u001B[39;00m\n\u001B[1;32m    513\u001B[0m result \u001B[38;5;241m=\u001B[39m [_make_indexable(X) \u001B[38;5;28;01mfor\u001B[39;00m X \u001B[38;5;129;01min\u001B[39;00m iterables]\n\u001B[0;32m--> 514\u001B[0m \u001B[43mcheck_consistent_length\u001B[49m\u001B[43m(\u001B[49m\u001B[38;5;241;43m*\u001B[39;49m\u001B[43mresult\u001B[49m\u001B[43m)\u001B[49m\n\u001B[1;32m    515\u001B[0m \u001B[38;5;28;01mreturn\u001B[39;00m result\n",
      "File \u001B[0;32m~/PycharmProjects/XAIForB-ALL-good/.venv1/lib/python3.10/site-packages/sklearn/utils/validation.py:457\u001B[0m, in \u001B[0;36mcheck_consistent_length\u001B[0;34m(*arrays)\u001B[0m\n\u001B[1;32m    455\u001B[0m uniques \u001B[38;5;241m=\u001B[39m np\u001B[38;5;241m.\u001B[39munique(lengths)\n\u001B[1;32m    456\u001B[0m \u001B[38;5;28;01mif\u001B[39;00m \u001B[38;5;28mlen\u001B[39m(uniques) \u001B[38;5;241m>\u001B[39m \u001B[38;5;241m1\u001B[39m:\n\u001B[0;32m--> 457\u001B[0m     \u001B[38;5;28;01mraise\u001B[39;00m \u001B[38;5;167;01mValueError\u001B[39;00m(\n\u001B[1;32m    458\u001B[0m         \u001B[38;5;124m\"\u001B[39m\u001B[38;5;124mFound input variables with inconsistent numbers of samples: \u001B[39m\u001B[38;5;132;01m%r\u001B[39;00m\u001B[38;5;124m\"\u001B[39m\n\u001B[1;32m    459\u001B[0m         \u001B[38;5;241m%\u001B[39m [\u001B[38;5;28mint\u001B[39m(l) \u001B[38;5;28;01mfor\u001B[39;00m l \u001B[38;5;129;01min\u001B[39;00m lengths]\n\u001B[1;32m    460\u001B[0m     )\n",
      "\u001B[0;31mValueError\u001B[0m: Found input variables with inconsistent numbers of samples: [0, 441]"
     ]
    }
   ],
   "execution_count": 98
  },
  {
   "metadata": {},
   "cell_type": "markdown",
   "source": "Train Test Split",
   "id": "bc889aad7d7aee43"
  },
  {
   "metadata": {
    "ExecuteTime": {
     "end_time": "2025-06-21T21:56:43.674222Z",
     "start_time": "2025-06-21T21:56:43.646733Z"
    }
   },
   "cell_type": "code",
   "source": [
    "# merged_df_normalized, y = shuffle(merged_df_normalized, y, random_state=42)\n",
    "\n",
    "# merged_df_normalized.reset_index(drop=True, inplace=True)\n",
    "# y.reset_index(drop=True, inplace=True)\n",
    "\n",
    "x_train, x_test, y_train, y_test = train_test_split(\n",
    "    merged_df_normalized, y, test_size=0.2, random_state=42, stratify=y\n",
    ")\n",
    "\n",
    "x_train = x_train.to_numpy()\n",
    "x_test = x_test.to_numpy()\n",
    "y_train = y_train.to_numpy()\n",
    "y_test = y_test.to_numpy()"
   ],
   "id": "33847755196039b5",
   "outputs": [],
   "execution_count": 129
  },
  {
   "metadata": {},
   "cell_type": "markdown",
   "source": "Undersampler and oversampler",
   "id": "f6c02a9746643283"
  },
  {
   "metadata": {
    "ExecuteTime": {
     "end_time": "2025-06-21T21:58:49.521998Z",
     "start_time": "2025-06-21T21:58:49.389527Z"
    }
   },
   "cell_type": "code",
   "source": [
    "rus = RandomUnderSampler(sampling_strategy={1: 200}, random_state=42)\n",
    "x_train, y_train = rus.fit_resample(x_train, y_train)\n",
    "\n",
    "smote = SMOTE(random_state=42)\n",
    "x_train, y_train = smote.fit_resample(x_train, y_train)"
   ],
   "id": "228c720225dd0602",
   "outputs": [],
   "execution_count": 131
  },
  {
   "metadata": {},
   "cell_type": "markdown",
   "source": "Scaler",
   "id": "4fdf3ee8ebd63538"
  },
  {
   "metadata": {
    "ExecuteTime": {
     "end_time": "2025-06-21T21:58:54.528499Z",
     "start_time": "2025-06-21T21:58:54.478217Z"
    }
   },
   "cell_type": "code",
   "source": [
    "scaler = StandardScaler()\n",
    "\n",
    "x_train = scaler.fit_transform(x_train)\n",
    "x_test = scaler.transform(x_test)"
   ],
   "id": "dce277ee04430d33",
   "outputs": [],
   "execution_count": 132
  },
  {
   "metadata": {},
   "cell_type": "markdown",
   "source": "Noise",
   "id": "9bf70c4de4ee843a"
  },
  {
   "metadata": {},
   "cell_type": "code",
   "outputs": [],
   "execution_count": null,
   "source": [
    "# noise = np.random.normal(0, 0.8, x_train.shape) * x_train\n",
    "\n",
    "# x_train += noise"
   ],
   "id": "4224099478209f60"
  },
  {
   "metadata": {},
   "cell_type": "markdown",
   "source": "Variance Threshold (Remove constants)",
   "id": "cfb8368aaacbdd08"
  },
  {
   "metadata": {
    "ExecuteTime": {
     "end_time": "2025-06-21T21:58:59.436327Z",
     "start_time": "2025-06-21T21:58:59.385027Z"
    }
   },
   "cell_type": "code",
   "source": [
    "selector_vt = VarianceThreshold(threshold=0.0)\n",
    "\n",
    "x_train = selector_vt.fit_transform(x_train)\n",
    "x_test = selector_vt.transform(x_test)"
   ],
   "id": "5313b95c8641e3fe",
   "outputs": [],
   "execution_count": 133
  },
  {
   "metadata": {},
   "cell_type": "markdown",
   "source": "PCA",
   "id": "18f351b90966ddc1"
  },
  {
   "metadata": {},
   "cell_type": "code",
   "outputs": [],
   "execution_count": null,
   "source": [
    "# selector = PCA(n_components=0.95, random_state=42)\n",
    "# x_train = selector.fit_transform(x_noisy)\n",
    "# x_test = selector.transform(x_test)"
   ],
   "id": "d8246b494df1205a"
  },
  {
   "metadata": {},
   "cell_type": "markdown",
   "source": "SelectKBest",
   "id": "85a0870a3417ec64"
  },
  {
   "metadata": {
    "ExecuteTime": {
     "end_time": "2025-06-21T21:59:05.549298Z",
     "start_time": "2025-06-21T21:59:05.484312Z"
    }
   },
   "cell_type": "code",
   "source": [
    "selector = SelectKBest(score_func=f_classif, k=500)\n",
    "x_train = selector.fit_transform(x_train, y_train)\n",
    "x_test = selector.transform(x_test)"
   ],
   "id": "5db274e9ac9b012",
   "outputs": [],
   "execution_count": 134
  },
  {
   "metadata": {},
   "cell_type": "code",
   "outputs": [],
   "execution_count": null,
   "source": [
    "# train_fac = 0.1\n",
    "\n",
    "# x_train, y_train = resample(\n",
    "#     x_train, y_train, \n",
    "#     replace=False, \n",
    "#     n_samples=int(len(x_train) * train_fac),\n",
    "#     stratify=y_train,\n",
    "#     random_state=42\n",
    "# )\n",
    "\n",
    "# print(x_train.shape)"
   ],
   "id": "a767504ba9615b4b"
  },
  {
   "metadata": {},
   "cell_type": "code",
   "outputs": [],
   "execution_count": null,
   "source": [
    "# gene_names_worst = gene_names.iloc[mixed_indices].reset_index(drop=True)\n",
    "\n",
    "# gene_names = gene_names[selector.get_support(indices=True)].reset_index(drop=True)"
   ],
   "id": "7a7a347de7a11b98"
  },
  {
   "metadata": {},
   "cell_type": "markdown",
   "source": "Random features",
   "id": "80bec14307432342"
  },
  {
   "metadata": {},
   "cell_type": "code",
   "outputs": [],
   "execution_count": null,
   "source": [
    "# n_train, n_features = x_noisy.shape\n",
    "# n_test = x_test.shape[0]\n",
    "\n",
    "# x_train = np.random.normal(0, 1, size=(n_train, n_features))\n",
    "# x_test = np.random.normal(0, 1, size=(n_test, n_features))"
   ],
   "id": "d374fa9007265064"
  },
  {
   "metadata": {
    "ExecuteTime": {
     "end_time": "2025-06-21T21:59:11.907075Z",
     "start_time": "2025-06-21T21:59:11.905016Z"
    }
   },
   "cell_type": "code",
   "source": [
    "print(f\"Shape of x_train after feature selection: {x_train.shape}\"\n",
    "      f\", Shape of x_test: {x_test.shape}\")"
   ],
   "id": "88d3bc897500c6e8",
   "outputs": [
    {
     "name": "stdout",
     "output_type": "stream",
     "text": [
      "Shape of x_train after feature selection: (400, 500), Shape of x_test: (89, 500)\n"
     ]
    }
   ],
   "execution_count": 135
  },
  {
   "metadata": {
    "ExecuteTime": {
     "end_time": "2025-06-21T21:59:14.658489Z",
     "start_time": "2025-06-21T21:59:14.655591Z"
    }
   },
   "cell_type": "code",
   "source": [
    "if x_train.shape[0] != y_train.shape[0] or x_test.shape[0] != y_test.shape[0]:\n",
    "    raise ValueError(\"Mismatch: number of samples in X_train/X_test and labels in y_train/y_test\")\n",
    "\n",
    "if sum(y_train == 1) == 0 or sum(y_train == 0) == 0:\n",
    "    raise ValueError(\"Training set must contain both classes (B-ALL and non-B-ALL).\")\n",
    "\n",
    "if isinstance(y_train, pd.DataFrame) or isinstance(y_test, pd.DataFrame):\n",
    "    raise ValueError(\"y_train and y_test must be Series, not DataFrames.\")"
   ],
   "id": "b4a50e84c409df08",
   "outputs": [],
   "execution_count": 136
  },
  {
   "metadata": {},
   "cell_type": "markdown",
   "source": "Logistic Regression",
   "id": "674f115aa3b33a9"
  },
  {
   "metadata": {
    "ExecuteTime": {
     "end_time": "2025-06-21T21:59:42.651964Z",
     "start_time": "2025-06-21T21:59:42.606913Z"
    }
   },
   "cell_type": "code",
   "source": [
    "lr = LogisticRegression(\n",
    "    penalty='l2',\n",
    "    C=0.1,\n",
    "    solver='liblinear',\n",
    "    random_state=42,\n",
    "    max_iter=1000,\n",
    "    class_weight='balanced'\n",
    ")\n",
    "\n",
    "lr.fit(x_train, y_train)\n",
    "\n",
    "y_proba = lr.predict_proba(x_test)[:, 1]\n",
    "\n",
    "auc_score = roc_auc_score(y_test, y_proba)\n",
    "\n",
    "print(f\"AUC: {auc_score:.3f}\")"
   ],
   "id": "2795e18fa74f2175",
   "outputs": [
    {
     "name": "stdout",
     "output_type": "stream",
     "text": [
      "AUC: 1.000\n"
     ]
    }
   ],
   "execution_count": 138
  },
  {
   "metadata": {},
   "cell_type": "markdown",
   "source": "XGBClassifier",
   "id": "9b66bf7fccb13c61"
  },
  {
   "metadata": {},
   "cell_type": "code",
   "outputs": [],
   "execution_count": null,
   "source": [
    "# scale_pos_weight = sum(y_train == 0) / sum(y_train == 1)\n",
    "\n",
    "# xgb = XGBClassifier(\n",
    "#     objective=\"binary:logistic\",\n",
    "#     eval_metric=\"auc\",\n",
    "#     use_label_encoder=False,\n",
    "#     # scale_pos_weight=scale_pos_weight,  # Keep this for class imbalance\n",
    "#     tree_method=\"hist\",\n",
    "#     device=\"cuda\",\n",
    "    \n",
    "#     # Core parameters\n",
    "#     n_estimators=500,        # More trees, let early stopping decide\n",
    "#     learning_rate=0.05,      # Moderate learning rate\n",
    "#     max_depth=4,             # Allow some complexity for gene interactions\n",
    "    \n",
    "#     # Regularization (important for high-dimensional genomics)\n",
    "#     reg_lambda=5.0,          # L2 regularization\n",
    "#     reg_alpha=1.0,           # L1 regularization (feature selection)\n",
    "    \n",
    "#     # Sampling (reduces overfitting)\n",
    "#     subsample=0.8,           # Sample 80% of rows\n",
    "#     colsample_bytree=0.8,    # Sample 80% of features per tree\n",
    "#     colsample_bylevel=0.8,   # Additional feature sampling\n",
    "    \n",
    "#     # Early stopping\n",
    "#     early_stopping_rounds=50,  # Stop if no improvement\n",
    "    \n",
    "#     # Reproducibility\n",
    "#     random_state=42\n",
    "# )\n",
    "\n",
    "# xgb = XGBClassifier(\n",
    "#     objective=\"binary:logistic\",\n",
    "#     eval_metric=\"auc\",\n",
    "#     use_label_encoder=False,\n",
    "#     tree_method=\"hist\",\n",
    "#     device=\"cuda\",\n",
    "    \n",
    "#     # Reduced model complexity\n",
    "#     n_estimators=50,          # Much fewer trees (was 500)\n",
    "#     learning_rate=0.3,        # Higher learning rate for faster, less precise learning\n",
    "#     max_depth=2,              # Shallow trees (was 4)\n",
    "    \n",
    "#     # Increased regularization\n",
    "#     reg_lambda=20.0,          # Much higher L2 regularization (was 5.0)\n",
    "#     reg_alpha=10.0,           # Higher L1 regularization (was 1.0)\n",
    "    \n",
    "#     # More aggressive sampling\n",
    "#     subsample=0.5,            # Sample only 50% of rows (was 0.8)\n",
    "#     colsample_bytree=0.5,     # Sample only 50% of features per tree (was 0.8)\n",
    "#     colsample_bylevel=0.5,    # More aggressive feature sampling (was 0.8)\n",
    "    \n",
    "#     # Early stopping (keep as is)\n",
    "#     early_stopping_rounds=20, # Stop earlier (was 50)\n",
    "    \n",
    "#     # Reproducibility\n",
    "#     random_state=42\n",
    "# )\n",
    "\n",
    "# xgb.fit(x_train, y_train, eval_set=[(x_test, y_test)], verbose=True)\n",
    "\n",
    "# gpu_x_test = DMatrix(x_test, y_test)\n",
    "\n",
    "# y_pred = xgb.get_booster().predict(gpu_x_test)\n",
    "\n",
    "# y_proba = xgb.predict_proba(x_test)[:, 1]  # Get probabilities for the positive class\n",
    "\n",
    "# auc_score = roc_auc_score(y_test, y_proba)\n",
    "\n",
    "# print(f\"AUC: {auc_score:.3f}\")"
   ],
   "id": "92acdfe76ab853a2"
  },
  {
   "metadata": {},
   "cell_type": "markdown",
   "source": "### Statistics and Plots",
   "id": "5b67de176231b68a"
  },
  {
   "metadata": {},
   "cell_type": "markdown",
   "source": "Check seperator genes",
   "id": "5f699b078ddd0045"
  },
  {
   "metadata": {
    "ExecuteTime": {
     "end_time": "2025-06-21T21:59:50.069041Z",
     "start_time": "2025-06-21T21:59:49.574389Z"
    }
   },
   "cell_type": "code",
   "source": [
    "print(x_train.shape)\n",
    "\n",
    "gene_aucs = []\n",
    "\n",
    "for i in range(x_train.shape[1]):\n",
    "    gene_values = x_train[:, i]\n",
    "    try:\n",
    "        auc_value = roc_auc_score(y_train, gene_values)\n",
    "        gene_aucs.append((i, auc_value))\n",
    "    except ValueError:\n",
    "        continue\n",
    "\n",
    "gene_aucs = np.array(gene_aucs, dtype=[('index', int), ('auc', float)])\n",
    "\n",
    "gene_aucs_df = pd.DataFrame({\n",
    "    \"gene\": gene_aucs['index'],\n",
    "    \"auc\": gene_aucs['auc']\n",
    "})\n",
    "gene_aucs_df[\"auc_diff\"] = abs(gene_aucs_df[\"auc\"] - 0.5)  # How far from random\n",
    "gene_aucs_df = gene_aucs_df.sort_values(\"auc_diff\", ascending=False)\n",
    "\n",
    "top_genes = gene_aucs_df.head(5)['gene'].astype(int).tolist()\n",
    "\n",
    "for i in top_genes[:5]:  # visualize top 5 for example\n",
    "    # Create a DataFrame manually\n",
    "    df_plot = pd.DataFrame({\n",
    "        'Expression': x_train[:, i],\n",
    "        'Class': y_train\n",
    "    })\n",
    "    sns.boxplot(data=df_plot, x='Class', y='Expression')\n",
    "    plt.title(f'Expression of Gene by Class')\n",
    "    plt.show()"
   ],
   "id": "3a740e4673ac6062",
   "outputs": [
    {
     "name": "stdout",
     "output_type": "stream",
     "text": [
      "(400, 500)\n"
     ]
    },
    {
     "data": {
      "text/plain": [
       "<Figure size 640x480 with 1 Axes>"
      ],
      "image/png": "[encoded data removed]"
     },
     "metadata": {},
     "output_type": "display_data"
    },
    {
     "data": {
      "text/plain": [
       "<Figure size 640x480 with 1 Axes>"
      ],
      "image/png": "[encoded data removed]"
     },
     "metadata": {},
     "output_type": "display_data"
    },
    {
     "data": {
      "text/plain": [
       "<Figure size 640x480 with 1 Axes>"
      ],
      "image/png": "[encoded data removed]"
     },
     "metadata": {},
     "output_type": "display_data"
    },
    {
     "data": {
      "text/plain": [
       "<Figure size 640x480 with 1 Axes>"
      ],
      "image/png": "[encoded data removed]"
     },
     "metadata": {},
     "output_type": "display_data"
    },
    {
     "data": {
      "text/plain": [
       "<Figure size 640x480 with 1 Axes>"
      ],
      "image/png": "[encoded data removed]"
     },
     "metadata": {},
     "output_type": "display_data"
    }
   ],
   "execution_count": 139
  },
  {
   "metadata": {},
   "cell_type": "markdown",
   "source": "Plot Prediction Score Distributions",
   "id": "7a7f8e68c9e7bdf"
  },
  {
   "metadata": {
    "ExecuteTime": {
     "end_time": "2025-06-21T21:59:53.601832Z",
     "start_time": "2025-06-21T21:59:53.407295Z"
    }
   },
   "cell_type": "code",
   "source": [
    "# Wrap predictions into a DataFrame for easier slicing\n",
    "df_scores = pd.DataFrame({\n",
    "    \"B_ALL_score\": y_proba,\n",
    "    \"Label\": y_test  # ensure matching index\n",
    "})\n",
    "\n",
    "# Plot for known B-ALL (positives)\n",
    "plt.figure(figsize=(7, 4))\n",
    "sns.histplot(df_scores[df_scores[\"Label\"] == 1][\"B_ALL_score\"], color=\"blue\", bins=25, kde=True)\n",
    "plt.title(\"Predicted B-ALL Score — Known B-ALL Samples\")\n",
    "plt.xlabel(\"Predicted Probability of B-ALL\")\n",
    "plt.ylabel(\"Sample Count\")\n",
    "plt.tight_layout()\n",
    "plt.show()\n",
    "\n",
    "# Plot for unlabeled/mixed\n",
    "plt.figure(figsize=(7, 4))\n",
    "sns.histplot(df_scores[df_scores[\"Label\"] == 0][\"B_ALL_score\"], color=\"red\", bins=25, kde=True)\n",
    "plt.title(\"Predicted B-ALL Score — Unlabeled Samples\")\n",
    "plt.xlabel(\"Predicted Probability of B-ALL\")\n",
    "plt.ylabel(\"Sample Count\")\n",
    "plt.tight_layout()\n",
    "plt.show()"
   ],
   "id": "be655275342b0fd7",
   "outputs": [
    {
     "data": {
      "text/plain": [
       "<Figure size 700x400 with 1 Axes>"
      ],
      "image/png": "[encoded data removed]"
     },
     "metadata": {},
     "output_type": "display_data"
    },
    {
     "data": {
      "text/plain": [
       "<Figure size 700x400 with 1 Axes>"
      ],
      "image/png": "[encoded data removed]"
     },
     "metadata": {},
     "output_type": "display_data"
    }
   ],
   "execution_count": 140
  },
  {
   "metadata": {},
   "cell_type": "markdown",
   "source": "Precision recall curve",
   "id": "7dfacd1375961f0e"
  },
  {
   "metadata": {
    "ExecuteTime": {
     "end_time": "2025-06-21T21:59:58.668931Z",
     "start_time": "2025-06-21T21:59:58.595366Z"
    }
   },
   "cell_type": "code",
   "source": [
    "precision, recall, thresholds = precision_recall_curve(y_test, y_proba)\n",
    "pr_auc = auc(recall, precision)\n",
    "\n",
    "plt.figure(figsize=(7, 5))\n",
    "plt.plot(recall, precision, marker='.', label=f'PR AUC = {pr_auc:.3f}')\n",
    "plt.xlabel('Recall')\n",
    "plt.ylabel('Precision')\n",
    "plt.title('Precision-Recall Curve')\n",
    "plt.legend()\n",
    "plt.grid(True)\n",
    "plt.tight_layout()\n",
    "plt.show()"
   ],
   "id": "dead70fe34ffdd31",
   "outputs": [
    {
     "data": {
      "text/plain": [
       "<Figure size 700x500 with 1 Axes>"
      ],
      "image/png": "[encoded data removed]"
     },
     "metadata": {},
     "output_type": "display_data"
    }
   ],
   "execution_count": 141
  },
  {
   "metadata": {},
   "cell_type": "markdown",
   "source": "SHAP",
   "id": "c9cb2e4534a4c9f0"
  },
  {
   "metadata": {},
   "cell_type": "code",
   "outputs": [],
   "execution_count": null,
   "source": [
    "# x_test_named = pd.DataFrame(x_test, columns=gene_names)\n",
    "\n",
    "# x_test_named.head()\n",
    "\n",
    "# Use the actual gene names directly\n",
    "# explainer = shap.TreeExplainer(xgb)\n",
    "explainer = shap.LinearExplainer(lr, x_train, feature_perturbation=\"interventional\")\n",
    "shap_values = explainer.shap_values(x_test)\n",
    "\n",
    "shap.summary_plot(shap_values, x_test, \n",
    "                  plot_type=\"violin\", \n",
    "                  max_display=20)"
   ],
   "id": "ed2eb9e1df6873c1"
  },
  {
   "metadata": {},
   "cell_type": "code",
   "outputs": [],
   "execution_count": null,
   "source": "shap.summary_plot(shap_values, x_test, plot_type=\"bar\", max_display=20)",
   "id": "28aea1d7f34118c3"
  },
  {
   "metadata": {},
   "cell_type": "markdown",
   "source": "## XGBoost (Stratified KFold)",
   "id": "8b6f7ffc826d5f72"
  },
  {
   "metadata": {},
   "cell_type": "markdown",
   "source": "### Preprocessing",
   "id": "54ee1b85ef66bbf9"
  },
  {
   "metadata": {},
   "cell_type": "markdown",
   "source": "#### PU Labeling",
   "id": "263393b489b67029"
  },
  {
   "metadata": {},
   "cell_type": "code",
   "outputs": [],
   "execution_count": null,
   "source": "y = pd.Series([1] * b_all_length + [0] * (mixed_all_length), index=merged_df_transposed.index)",
   "id": "b00a84067e9c6065"
  },
  {
   "metadata": {},
   "cell_type": "markdown",
   "source": "#### Sanity Check",
   "id": "a846f5774d214959"
  },
  {
   "metadata": {},
   "cell_type": "code",
   "outputs": [],
   "execution_count": null,
   "source": [
    "assert merged_df_transposed.shape[0] == len(y), \"Mismatch: number of samples in X and labels in y\"\n",
    "assert merged_df_transposed.index.equals(y.index), \"Mismatch: index order between X and y\""
   ],
   "id": "d1f924d2406ba0f4"
  },
  {
   "metadata": {},
   "cell_type": "markdown",
   "source": "### Training",
   "id": "3fc6ff6639bab368"
  },
  {
   "metadata": {},
   "cell_type": "code",
   "outputs": [],
   "execution_count": null,
   "source": [
    "skf = StratifiedKFold(n_splits=5, shuffle=True, random_state=42)\n",
    "auc_scores = []\n",
    "\n",
    "x = merged_df_transposed\n",
    "\n",
    "for fold, (train_index, val_index) in enumerate(skf.split(x, y)):\n",
    "    print(f\"Processing fold {fold + 1}...\")\n",
    "\n",
    "    x_train_fold, x_val_fold = x.iloc[train_index], x.iloc[val_index]\n",
    "    y_train_fold, y_val_fold = y.iloc[train_index], y.iloc[val_index]\n",
    "\n",
    "    x_train_fold = np.log2(x_train_fold + 1)  # Log2 transformation\n",
    "    x_val_fold = np.log2(x_val_fold + 1)      # Log2 transformation\n",
    "\n",
    "    scaler = StandardScaler()\n",
    "    x_train_fold = scaler.fit_transform(x_train_fold)\n",
    "    x_val_fold = scaler.transform(x_val_fold)\n",
    "\n",
    "    selector = SelectKBest(score_func=f_classif, k=5)\n",
    "    x_train_fold = selector.fit_transform(x_train_fold, y_train_fold)\n",
    "    x_val_fold = selector.transform(x_val_fold)\n",
    "\n",
    "    scale_pos_weight = sum(y_train_fold == 0) / sum(y_train_fold == 1)\n",
    "\n",
    "    xgb = XGBClassifier(\n",
    "        objective=\"binary:logistic\",\n",
    "        eval_metric=\"auc\",\n",
    "        use_label_encoder=False,\n",
    "        scale_pos_weight=scale_pos_weight,  # Keep this for class imbalance\n",
    "        tree_method=\"hist\",\n",
    "        # device=\"cuda\",\n",
    "        \n",
    "        # Core parameters\n",
    "        n_estimators=500,        # More trees, let early stopping decide\n",
    "        learning_rate=0.05,      # Moderate learning rate\n",
    "        max_depth=4,             # Allow some complexity for gene interactions\n",
    "        \n",
    "        # Regularization (important for high-dimensional genomics)\n",
    "        reg_lambda=5.0,          # L2 regularization\n",
    "        reg_alpha=1.0,           # L1 regularization (feature selection)\n",
    "        \n",
    "        # Sampling (reduces overfitting)\n",
    "        subsample=0.8,           # Sample 80% of rows\n",
    "        colsample_bytree=0.8,    # Sample 80% of features per tree\n",
    "        colsample_bylevel=0.8,   # Additional feature sampling\n",
    "        \n",
    "        # Early stopping\n",
    "        early_stopping_rounds=50,  # Stop if no improvement\n",
    "        \n",
    "        # Reproducibility\n",
    "        random_state=42\n",
    "    )\n",
    "\n",
    "    xgb.fit(x_train_fold, y_train_fold, eval_set=[(x_val_fold, y_val_fold)], verbose=False)\n",
    "\n",
    "    y_proba = xgb.predict_proba(x_val_fold)[:, 1]  # Get probabilities for the positive class\n",
    "\n",
    "    auc_fold = roc_auc_score(y_val_fold, y_proba)\n",
    "\n",
    "    auc_scores.append(auc_fold)\n",
    "\n",
    "    print(f\"Fold {fold + 1}, AUC: {auc_fold:.3f}\")\n",
    "\n",
    "print(f\"Mean AUC across all folds: {np.mean(auc_scores):.3f} ± {np.std(auc_scores):.3f}\")"
   ],
   "id": "71681cb43cdac96"
  },
  {
   "metadata": {},
   "cell_type": "markdown",
   "source": "### Statistics and Plots",
   "id": "5f27b5a70836c7bb"
  },
  {
   "metadata": {},
   "cell_type": "code",
   "outputs": [],
   "execution_count": null,
   "source": [
    "sns.histplot(auc_scores, kde=True, bins=5)\n",
    "plt.title(\"Distribution of AUC Scores Across Folds\")\n",
    "plt.xlabel(\"AUC\")\n",
    "plt.ylabel(\"Number of Folds\")\n",
    "plt.axvline(np.mean(auc_scores), color=\"red\", linestyle=\"--\", label=\"Mean AUC\")\n",
    "plt.legend()\n",
    "plt.show()"
   ],
   "id": "5b37825788bbb85c"
  }
 ],
 "metadata": {
  "kernelspec": {
   "display_name": "Python 3",
   "language": "python",
   "name": "python3"
  },
  "language_info": {
   "codemirror_mode": {
    "name": "ipython",
    "version": 3
   },
   "file_extension": ".py",
   "mimetype": "text/x-python",
   "name": "python",
   "nbconvert_exporter": "python",
   "pygments_lexer": "ipython3",
   "version": "3.12.10"
  }
 },
 "nbformat": 4,
 "nbformat_minor": 5
}
