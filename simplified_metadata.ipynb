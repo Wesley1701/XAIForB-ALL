{
 "cells": [
  {
   "metadata": {},
   "cell_type": "code",
   "outputs": [],
   "execution_count": null,
   "source": "# Jupyter Notebook: Create Basic Metadata from an Existing Merged Count File",
   "id": "f28ab0ebfd4507fa"
  },
  {
   "metadata": {},
   "cell_type": "code",
   "outputs": [],
   "execution_count": null,
   "source": "# ## 1. Introduction and Goal",
   "id": "5dc706dee767db0"
  },
  {
   "metadata": {
    "ExecuteTime": {
     "end_time": "2025-06-12T11:59:08.608768Z",
     "start_time": "2025-06-12T11:59:08.366160Z"
    }
   },
   "cell_type": "code",
   "source": [
    "# This notebook creates a simple metadata file directly from a pre-merged\n",
    "# raw count matrix. It's designed to solve sample ID mismatch issues when the\n",
    "# original mapping information is unavailable or inconsistent.\n",
    "#\n",
    "# It works by making a simple assumption:\n",
    "# - Sample IDs starting with \"GTEX-\" are labeled 'healthy'.\n",
    "# - All other sample IDs are labeled 'unhealthy'.\n",
    "\n",
    "import pandas as pd\n",
    "import os"
   ],
   "id": "a7f84547c33c712b",
   "outputs": [],
   "execution_count": 1
  },
  {
   "metadata": {},
   "cell_type": "code",
   "outputs": [],
   "execution_count": null,
   "source": "# ## 2. Configuration",
   "id": "c8603e946ab6839"
  },
  {
   "metadata": {
    "ExecuteTime": {
     "end_time": "2025-06-12T11:59:09.211861Z",
     "start_time": "2025-06-12T11:59:09.208928Z"
    }
   },
   "cell_type": "code",
   "source": [
    "# --- ADJUST THESE PATHS ---\n",
    "\n",
    "# Input: Path to the pre-merged raw count file from your colleague.\n",
    "# This file should have samples as rows and genes as columns.\n",
    "MERGED_COUNTS_FILE = 'metadata/merged dataset/merged_dataset.csv'\n",
    "\n",
    "# Output: Path where the new, simple metadata file will be saved.\n",
    "SIMPLE_METADATA_OUTPUT_FILE = 'metadata/simple_metadata_for_pydeseq2.csv'\n",
    "\n",
    "# --- Labels ---\n",
    "HEALTHY_LABEL = 'healthy'\n",
    "UNHEALTHY_LABEL = 'unhealthy' # You can change this to 'B_ALL' if you prefer\n",
    "\n",
    "# Create data directory if it doesn't exist\n",
    "os.makedirs('data', exist_ok=True)"
   ],
   "id": "279847428369db6e",
   "outputs": [],
   "execution_count": 2
  },
  {
   "metadata": {},
   "cell_type": "code",
   "outputs": [],
   "execution_count": null,
   "source": "# ## 3. Load Merged Count Data and Create Metadata",
   "id": "2022b822041dfcde"
  },
  {
   "metadata": {
    "ExecuteTime": {
     "end_time": "2025-06-12T11:59:15.536541Z",
     "start_time": "2025-06-12T11:59:11.635662Z"
    }
   },
   "cell_type": "code",
   "source": [
    "print(f\"--- Creating Basic Metadata from {MERGED_COUNTS_FILE} ---\")\n",
    "basic_metadata_df = pd.DataFrame()\n",
    "\n",
    "if os.path.exists(MERGED_COUNTS_FILE):\n",
    "    try:\n",
    "        # Load only the index (sample IDs) of the count file to save memory\n",
    "        print(f\"Reading sample IDs from: {MERGED_COUNTS_FILE}\")\n",
    "        # Added engine='python' to handle potential parsing issues.\n",
    "        sample_ids = pd.read_csv(MERGED_COUNTS_FILE, index_col=0, usecols=[0], engine='python').index\n",
    "        print(f\"✓ Found {len(sample_ids)} sample IDs.\")\n",
    "\n",
    "        # Create a new DataFrame using these sample IDs as the index\n",
    "        basic_metadata_df = pd.DataFrame(index=sample_ids)\n",
    "        basic_metadata_df.index.name = 'SAMPID'\n",
    "\n",
    "        # Create the 'condition' column based on the heuristic\n",
    "        print(f\"Assigning conditions: 'healthy' if ID starts with 'GTEX-', otherwise '{UNHEALTHY_LABEL}'.\")\n",
    "\n",
    "        conditions = [HEALTHY_LABEL if str(sid).startswith('GTEX-') else UNHEALTHY_LABEL for sid in basic_metadata_df.index]\n",
    "        basic_metadata_df['condition'] = conditions\n",
    "\n",
    "        print(\"\\n--- Metadata Creation Summary ---\")\n",
    "        print(f\"Shape of new metadata file: {basic_metadata_df.shape}\")\n",
    "        print(\"Value counts for 'condition' column:\")\n",
    "        print(basic_metadata_df['condition'].value_counts())\n",
    "\n",
    "        print(\"\\nMetadata Head (first 5 rows):\")\n",
    "        print(basic_metadata_df.head())\n",
    "        print(\"\\nMetadata Tail (last 5 rows):\")\n",
    "        print(basic_metadata_df.tail())\n",
    "\n",
    "    except Exception as e:\n",
    "        print(f\"❌ ERROR: Failed to load or process the merged count file: {e}\")\n",
    "        basic_metadata_df = pd.DataFrame() # Ensure it's empty on failure\n",
    "\n",
    "else:\n",
    "    print(f\"❌ ERROR: Merged count file not found at {MERGED_COUNTS_FILE}\")\n",
    "\n",
    "# ## 4. Save the New Basic Metadata File\n",
    "if not basic_metadata_df.empty:\n",
    "    print(f\"\\nSaving new basic metadata to: {SIMPLE_METADATA_OUTPUT_FILE}\")\n",
    "    try:\n",
    "        basic_metadata_df.to_csv(SIMPLE_METADATA_OUTPUT_FILE, index=True)\n",
    "        print(\"✓ Successfully saved the new metadata file.\")\n",
    "        print(\"\\n--- Next Steps ---\")\n",
    "        print(\"You can now use this file as the 'METADATA_FILE' in your 'pydeseq2_normalization_final' notebook.\")\n",
    "        print(f\"And use '{MERGED_COUNTS_FILE}' as the 'RAW_COUNTS_FILE'.\")\n",
    "    except Exception as e:\n",
    "        print(f\"❌ ERROR: Could not save the metadata file: {e}\")\n",
    "else:\n",
    "    print(\"\\nSkipping save because metadata was not created due to previous errors.\")\n",
    "\n",
    "print(\"\\n--- Notebook execution finished ---\")\n"
   ],
   "id": "a74f841eb65cd8d5",
   "outputs": [
    {
     "name": "stdout",
     "output_type": "stream",
     "text": [
      "--- Creating Basic Metadata from metadata/merged dataset/merged_dataset.csv ---\n",
      "Reading sample IDs from: metadata/merged dataset/merged_dataset.csv\n",
      "✓ Found 1895 sample IDs.\n",
      "Assigning conditions: 'healthy' if ID starts with 'GTEX-', otherwise 'unhealthy'.\n",
      "\n",
      "--- Metadata Creation Summary ---\n",
      "Shape of new metadata file: (1895, 1)\n",
      "Value counts for 'condition' column:\n",
      "condition\n",
      "healthy      1000\n",
      "unhealthy     895\n",
      "Name: count, dtype: int64\n",
      "\n",
      "Metadata Head (first 5 rows):\n",
      "                              condition\n",
      "SAMPID                                 \n",
      "GTEX-1117F-0011-R11b-SM-GIN8R   healthy\n",
      "GTEX-1117F-1426-SM-H65ZH        healthy\n",
      "GTEX-1117F-3226-SM-5N9CT        healthy\n",
      "GTEX-111CU-0826-SM-5EGIJ        healthy\n",
      "GTEX-111CU-1226-SM-5EGIN        healthy\n",
      "\n",
      "Metadata Tail (last 5 rows):\n",
      "                                      condition\n",
      "SAMPID                                         \n",
      "fe9ca1c7-58be-4123-8742-68843ff9881b  unhealthy\n",
      "fff4dfba-2d68-4c05-9d1d-70f410afe6d4  unhealthy\n",
      "c2f59459-f7e1-48ae-b1e0-7720085ca685  unhealthy\n",
      "571b4d3b-fce0-403b-a99c-2e58c338f70d  unhealthy\n",
      "771ef539-368a-4523-bfbc-6f7fc96de534  unhealthy\n",
      "\n",
      "Saving new basic metadata to: data/simple_metadata_for_pydeseq2.csv\n",
      "✓ Successfully saved the new metadata file.\n",
      "\n",
      "--- Next Steps ---\n",
      "You can now use this file as the 'METADATA_FILE' in your 'pydeseq2_normalization_final' notebook.\n",
      "And use 'metadata/merged dataset/merged_dataset.csv' as the 'RAW_COUNTS_FILE'.\n",
      "\n",
      "--- Notebook execution finished ---\n"
     ]
    }
   ],
   "execution_count": 3
  }
 ],
 "metadata": {
  "kernelspec": {
   "display_name": "Python 3",
   "language": "python",
   "name": "python3"
  },
  "language_info": {
   "codemirror_mode": {
    "name": "ipython",
    "version": 2
   },
   "file_extension": ".py",
   "mimetype": "text/x-python",
   "name": "python",
   "nbconvert_exporter": "python",
   "pygments_lexer": "ipython2",
   "version": "2.7.6"
  }
 },
 "nbformat": 4,
 "nbformat_minor": 5
}
