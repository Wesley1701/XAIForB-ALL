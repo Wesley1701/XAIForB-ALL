{
 "cells": [
  {
   "metadata": {},
   "cell_type": "code",
   "outputs": [],
   "execution_count": null,
   "source": [
    "import pyensembl\n",
    "from pyensembl import EnsemblRelease\n",
    "import pandas\n",
    "import numpy\n"
   ],
   "id": "9482d6f3a331af49"
  },
  {
   "metadata": {},
   "cell_type": "code",
   "outputs": [],
   "execution_count": null,
   "source": [
    "%%bash\n",
    "# Download the latest Ensembl release data\n",
    "pyensembl install --release 104 --species human"
   ],
   "id": "34e3ebaf8347982b"
  },
  {
   "metadata": {},
   "cell_type": "code",
   "outputs": [],
   "execution_count": null,
   "source": [
    "# Load the human genome data\n",
    "\n",
    "pyensembl = EnsemblRelease(\n",
    "    release=104,  # Specify the Ensembl release version\n",
    "    species=\"human\"  # Specify the species\n",
    ")"
   ],
   "id": "e053868d40b53686"
  },
  {
   "metadata": {},
   "cell_type": "code",
   "outputs": [],
   "execution_count": null,
   "source": [
    "# ENSG00000201789\n",
    "gene = pyensembl.gene_by_id('ENSG00000201789')\n",
    "# Print gene information\n",
    "print(f\"Gene ID: {gene.id}\")"
   ],
   "id": "c0b493161507bf44"
  }
 ],
 "metadata": {},
 "nbformat": 5,
 "nbformat_minor": 9
}
